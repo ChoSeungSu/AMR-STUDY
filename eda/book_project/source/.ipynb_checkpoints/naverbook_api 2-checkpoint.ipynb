{
 "cells": [
  {
   "cell_type": "code",
   "execution_count": 1,
   "metadata": {},
   "outputs": [],
   "source": [
    "import os\n",
    "import sys\n",
    "import urllib.request\n",
    "import matplotlib.pyplot as plt \n",
    "import matplotlib"
   ]
  },
  {
   "cell_type": "code",
   "execution_count": 2,
   "metadata": {},
   "outputs": [],
   "source": [
    "from matplotlib import rc \n",
    "\n",
    "rc('font', family='D2Coding') ## 한글 출력시 폰트 변경\n",
    "matplotlib.rcParams['axes.unicode_minus'] = False ## - 폰트 깨짐 방지"
   ]
  },
  {
   "cell_type": "code",
   "execution_count": 3,
   "metadata": {},
   "outputs": [],
   "source": [
    "import os\n",
    "import sys\n",
    "import urllib.request\n",
    "\n",
    "def gen_search_url(api_node, search_text, start_num, disp_num):\n",
    "    base = \"https://openapi.naver.com/v1/search\"\n",
    "    node = '/' + api_node + '.json'\n",
    "    param_query = '?query=' + urllib.parse.quote(search_text)\n",
    "    param_start = '&start=' + str(start_num)\n",
    "    param_disp = \"&display=\" + str(disp_num)\n",
    "    \n",
    "    return base + node + param_query + param_start + param_disp"
   ]
  },
  {
   "cell_type": "code",
   "execution_count": 4,
   "metadata": {},
   "outputs": [],
   "source": [
    "import json\n",
    "import datetime\n",
    "import time \n",
    "client_id = 'v3Yb6BfQKyPyzuOSoIow'\n",
    "client_secret = 'QA6WozoE5C'\n",
    "\n",
    "def gen_result_onpage(url):\n",
    "    request = urllib.request.Request(url)\n",
    "    request.add_header(\"X-Naver-Client-Id\",client_id)\n",
    "    request.add_header(\"X-Naver-Client-Secret\",client_secret)\n",
    "    response = urllib.request.urlopen(request)\n",
    "    print(\"[%s] Url Request Success\" % datetime.datetime.now())\n",
    "    \n",
    "    return json.loads(response.read().decode(\"utf-8\"))"
   ]
  },
  {
   "cell_type": "code",
   "execution_count": 5,
   "metadata": {},
   "outputs": [],
   "source": [
    "import pandas as pd \n",
    "\n",
    "def get_fields(json_data):\n",
    "    title = [each['title']for each in json_data['items']]\n",
    "    isbn =  [each['isbn']for each in json_data['items']]\n",
    "    publisher = [each['publisher']for each in json_data['items']]\n",
    "    pubdate = [each['pubdate']for each in json_data['items']]\n",
    "    \n",
    "    result_pd =  pd.DataFrame({\n",
    "        'title' : title,\n",
    "        'isbn' : isbn,\n",
    "        'publisher' : publisher,\n",
    "        'pubdate' : pubdate,\n",
    "        \n",
    "    }, columns=['title','isbn','publisher','pubdate'])\n",
    "    \n",
    "    return result_pd\n",
    "\n"
   ]
  },
  {
   "cell_type": "code",
   "execution_count": 6,
   "metadata": {},
   "outputs": [
    {
     "name": "stdout",
     "output_type": "stream",
     "text": [
      "[2022-10-18 07:23:48.281599] Url Request Success\n",
      "[2022-10-18 07:23:49.323171] Url Request Success\n",
      "[2022-10-18 07:23:50.227584] Url Request Success\n",
      "[2022-10-18 07:23:51.130639] Url Request Success\n",
      "[2022-10-18 07:23:51.712955] Url Request Success\n",
      "[2022-10-18 07:23:52.301635] Url Request Success\n",
      "[2022-10-18 07:23:52.940893] Url Request Success\n",
      "[2022-10-18 07:23:53.575378] Url Request Success\n",
      "[2022-10-18 07:23:53.866183] Url Request Success\n",
      "[2022-10-18 07:23:54.129789] Url Request Success\n"
     ]
    }
   ],
   "source": [
    "result_python = []\n",
    "\n",
    "for n in range(1,1000,100):\n",
    "    url = gen_search_url('book', '파이썬' , n, 100)\n",
    "    json_result = gen_result_onpage(url)\n",
    "    pd_result = get_fields(json_result)\n",
    "    result_python.append(pd_result)\n",
    "    \n",
    "result_python = pd.concat(result_python)"
   ]
  },
  {
   "cell_type": "code",
   "execution_count": 7,
   "metadata": {},
   "outputs": [],
   "source": [
    "result_python['language'] = 'Python'"
   ]
  },
  {
   "cell_type": "code",
   "execution_count": 18,
   "metadata": {
    "scrolled": true
   },
   "outputs": [
    {
     "name": "stdout",
     "output_type": "stream",
     "text": [
      "[2022-10-18 07:34:03.085364] Url Request Success\n",
      "[2022-10-18 07:34:03.811270] Url Request Success\n",
      "[2022-10-18 07:34:04.387863] Url Request Success\n",
      "[2022-10-18 07:34:05.215581] Url Request Success\n",
      "[2022-10-18 07:34:06.288074] Url Request Success\n",
      "[2022-10-18 07:34:08.161668] Url Request Success\n",
      "[2022-10-18 07:34:11.422050] Url Request Success\n",
      "[2022-10-18 07:34:11.747415] Url Request Success\n",
      "[2022-10-18 07:34:11.993289] Url Request Success\n",
      "[2022-10-18 07:34:12.276733] Url Request Success\n"
     ]
    }
   ],
   "source": [
    "result_c = []\n",
    "\n",
    "for start in range(1, 1000, 100):\n",
    "    url = gen_search_url('book', 'C언어' , start, 100)\n",
    "    json_result = gen_result_onpage(url)\n",
    "    pd_result = get_fields(json_result)\n",
    "    result_c.append(pd_result)\n",
    "\n",
    "    \n",
    "result_c = pd.concat(result_c)"
   ]
  },
  {
   "cell_type": "code",
   "execution_count": 19,
   "metadata": {
    "scrolled": true
   },
   "outputs": [],
   "source": [
    "result_c['language'] = 'C언어'"
   ]
  },
  {
   "cell_type": "code",
   "execution_count": 8,
   "metadata": {},
   "outputs": [
    {
     "name": "stdout",
     "output_type": "stream",
     "text": [
      "[2022-10-18 07:23:58.821831] Url Request Success\n",
      "[2022-10-18 07:23:59.378018] Url Request Success\n",
      "[2022-10-18 07:23:59.902752] Url Request Success\n",
      "[2022-10-18 07:24:00.738001] Url Request Success\n",
      "[2022-10-18 07:24:01.346518] Url Request Success\n",
      "[2022-10-18 07:24:01.941383] Url Request Success\n",
      "[2022-10-18 07:24:02.683500] Url Request Success\n",
      "[2022-10-18 07:24:03.314602] Url Request Success\n",
      "[2022-10-18 07:24:04.192690] Url Request Success\n",
      "[2022-10-18 07:24:04.804848] Url Request Success\n"
     ]
    }
   ],
   "source": [
    "result_java = []\n",
    "\n",
    "for start in range(1,1000,100):\n",
    "    url = gen_search_url('book', 'Java' , start, 100)\n",
    "    json_result = gen_result_onpage(url)\n",
    "    pd_result = get_fields(json_result)\n",
    "    result_java.append(pd_result)\n",
    "    \n",
    "result_java = pd.concat(result_java)"
   ]
  },
  {
   "cell_type": "code",
   "execution_count": 17,
   "metadata": {},
   "outputs": [],
   "source": [
    "result_java['language'] = 'Java'"
   ]
  },
  {
   "cell_type": "code",
   "execution_count": 20,
   "metadata": {},
   "outputs": [],
   "source": [
    "result_language = pd.concat([result_python,result_c,result_java], ignore_index=True)"
   ]
  },
  {
   "cell_type": "code",
   "execution_count": 21,
   "metadata": {},
   "outputs": [
    {
     "data": {
      "text/html": [
       "<div>\n",
       "<style scoped>\n",
       "    .dataframe tbody tr th:only-of-type {\n",
       "        vertical-align: middle;\n",
       "    }\n",
       "\n",
       "    .dataframe tbody tr th {\n",
       "        vertical-align: top;\n",
       "    }\n",
       "\n",
       "    .dataframe thead th {\n",
       "        text-align: right;\n",
       "    }\n",
       "</style>\n",
       "<table border=\"1\" class=\"dataframe\">\n",
       "  <thead>\n",
       "    <tr style=\"text-align: right;\">\n",
       "      <th></th>\n",
       "      <th>title</th>\n",
       "      <th>isbn</th>\n",
       "      <th>publisher</th>\n",
       "      <th>pubdate</th>\n",
       "      <th>language</th>\n",
       "    </tr>\n",
       "  </thead>\n",
       "  <tbody>\n",
       "    <tr>\n",
       "      <th>0</th>\n",
       "      <td>혼자 공부하는 파이썬 (1:1 과외하듯 배우는 프로그래밍 자습서)</td>\n",
       "      <td>9791162245651</td>\n",
       "      <td>한빛미디어</td>\n",
       "      <td>20220601</td>\n",
       "      <td>Python</td>\n",
       "    </tr>\n",
       "    <tr>\n",
       "      <th>1</th>\n",
       "      <td>파이썬 웹 스크레이핑 완벽 가이드 (파이썬 기초문법부터 스트림릿을 이용한 웹 앱 제...</td>\n",
       "      <td>9791158393571</td>\n",
       "      <td>위키북스</td>\n",
       "      <td>20220927</td>\n",
       "      <td>Python</td>\n",
       "    </tr>\n",
       "    <tr>\n",
       "      <th>2</th>\n",
       "      <td>파이썬과 40개의 작품들 (자동화, 크롤링, 이미지처리, 데이터분석, 웹페이지, G...</td>\n",
       "      <td>9791185553931</td>\n",
       "      <td>앤써북</td>\n",
       "      <td>20220228</td>\n",
       "      <td>Python</td>\n",
       "    </tr>\n",
       "    <tr>\n",
       "      <th>3</th>\n",
       "      <td>CODING BASICS PYTHON (파이썬)</td>\n",
       "      <td>9788959604210</td>\n",
       "      <td>렉스미디어닷넷</td>\n",
       "      <td>20220210</td>\n",
       "      <td>Python</td>\n",
       "    </tr>\n",
       "    <tr>\n",
       "      <th>4</th>\n",
       "      <td>파이썬</td>\n",
       "      <td>9788970506784</td>\n",
       "      <td>생능출판</td>\n",
       "      <td>20220309</td>\n",
       "      <td>Python</td>\n",
       "    </tr>\n",
       "    <tr>\n",
       "      <th>...</th>\n",
       "      <td>...</td>\n",
       "      <td>...</td>\n",
       "      <td>...</td>\n",
       "      <td>...</td>\n",
       "      <td>...</td>\n",
       "    </tr>\n",
       "    <tr>\n",
       "      <th>2435</th>\n",
       "      <td>Indesign Cs5 Automation Using XML &amp; JavaScript</td>\n",
       "      <td>9781460915387</td>\n",
       "      <td>Createspace</td>\n",
       "      <td>20131223</td>\n",
       "      <td>Java</td>\n",
       "    </tr>\n",
       "    <tr>\n",
       "      <th>2436</th>\n",
       "      <td>Programming the BeagleBone Black: Getting Star...</td>\n",
       "      <td>9780071832120</td>\n",
       "      <td>McGraw-Hill/Tab Electronics</td>\n",
       "      <td>20140509</td>\n",
       "      <td>Java</td>\n",
       "    </tr>\n",
       "    <tr>\n",
       "      <th>2437</th>\n",
       "      <td>Maintainable JavaScript: Writing Readable Code</td>\n",
       "      <td>9781449327682</td>\n",
       "      <td>O&amp;#39;Reilly Media</td>\n",
       "      <td>20120531</td>\n",
       "      <td>Java</td>\n",
       "    </tr>\n",
       "    <tr>\n",
       "      <th>2438</th>\n",
       "      <td>Sams Teach Yourself JavaScript in 24 Hours 반양장</td>\n",
       "      <td>9780672328794</td>\n",
       "      <td>Sams</td>\n",
       "      <td></td>\n",
       "      <td>Java</td>\n",
       "    </tr>\n",
       "    <tr>\n",
       "      <th>2439</th>\n",
       "      <td>Xml and Java : Developing Web Applications 반양장</td>\n",
       "      <td>9780201485431</td>\n",
       "      <td>Addison-Wesley</td>\n",
       "      <td>19990501</td>\n",
       "      <td>Java</td>\n",
       "    </tr>\n",
       "  </tbody>\n",
       "</table>\n",
       "<p>2440 rows × 5 columns</p>\n",
       "</div>"
      ],
      "text/plain": [
       "                                                  title           isbn  \\\n",
       "0                  혼자 공부하는 파이썬 (1:1 과외하듯 배우는 프로그래밍 자습서)  9791162245651   \n",
       "1     파이썬 웹 스크레이핑 완벽 가이드 (파이썬 기초문법부터 스트림릿을 이용한 웹 앱 제...  9791158393571   \n",
       "2     파이썬과 40개의 작품들 (자동화, 크롤링, 이미지처리, 데이터분석, 웹페이지, G...  9791185553931   \n",
       "3                            CODING BASICS PYTHON (파이썬)  9788959604210   \n",
       "4                                                   파이썬  9788970506784   \n",
       "...                                                 ...            ...   \n",
       "2435     Indesign Cs5 Automation Using XML & JavaScript  9781460915387   \n",
       "2436  Programming the BeagleBone Black: Getting Star...  9780071832120   \n",
       "2437     Maintainable JavaScript: Writing Readable Code  9781449327682   \n",
       "2438     Sams Teach Yourself JavaScript in 24 Hours 반양장  9780672328794   \n",
       "2439     Xml and Java : Developing Web Applications 반양장  9780201485431   \n",
       "\n",
       "                        publisher   pubdate language  \n",
       "0                           한빛미디어  20220601   Python  \n",
       "1                            위키북스  20220927   Python  \n",
       "2                             앤써북  20220228   Python  \n",
       "3                         렉스미디어닷넷  20220210   Python  \n",
       "4                            생능출판  20220309   Python  \n",
       "...                           ...       ...      ...  \n",
       "2435                  Createspace  20131223     Java  \n",
       "2436  McGraw-Hill/Tab Electronics  20140509     Java  \n",
       "2437           O&#39;Reilly Media  20120531     Java  \n",
       "2438                         Sams               Java  \n",
       "2439               Addison-Wesley  19990501     Java  \n",
       "\n",
       "[2440 rows x 5 columns]"
      ]
     },
     "execution_count": 21,
     "metadata": {},
     "output_type": "execute_result"
    }
   ],
   "source": [
    "result_language"
   ]
  },
  {
   "cell_type": "code",
   "execution_count": 16,
   "metadata": {},
   "outputs": [],
   "source": [
    "result_language.to_csv('./language.csv')"
   ]
  },
  {
   "cell_type": "code",
   "execution_count": 22,
   "metadata": {},
   "outputs": [
    {
     "name": "stdout",
     "output_type": "stream",
     "text": [
      "<class 'pandas.core.frame.DataFrame'>\n",
      "RangeIndex: 2440 entries, 0 to 2439\n",
      "Data columns (total 5 columns):\n",
      " #   Column     Non-Null Count  Dtype \n",
      "---  ------     --------------  ----- \n",
      " 0   title      2440 non-null   object\n",
      " 1   isbn       2440 non-null   object\n",
      " 2   publisher  2440 non-null   object\n",
      " 3   pubdate    2440 non-null   object\n",
      " 4   language   2440 non-null   object\n",
      "dtypes: object(5)\n",
      "memory usage: 95.4+ KB\n"
     ]
    }
   ],
   "source": [
    "result_language.info()"
   ]
  },
  {
   "cell_type": "code",
   "execution_count": 23,
   "metadata": {},
   "outputs": [],
   "source": [
    "import numpy as np\n",
    "result_language['isbn'] = result_language['isbn'].astype(np.int32)"
   ]
  },
  {
   "cell_type": "code",
   "execution_count": 26,
   "metadata": {},
   "outputs": [
    {
     "data": {
      "text/plain": [
       "2428"
      ]
     },
     "execution_count": 26,
     "metadata": {},
     "output_type": "execute_result"
    }
   ],
   "source": [
    "len(result_language['isbn'].unique())"
   ]
  },
  {
   "cell_type": "code",
   "execution_count": 27,
   "metadata": {},
   "outputs": [],
   "source": [
    "language  = result_language.drop_duplicates('isbn', keep = 'first')"
   ]
  },
  {
   "cell_type": "code",
   "execution_count": 28,
   "metadata": {},
   "outputs": [
    {
     "data": {
      "text/html": [
       "<div>\n",
       "<style scoped>\n",
       "    .dataframe tbody tr th:only-of-type {\n",
       "        vertical-align: middle;\n",
       "    }\n",
       "\n",
       "    .dataframe tbody tr th {\n",
       "        vertical-align: top;\n",
       "    }\n",
       "\n",
       "    .dataframe thead th {\n",
       "        text-align: right;\n",
       "    }\n",
       "</style>\n",
       "<table border=\"1\" class=\"dataframe\">\n",
       "  <thead>\n",
       "    <tr style=\"text-align: right;\">\n",
       "      <th></th>\n",
       "      <th>title</th>\n",
       "      <th>isbn</th>\n",
       "      <th>publisher</th>\n",
       "      <th>pubdate</th>\n",
       "      <th>language</th>\n",
       "    </tr>\n",
       "  </thead>\n",
       "  <tbody>\n",
       "    <tr>\n",
       "      <th>0</th>\n",
       "      <td>혼자 공부하는 파이썬 (1:1 과외하듯 배우는 프로그래밍 자습서)</td>\n",
       "      <td>-1363189229</td>\n",
       "      <td>한빛미디어</td>\n",
       "      <td>20220601</td>\n",
       "      <td>Python</td>\n",
       "    </tr>\n",
       "    <tr>\n",
       "      <th>1</th>\n",
       "      <td>파이썬 웹 스크레이핑 완벽 가이드 (파이썬 기초문법부터 스트림릿을 이용한 웹 앱 제...</td>\n",
       "      <td>-1367041309</td>\n",
       "      <td>위키북스</td>\n",
       "      <td>20220927</td>\n",
       "      <td>Python</td>\n",
       "    </tr>\n",
       "    <tr>\n",
       "      <th>2</th>\n",
       "      <td>파이썬과 40개의 작품들 (자동화, 크롤링, 이미지처리, 데이터분석, 웹페이지, G...</td>\n",
       "      <td>-1339880949</td>\n",
       "      <td>앤써북</td>\n",
       "      <td>20220228</td>\n",
       "      <td>Python</td>\n",
       "    </tr>\n",
       "    <tr>\n",
       "      <th>3</th>\n",
       "      <td>CODING BASICS PYTHON (파이썬)</td>\n",
       "      <td>729136626</td>\n",
       "      <td>렉스미디어닷넷</td>\n",
       "      <td>20220210</td>\n",
       "      <td>Python</td>\n",
       "    </tr>\n",
       "    <tr>\n",
       "      <th>4</th>\n",
       "      <td>파이썬</td>\n",
       "      <td>740039200</td>\n",
       "      <td>생능출판</td>\n",
       "      <td>20220309</td>\n",
       "      <td>Python</td>\n",
       "    </tr>\n",
       "    <tr>\n",
       "      <th>...</th>\n",
       "      <td>...</td>\n",
       "      <td>...</td>\n",
       "      <td>...</td>\n",
       "      <td>...</td>\n",
       "      <td>...</td>\n",
       "    </tr>\n",
       "    <tr>\n",
       "      <th>2435</th>\n",
       "      <td>Indesign Cs5 Automation Using XML &amp; JavaScript</td>\n",
       "      <td>1820382395</td>\n",
       "      <td>Createspace</td>\n",
       "      <td>20131223</td>\n",
       "      <td>Java</td>\n",
       "    </tr>\n",
       "    <tr>\n",
       "      <th>2436</th>\n",
       "      <td>Programming the BeagleBone Black: Getting Star...</td>\n",
       "      <td>431299128</td>\n",
       "      <td>McGraw-Hill/Tab Electronics</td>\n",
       "      <td>20140509</td>\n",
       "      <td>Java</td>\n",
       "    </tr>\n",
       "    <tr>\n",
       "      <th>2437</th>\n",
       "      <td>Maintainable JavaScript: Writing Readable Code</td>\n",
       "      <td>1808794690</td>\n",
       "      <td>O&amp;#39;Reilly Media</td>\n",
       "      <td>20120531</td>\n",
       "      <td>Java</td>\n",
       "    </tr>\n",
       "    <tr>\n",
       "      <th>2438</th>\n",
       "      <td>Sams Teach Yourself JavaScript in 24 Hours 반양장</td>\n",
       "      <td>1031795802</td>\n",
       "      <td>Sams</td>\n",
       "      <td></td>\n",
       "      <td>Java</td>\n",
       "    </tr>\n",
       "    <tr>\n",
       "      <th>2439</th>\n",
       "      <td>Xml and Java : Developing Web Applications 반양장</td>\n",
       "      <td>560952439</td>\n",
       "      <td>Addison-Wesley</td>\n",
       "      <td>19990501</td>\n",
       "      <td>Java</td>\n",
       "    </tr>\n",
       "  </tbody>\n",
       "</table>\n",
       "<p>2428 rows × 5 columns</p>\n",
       "</div>"
      ],
      "text/plain": [
       "                                                  title        isbn  \\\n",
       "0                  혼자 공부하는 파이썬 (1:1 과외하듯 배우는 프로그래밍 자습서) -1363189229   \n",
       "1     파이썬 웹 스크레이핑 완벽 가이드 (파이썬 기초문법부터 스트림릿을 이용한 웹 앱 제... -1367041309   \n",
       "2     파이썬과 40개의 작품들 (자동화, 크롤링, 이미지처리, 데이터분석, 웹페이지, G... -1339880949   \n",
       "3                            CODING BASICS PYTHON (파이썬)   729136626   \n",
       "4                                                   파이썬   740039200   \n",
       "...                                                 ...         ...   \n",
       "2435     Indesign Cs5 Automation Using XML & JavaScript  1820382395   \n",
       "2436  Programming the BeagleBone Black: Getting Star...   431299128   \n",
       "2437     Maintainable JavaScript: Writing Readable Code  1808794690   \n",
       "2438     Sams Teach Yourself JavaScript in 24 Hours 반양장  1031795802   \n",
       "2439     Xml and Java : Developing Web Applications 반양장   560952439   \n",
       "\n",
       "                        publisher   pubdate language  \n",
       "0                           한빛미디어  20220601   Python  \n",
       "1                            위키북스  20220927   Python  \n",
       "2                             앤써북  20220228   Python  \n",
       "3                         렉스미디어닷넷  20220210   Python  \n",
       "4                            생능출판  20220309   Python  \n",
       "...                           ...       ...      ...  \n",
       "2435                  Createspace  20131223     Java  \n",
       "2436  McGraw-Hill/Tab Electronics  20140509     Java  \n",
       "2437           O&#39;Reilly Media  20120531     Java  \n",
       "2438                         Sams               Java  \n",
       "2439               Addison-Wesley  19990501     Java  \n",
       "\n",
       "[2428 rows x 5 columns]"
      ]
     },
     "execution_count": 28,
     "metadata": {},
     "output_type": "execute_result"
    }
   ],
   "source": [
    "language"
   ]
  },
  {
   "cell_type": "code",
   "execution_count": 30,
   "metadata": {},
   "outputs": [],
   "source": [
    "py_num = len(language.loc[language['language'] == 'Python'])\n",
    "c_num = len(language.loc[language['language'] == 'C언어'])\n",
    "java_num = len(language.loc[language['language'] == 'Java'])"
   ]
  },
  {
   "cell_type": "code",
   "execution_count": 41,
   "metadata": {},
   "outputs": [
    {
     "data": {
      "text/plain": [
       "([<matplotlib.patches.Wedge at 0x7f6121b6d6a0>,\n",
       "  <matplotlib.patches.Wedge at 0x7f6121b6dd00>,\n",
       "  <matplotlib.patches.Wedge at 0x7f6121b921f0>],\n",
       " [Text(0.5785058162873696, -0.9355912678737892, 'Python'),\n",
       "  Text(-1.0611557534926523, -0.2897386181188861, 'C'),\n",
       "  Text(0.31164350391314327, 1.0549304841878155, 'Java')])"
      ]
     },
     "execution_count": 41,
     "metadata": {},
     "output_type": "execute_result"
    },
    {
     "name": "stderr",
     "output_type": "stream",
     "text": [
      "findfont: Font family 'D2Coding' not found.\n",
      "findfont: Font family 'D2Coding' not found.\n",
      "findfont: Font family 'D2Coding' not found.\n",
      "findfont: Font family 'D2Coding' not found.\n",
      "findfont: Font family 'D2Coding' not found.\n",
      "findfont: Font family 'D2Coding' not found.\n",
      "findfont: Font family 'D2Coding' not found.\n",
      "findfont: Font family 'D2Coding' not found.\n",
      "findfont: Font family 'D2Coding' not found.\n",
      "findfont: Font family 'D2Coding' not found.\n",
      "findfont: Font family 'D2Coding' not found.\n",
      "findfont: Font family 'D2Coding' not found.\n",
      "findfont: Font family 'D2Coding' not found.\n",
      "findfont: Font family 'D2Coding' not found.\n"
     ]
    },
    {
     "data": {
      "image/png": "[encoded data removed]",
      "text/plain": [
       "<Figure size 1000x1000 with 1 Axes>"
      ]
     },
     "metadata": {},
     "output_type": "display_data"
    }
   ],
   "source": [
    "exe_name = ['Python' , 'C' , 'Java']\n",
    "exe_result = [py_num, c_num, java_num]\n",
    "explode_value = (0,1,0)\n",
    "\n",
    "plt.figure(figsize=(10,10))\n",
    "\n",
    "plt.pie(exe_result, labels= exe_name, shadow=True, counterclock= False)"
   ]
  },
  {
   "cell_type": "code",
   "execution_count": 32,
   "metadata": {},
   "outputs": [],
   "source": []
  },
  {
   "cell_type": "code",
   "execution_count": 34,
   "metadata": {},
   "outputs": [
    {
     "data": {
      "text/plain": [
       "0"
      ]
     },
     "execution_count": 34,
     "metadata": {},
     "output_type": "execute_result"
    }
   ],
   "source": []
  },
  {
   "cell_type": "code",
   "execution_count": 33,
   "metadata": {},
   "outputs": [
    {
     "data": {
      "text/plain": [
       "786"
      ]
     },
     "execution_count": 33,
     "metadata": {},
     "output_type": "execute_result"
    }
   ],
   "source": []
  },
  {
   "cell_type": "code",
   "execution_count": null,
   "metadata": {},
   "outputs": [],
   "source": []
  }
 ],
 "metadata": {
  "kernelspec": {
   "display_name": "Python 3",
   "language": "python",
   "name": "python3"
  },
  "language_info": {
   "codemirror_mode": {
    "name": "ipython",
    "version": 3
   },
   "file_extension": ".py",
   "mimetype": "text/x-python",
   "name": "python",
   "nbconvert_exporter": "python",
   "pygments_lexer": "ipython3",
   "version": "3.8.10"
  }
 },
 "nbformat": 4,
 "nbformat_minor": 5
}
