{
 "cells": [
  {
   "cell_type": "code",
   "execution_count": 1,
   "id": "4fa41c24",
   "metadata": {},
   "outputs": [],
   "source": [
    "import os\n",
    "import sys\n",
    "import urllib.request\n",
    "# client_id = \"v3Yb6BfQKyPyzuOSoIow\"\n",
    "# client_secret = \"QA6WozoE5C\"\n",
    "\n",
    "#     encText = urllib.parse.quote(\"\")\n",
    "#     url = \"https://openapi.naver.com/v1/search/book?query=\" + encText # JSON 결과\n",
    "#     # url = \"https://openapi.naver.com/v1/search/blog.xml?query=\" + encText # XML 결과\n",
    "#     request = urllib.request.Request(url)\n",
    "#     request.add_header(\"X-Naver-Client-Id\",client_id)\n",
    "#     request.add_header(\"X-Naver-Client-Secret\",client_secret)\n",
    "#     response = urllib.request.urlopen(request)\n",
    "# rescode = response.getcode()\n",
    "# if(rescode==200):\n",
    "#     response_body = response.read()\n",
    "#     print(response_body.decode('utf-8'))\n",
    "# else:\n",
    "#     print(\"Error Code:\" + rescode)"
   ]
  },
  {
   "cell_type": "code",
   "execution_count": 4,
   "id": "68e95da0",
   "metadata": {},
   "outputs": [],
   "source": [
    "import os\n",
    "import sys\n",
    "import urllib.request\n",
    "\n",
    "def gen_search_url(api_node, search_text, start_num, disp_num):\n",
    "    base = \"https://openapi.naver.com/v1/search\"\n",
    "    node = '/' + api_node + '.json'\n",
    "    param_query = '?query=' + urllib.parse.quote(search_text)\n",
    "    param_start = '&start=' + str(start_num)\n",
    "    param_disp = \"&display=\" + str(disp_num)\n",
    "    \n",
    "    return base + node + param_query + param_start + param_disp"
   ]
  },
  {
   "cell_type": "code",
   "execution_count": 5,
   "id": "3810d915",
   "metadata": {},
   "outputs": [
    {
     "data": {
      "text/plain": [
       "'https://openapi.naver.com/v1/search/book.json?query=%ED%8C%8C%EC%9D%B4%EC%8D%AC&start=10&display=3'"
      ]
     },
     "execution_count": 5,
     "metadata": {},
     "output_type": "execute_result"
    }
   ],
   "source": [
    "gen_search_url('book', '파이썬' , 10 , 3)"
   ]
  },
  {
   "cell_type": "code",
   "execution_count": 10,
   "id": "09ea8a1e",
   "metadata": {},
   "outputs": [],
   "source": [
    "import json\n",
    "import datetime\n",
    "import time \n",
    "client_id = 'v3Yb6BfQKyPyzuOSoIow'\n",
    "client_secret = 'QA6WozoE5C'\n",
    "\n",
    "def gen_result_onpage(url):\n",
    "    request = urllib.request.Request(url)\n",
    "    request.add_header(\"X-Naver-Client-Id\",client_id)\n",
    "    request.add_header(\"X-Naver-Client-Secret\",client_secret)\n",
    "    response = urllib.request.urlopen(request)\n",
    "    print(\"[%s] Url Request Success\" % datetime.datetime.now())\n",
    "    \n",
    "    return json.loads(response.read().decode(\"utf-8\"))"
   ]
  },
  {
   "cell_type": "code",
   "execution_count": 11,
   "id": "997aac05",
   "metadata": {},
   "outputs": [
    {
     "name": "stdout",
     "output_type": "stream",
     "text": [
      "[2022-10-15 14:31:03.738485] Url Request Success\n"
     ]
    }
   ],
   "source": [
    "url = gen_search_url('book', '파이썬' , 1 , 10)\n",
    "one_result = gen_result_onpage(url)"
   ]
  },
  {
   "cell_type": "code",
   "execution_count": 12,
   "id": "d91e39f3",
   "metadata": {},
   "outputs": [
    {
     "data": {
      "text/plain": [
       "{'lastBuildDate': 'Sat, 15 Oct 2022 14:31:03 +0900',\n",
       " 'total': 784,\n",
       " 'start': 1,\n",
       " 'display': 10,\n",
       " 'items': [{'title': '혼자 공부하는 파이썬 (1:1 과외하듯 배우는 프로그래밍 자습서)',\n",
       "   'link': 'https://search.shopping.naver.com/book/catalog/32507605957',\n",
       "   'image': 'https://shopping-phinf.pstatic.net/main_3250760/32507605957.20220603093703.jpg',\n",
       "   'author': '윤인성',\n",
       "   'discount': '19800',\n",
       "   'publisher': '한빛미디어',\n",
       "   'pubdate': '20220601',\n",
       "   'isbn': '9791162245651',\n",
       "   'description': '『혼자 공부하는 파이썬』이 더욱 흥미있고 알찬 내용으로 개정되었습니다. 프로그래밍이 정말 처음인 입문자도 따라갈 수 있는 친절한 설명과 단계별 학습은 그대로! 혼자 공부하더라도 체계적으로 계획을 세워 학습할 수 있도록 ‘혼공 계획표’를 새롭게 추가했습니다. 또한 입문자가 자주 물어보는 질문과 오류 해결 방법을 적재적소에 배치하여 예상치 못한 문제에 부딪혀도 좌절하지 않고 끝까지 완독할 수 있도록 도와줍니다. 단순한 문법 암기와 코딩 따라하기에 지쳤다면, 새로운 혼공파와 함께 ‘누적 예제’와 ‘도전 문제’로 프로그래밍의 신세계를 경험해 보세요! 배운 내용을 씹고 뜯고 맛보고 즐기다 보면 응용력은 물론 알고리즘 사고력까지 키워 코딩 실력이 쑥쑥 성장할 것입니다.\\n\\n혼자 해도 충분하다! 1:1 과외하듯 배우는 파이썬 프로그래밍 자습서\\n이 책은 독학으로 파이썬을 배우는 입문자가 ‘꼭 필요한 내용을 제대로 학습’할 수 있도록 구성했습니다. 뭘 모르는지조차 모르는 입문자의 막연한 마음에 십분 공감하여 과외 선생님이 알려주듯 친절하게, 핵심적인 내용만 콕콕 집어줍니다. 책의 첫 페이지를 펼쳐서 마지막 페이지를 덮을 때까지, 혼자서도 충분히 파이썬을 배울 수 있다는 자신감과 확신이 계속될 것입니다!\\n\\n베타리더 검증으로, ‘함께 만든’ 입문자 맞춤형 도서\\n베타리더와 함께 입문자에게 맞는 난이도, 분량, 학습 요소 등을 적극 반영했습니다. 어려운 용어와 개념은 한 번 더 풀어쓰고, 복잡한 설명은 눈에 잘 들어오는 그림으로 풀어냈습니다. ‘혼자 공부해 본’ 여러 입문자의 초심과 눈높이가 책 곳곳에 반영된 것이 이 책의 가장 큰 장점입니다.'},\n",
       "  {'title': '파이썬 웹 스크레이핑 완벽 가이드 (파이썬 기초문법부터 스트림릿을 이용한 웹 앱 제작과 카카오 API 활용까지)',\n",
       "   'link': 'https://search.shopping.naver.com/book/catalog/34563026623',\n",
       "   'image': 'https://shopping-phinf.pstatic.net/main_3456302/34563026623.20220927115642.jpg',\n",
       "   'author': '최은석',\n",
       "   'discount': '28800',\n",
       "   'publisher': '위키북스',\n",
       "   'pubdate': '20220927',\n",
       "   'isbn': '9791158393571',\n",
       "   'description': '파이썬을 이용해 웹 스크레이핑을 수행하고 수집한 데이터를 다양하게 활용하자!\\n\\n이 책에서는 파이썬을 이용해 웹 스크레이핑을 수행하고 수집한 데이터를 처리하고 활용하는 방법을 다룹니다. 기본적인 파이썬 문법부터 넘파이, 판다스, 실무에 활용 가능한 다양한 웹 데이터 수집 및 가공 방법, 스트림릿을 이용한 웹 앱 제작과 카카오 API 활용까지 상세히 설명하고 있어 파이썬을 처음 배우는 초보자뿐만 아니라 실무에서 웹 스크레이핑 기술을 활용하고자 하는 분들에게 훌륭한 가이드가 될 것입니다.\\n\\n이 책은 실제 사용 빈도가 높은 웹 사이트(네이버, 다음, 구글, 유튜브, 스포티파이 등)에서 다양한 데이터(날씨, 주식, 환율, 부동산, 가상 화폐, 노래, 동영상 검색 결과, 뉴스, 웹 문서 및 이미지 검색 결과)를 가져와 활용하는 전체 과정을 알기 쉽게 설명합니다.\\n\\n★ 이 책에서 다루는 내용 ★\\n\\n◎ 웹 스크레이핑 기초, requests와 Beautiful Soup를 활용한 웹 데이터 수집 및 처리\\n◎ 셀레니움(Selenium)을 이용한 웹 브라우저 제어, 로그인 자동화, 동적 웹 페이지 데이터 수집\\n◎ 웹 API 기초, 웹 API 인증, 응답 데이터 분석 및 관심 데이터 추출, 데이터 시각화\\n◎ 스트림릿(Streamlit) 기초 사용법, 웹 스크레이핑 웹 앱 제작 및 배포\\n◎ 카카오 API를 활용한 웹 문서 및 이미지 검색, 웹 스크레이핑 결과를 카카오톡 메시지로 전송'},\n",
       "  {'title': '파이썬과 40개의 작품들 (자동화, 크롤링, 이미지처리, 데이터분석, 웹페이지, GUI 프로그램, 게임)',\n",
       "   'link': 'https://search.shopping.naver.com/book/catalog/32472041705',\n",
       "   'image': 'https://shopping-phinf.pstatic.net/main_3247204/32472041705.20220527090930.jpg',\n",
       "   'author': '장문철',\n",
       "   'discount': '16920',\n",
       "   'publisher': '앤써북',\n",
       "   'pubdate': '20220228',\n",
       "   'isbn': '9791185553931',\n",
       "   'description': '이 책은 내 업무와 생활에 바로 적용할 수 있는 40개의 프로그램을 직접 코딩해서 만들어보고, 동시에 파이썬을 자연스럽게 이해할 수 있게 구성하였다!\\n\\n파이썬 기초 문법 떼고 자동화, 크롤링, 이미지처리, 데이터분석, 웹페이지, GUI 프로그램, 게임, 인공지능 관련 40개 프로그램 직접 파이썬 코딩하며 만들어 본다.  \\n\\n이 책은 파이썬 기초 문법을 익힌 후 총 40개의 주제별 프로그램을 직접 코딩하며 만들어볼 수 있도록 구성하였다.'},\n",
       "  {'title': 'CODING BASICS PYTHON (파이썬)',\n",
       "   'link': 'https://search.shopping.naver.com/book/catalog/32440944646',\n",
       "   'image': 'https://shopping-phinf.pstatic.net/main_3244094/32440944646.20220527033702.jpg',\n",
       "   'author': '김상민^장성식^김일태',\n",
       "   'discount': '18000',\n",
       "   'publisher': '렉스미디어닷넷',\n",
       "   'pubdate': '20220210',\n",
       "   'isbn': '9788959604210',\n",
       "   'description': '파이썬으로 다지는 프로그래밍의 기초\\n\\nㆍ 다양한 예제를 활용하여 초보자도 쉽게 프로그래밍의 기본을 익힐 수 있는 파이썬 입문서입니다.\\nㆍ 문법을 사전식으로 나열하지 않고 기능적인 프로그램을 하나씩 완성하면서 익힐 수 있게 구성했습니다.\\nㆍ 단계별로 완성하는 장별 예제 및 연습문제를 바탕으로 자신만의 프로그램을 완성할 수 있습니다.'},\n",
       "  {'title': '파이썬',\n",
       "   'link': 'https://search.shopping.naver.com/book/catalog/32460987987',\n",
       "   'image': 'https://shopping-phinf.pstatic.net/main_3246098/32460987987.20220527060746.jpg',\n",
       "   'author': '홍의경',\n",
       "   'discount': '28800',\n",
       "   'publisher': '생능출판',\n",
       "   'pubdate': '20220309',\n",
       "   'isbn': '9788970506784',\n",
       "   'description': '코딩 실력을 키우는 지름길은 실습이다.\\n\\n2008년 즈음에 검인정 중학교 교과서 정보1, 정보2, 정보3을 공저로 저술하였습니다. 그 당시에 8종류의 교과서가 검인정에 합격하였는데, 파이썬을 기반으로 하는 교과서가 2종류, C언어를 기반으로 하는 교과서가 2종류, 베이직을 기반으로 하는 교과서가 2종류, 스크래치를 기반으로 하는 교과서가 2종류였습니다.\\n\\n교육용 언어로 시작한 파이썬이 중학교 학생들이 비교적 쉽게 학습할 수 있는 프로그래밍 언어라고 생각했는데 10여년의 세월이 흐른 지금 파이썬이 활용되는 분야가 가히 폭발적으로 증가하였습니다. \\n\\n파이썬에 관한 쉽고 좋은 교재를 저술하기 위해서 인터넷에서 30,000페이지 이상의 자료를 찾아서 검토하였습니다. 어쩌면 파이썬이 첫 프로그래밍 언어일 본 교재의 독자들이 두려움 없이 파이썬을 기초부터 쉽게 공부하다가, 교재를 다 읽고 나면 “어느새 중급 수준에 도달했구나”라는 생각이 들도록  완성도 높은 교재를 목표로 하였습니다. \\n\\n입문자를 대상으로 하는 교재일수록 집필하는데 훨씬 더 많은 정성과 노력이 필요하다는 것을 잘 알고 있습니다. 개인적으로는 데이터베이스 전공교재를 저술할 때보다 몇 배 더 힘들었고, 공을 많이 들였습니다. \\n\\n원고를 버전 9까지 작성하는 동안 셀 수 없이 원고를 읽어보면서 꼭 필요하지 않은 문장은 삭제하고, 필요한 문장은 반드시 넣었습니다. 고등학교 검인정 교과서 1권, 중학교 검인정 교과서 3권, 데이터베이스 전공 교재 2권, 엑셀 교재 1권, 번역서 2권을 집필하면서 나름대로 한글을 정확하고 간결하게 표현하는데 자신이 있습니다.'},\n",
       "  {'title': '파이썬 머신러닝 완벽 가이드 (다양한 캐글 예제와 함께 기초 알고리즘부터 최신 기법까지 배우는)',\n",
       "   'link': 'https://search.shopping.naver.com/book/catalog/32485894885',\n",
       "   'image': 'https://shopping-phinf.pstatic.net/main_3248589/32485894885.20220527043735.jpg',\n",
       "   'author': '권철민',\n",
       "   'discount': '36000',\n",
       "   'publisher': '위키북스',\n",
       "   'pubdate': '20220421',\n",
       "   'isbn': '9791158393229',\n",
       "   'description': '자세한 이론 설명과 파이썬 실습을 통해 머신러닝을 완벽하게 배울 수 있습니다!\\n\\n《파이썬 머신러닝 완벽 가이드》는 이론 위주의 머신러닝 책에서 탈피해, 다양한 실전 예제를 직접 구현해 보면서 머신러닝을 체득할 수 있도록 만들었습니다. 캐글과 UCI 머신러닝 리포지토리에서 난이도가 있는 실습 데이터를 기반으로 실전 예제를 구성했고, XGBoost, LightGBM, 스태킹 기법 등 캐글의 많은 데이터 사이언스에서 애용하는 최신 알고리즘과 기법을 상세하게 설명했습니다.\\n\\n이번 개정2판에서는 최신 사이킷런 버전(1.0.2)을 포함해 책에서 사용되는 모든 라이브러리를 최신 버전으로 업그레이드한 실습 코드를 구현하고, 다양한 유형의 하이퍼파라미터를 가지는 XGBoost나 LightGBM 모델의 최적 하이퍼파라미터 튜닝을 위한 베이지안 최적화 기법 적용 실습을 제공합니다. 또한 머신러닝 관련 데이터 분석에 널리 쓰이는 시각화 라이브러리인 matplotlib과 seaborn의 활용법을 다룬 장을 새롭게 추가했습니다.'},\n",
       "  {'title': '파이썬 (제2판)',\n",
       "   'link': 'https://search.shopping.naver.com/book/catalog/32436240934',\n",
       "   'image': 'https://shopping-phinf.pstatic.net/main_3243624/32436240934.20220527031037.jpg',\n",
       "   'author': '염기원^오지영',\n",
       "   'discount': '16200',\n",
       "   'publisher': '북두',\n",
       "   'pubdate': '20220120',\n",
       "   'isbn': '9791166750991',\n",
       "   'description': '책의 전반부는 비전공자의 입장에서 비전공자를 위한 파이썬 프로그래밍의 기초적인 내용으로 구성되어 있다. 프로그래밍에 익숙하거나 파이썬 경험이 있는 독자들은 곧바로 책의 후반부를 공부하는 것을 추천한다. 책의 전반부에서는 저자가 처음 컴퓨터 프로그래밍이라는 것을 배울 때 가장 어려워했던 변수와 메모리 관계, 특성에 대해서 상세하게 설명하면서 비전공자들이 쉽게 프로그래밍에 입문할 수 있도록 하였다. 대부분의 프로그래밍 교재와 다를바 없이, 파이썬으로 프로그램을 작성할 수 있도록 개발환경을 설치하는 과정과 사용 가능한 프로그래밍 툴에 대해서도 빠지지 않고 최대한 상세한 설명과 충분한 그림을 삽입하였다. 또한, 전반부의 뒷부분은 데이터 분석에 필요한 파이썬 프로그램 위주로 구성해서 앞부분의 기초 프로그래밍 지식을 바탕으로 본격적인 데이터 분석을 위한 토대를 마련할 수 있도록 구성하였다.'},\n",
       "  {'title': 'Do it! 점프 투 파이썬 (이미 200만명이 이 책으로 프로그래밍을 시작했다!)',\n",
       "   'link': 'https://search.shopping.naver.com/book/catalog/32456895000',\n",
       "   'image': 'https://shopping-phinf.pstatic.net/main_3245689/32456895000.20220527052926.jpg',\n",
       "   'author': '박응용',\n",
       "   'discount': '16500',\n",
       "   'publisher': '이지스퍼블리싱',\n",
       "   'pubdate': '20190620',\n",
       "   'isbn': '9791163030911',\n",
       "   'description': '파이썬 4년 연속 베스트셀러 1위!\\n《Do it! 점프 투 파이썬》 전면 개정판 출시!\\n\\n문과생도 중고등학생도 직장인도 프로그래밍에 눈뜨게 만든 바로 그 책이 전면 개정판으로 새로 태어났다! 2016년 《Do it! 점프 투 파이썬》으로 출간되었던 이 책은 약 4년 동안의 피드백을 반영하여 초보자가 더 빠르게 입문하고, 더 깊이 있게 공부할 수 있도록 개정되었다. 특히 ‘나 혼자 코딩’과 ‘코딩 면허 시험 20제’ 등 독자의 학습 흐름에 맞게 문제를 보강한 점이 눈에 띈다. 실습량도 두 배로 늘었다.\\n\\n4년 동안 압도적 1위! 위키독스 누적 방문 200만! 수많은 대학 및 학원의 교재 채택 등! 검증은 이미 끝났다. 코딩을 처음 배우는 중고등학생부터 나만의 경쟁력이 필요한 문과생, 데이터 분석과 인공지능/머신러닝으로 커리어를 뻗어 나가고 싶은 직장인까지! 프로그래밍의 세계에 풍덩 빠져 보자.'},\n",
       "  {'title': 'CPython 파헤치기 (따라 하면서 이해하는 파이썬 내부의 동작 원리)',\n",
       "   'link': 'https://search.shopping.naver.com/book/catalog/34654408624',\n",
       "   'image': 'https://shopping-phinf.pstatic.net/main_3465440/34654408624.20220925092223.jpg',\n",
       "   'author': '앤서니 쇼^realpython.com 튜토리얼 팀',\n",
       "   'discount': '28800',\n",
       "   'publisher': '인사이트',\n",
       "   'pubdate': '20220923',\n",
       "   'isbn': '9788966263677',\n",
       "   'description': '인터프리터 레벨에서 살펴보는 파이선 내부 동작 원리\\n\\n파이썬이 인터프리터 레벨에서 작동하는 방식을 이해하면 파이썬의 기능을 최대한 활용할 수 있고 애플리케이션을 최적화할 수 있다. 《CPython 파헤치기》에서는 파이썬 내부 동작의 비밀을 파헤치고 소스 코드를 파이썬 인터프리터로 컴파일하는 방법을 소개한다. 파이썬이 실제로 동작하는 방식을 심도 있게 이해할 수 있도록 연습 문제를 통해 리스트나 딕셔너리, 제너레이터 등 파이썬 구성 요소들의 내부 동작을 설명한다.\\n\\n이 책에서 다루는 내용\\n* 개발 환경 구성하기\\n* 소스 코드 읽고 탐색하기\\n* CPython 소스 코드 컴파일하기\\n* CPython 메모리 관리 기능 이해하기\\n* 병렬성과 동시성을 통해 파이썬 코드 확장하기\\n* 코어 타입에 새로운 기능 추가하기\\n* 테스트 스위트 실행하기\\n* C와 파이썬 코드 디버깅하기\\n* CPython에 기여하기'},\n",
       "  {'title': 'Do it! 알고리즘 코딩 테스트: 파이썬 편 (코딩 테스트를 처음 준비하는 취준생의 필독서!)',\n",
       "   'link': 'https://search.shopping.naver.com/book/catalog/33938438618',\n",
       "   'image': 'https://shopping-phinf.pstatic.net/main_3393843/33938438618.20220820093108.jpg',\n",
       "   'author': '김종관',\n",
       "   'discount': '28800',\n",
       "   'publisher': '이지스퍼블리싱',\n",
       "   'pubdate': '20220816',\n",
       "   'isbn': '9791163033936',\n",
       "   'description': '기출 유형 분석부터 문제 풀이 비법까지\\n코딩 테스트를 처음 준비하는 IT 기업 취준생의 필독서!\\n\\n“코딩 테스트를 제대로 준비하려면 어떤 문제를 얼마나 풀어야 할까?” 곧 코딩 테스트를 앞둔 취업 또는 이직 준비생이라면 누구나 이런 고민을 할 것이다. 《Do it! 알고리즘 코딩 테스트 - 파이썬 편》에 그 답이 있다. 네이버, 카카오, 삼성, 라인 등 주요 IT 기업의 시험에 나오는 알고리즘 내용이 모두 담겨 있어 책 한 권만으로 코딩 테스트 합격에 필요한 지식을 충분히 공부할 수 있다. 책에 수록된 알고리즘 문제 100개는 모두 최신 기출 유형을 반영하고 있어서 이 책의 문제만 다 풀면 당장 코딩 테스트를 볼 수 있는 수준까지 실력을 갖출 수 있다. 모든 문제는 ‘분석, 전략, 슈도코드, 코드 구현’까지 총 4단계를 거쳐 푸는데, 이렇게 문제를 푸는 습관까지 자기 것으로 만든다면 진짜 시험에서 어떤 문제를 만나든 실수 없이 해결할 수 있을 것이다.'}]}"
      ]
     },
     "execution_count": 12,
     "metadata": {},
     "output_type": "execute_result"
    }
   ],
   "source": [
    "one_result"
   ]
  },
  {
   "cell_type": "code",
   "execution_count": null,
   "id": "e2e3a230",
   "metadata": {},
   "outputs": [],
   "source": [
    "one_result['items'][9]['title']"
   ]
  },
  {
   "cell_type": "code",
   "execution_count": null,
   "id": "08499817",
   "metadata": {},
   "outputs": [],
   "source": [
    "one_result['items'][0]['isbn']"
   ]
  },
  {
   "cell_type": "code",
   "execution_count": 20,
   "id": "2114ca27",
   "metadata": {},
   "outputs": [],
   "source": [
    "import pandas as pd \n",
    "\n",
    "def get_fields(json_data):\n",
    "    title = [each['title']for each in json_data['items']]\n",
    "    isbn =  [each['isbn']for each in json_data['items']]\n",
    "    publisher = [each['publisher']for each in json_data['items']]\n",
    "    pubdate = [each['pubdate']for each in json_data['items']]\n",
    "    \n",
    "    result_pd =  pd.DataFrame({\n",
    "        'title' : title,\n",
    "        'isbn' : isbn,\n",
    "        'publisher' : publisher,\n",
    "        'pubdate' : pubdate,\n",
    "    }, columns=['title','isbn','publisher','pubdate'])\n",
    "    \n",
    "    return result_pd"
   ]
  },
  {
   "cell_type": "code",
   "execution_count": 21,
   "id": "a47c2ce0",
   "metadata": {},
   "outputs": [
    {
     "data": {
      "text/html": [
       "<div>\n",
       "<style scoped>\n",
       "    .dataframe tbody tr th:only-of-type {\n",
       "        vertical-align: middle;\n",
       "    }\n",
       "\n",
       "    .dataframe tbody tr th {\n",
       "        vertical-align: top;\n",
       "    }\n",
       "\n",
       "    .dataframe thead th {\n",
       "        text-align: right;\n",
       "    }\n",
       "</style>\n",
       "<table border=\"1\" class=\"dataframe\">\n",
       "  <thead>\n",
       "    <tr style=\"text-align: right;\">\n",
       "      <th></th>\n",
       "      <th>title</th>\n",
       "      <th>isbn</th>\n",
       "      <th>publisher</th>\n",
       "      <th>pubdate</th>\n",
       "    </tr>\n",
       "  </thead>\n",
       "  <tbody>\n",
       "    <tr>\n",
       "      <th>0</th>\n",
       "      <td>혼자 공부하는 파이썬 (1:1 과외하듯 배우는 프로그래밍 자습서)</td>\n",
       "      <td>9791162245651</td>\n",
       "      <td>한빛미디어</td>\n",
       "      <td>20220601</td>\n",
       "    </tr>\n",
       "    <tr>\n",
       "      <th>1</th>\n",
       "      <td>파이썬 웹 스크레이핑 완벽 가이드 (파이썬 기초문법부터 스트림릿을 이용한 웹 앱 제...</td>\n",
       "      <td>9791158393571</td>\n",
       "      <td>위키북스</td>\n",
       "      <td>20220927</td>\n",
       "    </tr>\n",
       "    <tr>\n",
       "      <th>2</th>\n",
       "      <td>파이썬과 40개의 작품들 (자동화, 크롤링, 이미지처리, 데이터분석, 웹페이지, G...</td>\n",
       "      <td>9791185553931</td>\n",
       "      <td>앤써북</td>\n",
       "      <td>20220228</td>\n",
       "    </tr>\n",
       "    <tr>\n",
       "      <th>3</th>\n",
       "      <td>CODING BASICS PYTHON (파이썬)</td>\n",
       "      <td>9788959604210</td>\n",
       "      <td>렉스미디어닷넷</td>\n",
       "      <td>20220210</td>\n",
       "    </tr>\n",
       "    <tr>\n",
       "      <th>4</th>\n",
       "      <td>파이썬</td>\n",
       "      <td>9788970506784</td>\n",
       "      <td>생능출판</td>\n",
       "      <td>20220309</td>\n",
       "    </tr>\n",
       "    <tr>\n",
       "      <th>5</th>\n",
       "      <td>파이썬 머신러닝 완벽 가이드 (다양한 캐글 예제와 함께 기초 알고리즘부터 최신 기법...</td>\n",
       "      <td>9791158393229</td>\n",
       "      <td>위키북스</td>\n",
       "      <td>20220421</td>\n",
       "    </tr>\n",
       "    <tr>\n",
       "      <th>6</th>\n",
       "      <td>파이썬 (제2판)</td>\n",
       "      <td>9791166750991</td>\n",
       "      <td>북두</td>\n",
       "      <td>20220120</td>\n",
       "    </tr>\n",
       "    <tr>\n",
       "      <th>7</th>\n",
       "      <td>Do it! 점프 투 파이썬 (이미 200만명이 이 책으로 프로그래밍을 시작했다!)</td>\n",
       "      <td>9791163030911</td>\n",
       "      <td>이지스퍼블리싱</td>\n",
       "      <td>20190620</td>\n",
       "    </tr>\n",
       "    <tr>\n",
       "      <th>8</th>\n",
       "      <td>CPython 파헤치기 (따라 하면서 이해하는 파이썬 내부의 동작 원리)</td>\n",
       "      <td>9788966263677</td>\n",
       "      <td>인사이트</td>\n",
       "      <td>20220923</td>\n",
       "    </tr>\n",
       "    <tr>\n",
       "      <th>9</th>\n",
       "      <td>Do it! 알고리즘 코딩 테스트: 파이썬 편 (코딩 테스트를 처음 준비하는 취준생...</td>\n",
       "      <td>9791163033936</td>\n",
       "      <td>이지스퍼블리싱</td>\n",
       "      <td>20220816</td>\n",
       "    </tr>\n",
       "  </tbody>\n",
       "</table>\n",
       "</div>"
      ],
      "text/plain": [
       "                                               title           isbn publisher  \\\n",
       "0               혼자 공부하는 파이썬 (1:1 과외하듯 배우는 프로그래밍 자습서)  9791162245651     한빛미디어   \n",
       "1  파이썬 웹 스크레이핑 완벽 가이드 (파이썬 기초문법부터 스트림릿을 이용한 웹 앱 제...  9791158393571      위키북스   \n",
       "2  파이썬과 40개의 작품들 (자동화, 크롤링, 이미지처리, 데이터분석, 웹페이지, G...  9791185553931       앤써북   \n",
       "3                         CODING BASICS PYTHON (파이썬)  9788959604210   렉스미디어닷넷   \n",
       "4                                                파이썬  9788970506784      생능출판   \n",
       "5  파이썬 머신러닝 완벽 가이드 (다양한 캐글 예제와 함께 기초 알고리즘부터 최신 기법...  9791158393229      위키북스   \n",
       "6                                          파이썬 (제2판)  9791166750991        북두   \n",
       "7     Do it! 점프 투 파이썬 (이미 200만명이 이 책으로 프로그래밍을 시작했다!)  9791163030911   이지스퍼블리싱   \n",
       "8           CPython 파헤치기 (따라 하면서 이해하는 파이썬 내부의 동작 원리)  9788966263677      인사이트   \n",
       "9  Do it! 알고리즘 코딩 테스트: 파이썬 편 (코딩 테스트를 처음 준비하는 취준생...  9791163033936   이지스퍼블리싱   \n",
       "\n",
       "    pubdate  \n",
       "0  20220601  \n",
       "1  20220927  \n",
       "2  20220228  \n",
       "3  20220210  \n",
       "4  20220309  \n",
       "5  20220421  \n",
       "6  20220120  \n",
       "7  20190620  \n",
       "8  20220923  \n",
       "9  20220816  "
      ]
     },
     "execution_count": 21,
     "metadata": {},
     "output_type": "execute_result"
    }
   ],
   "source": [
    "get_fields(one_result)"
   ]
  },
  {
   "cell_type": "code",
   "execution_count": 22,
   "id": "81afdb17",
   "metadata": {},
   "outputs": [
    {
     "data": {
      "text/plain": [
       "'CODING BASICS PYTHON (파이썬)'"
      ]
     },
     "execution_count": 22,
     "metadata": {},
     "output_type": "execute_result"
    }
   ],
   "source": [
    "get_fields(one_result)['title'][3]"
   ]
  },
  {
   "cell_type": "code",
   "execution_count": 18,
   "id": "4668448c",
   "metadata": {},
   "outputs": [],
   "source": [
    "ten_title = ['파이썬'] "
   ]
  },
  {
   "cell_type": "code",
   "execution_count": null,
   "id": "9a117bca",
   "metadata": {},
   "outputs": [],
   "source": []
  },
  {
   "cell_type": "code",
   "execution_count": null,
   "id": "2876ffd8",
   "metadata": {},
   "outputs": [],
   "source": []
  },
  {
   "cell_type": "code",
   "execution_count": null,
   "id": "aa017112",
   "metadata": {},
   "outputs": [],
   "source": [
    "# result_panda = pd.DataFrame(pd_result['title'], columns = )"
   ]
  },
  {
   "cell_type": "code",
   "execution_count": null,
   "id": "4dd0a391",
   "metadata": {},
   "outputs": [],
   "source": []
  },
  {
   "cell_type": "code",
   "execution_count": 23,
   "id": "d64c30c7",
   "metadata": {},
   "outputs": [
    {
     "ename": "HTTPError",
     "evalue": "HTTP Error 500: Internal Server Error",
     "output_type": "error",
     "traceback": [
      "\u001b[0;31m---------------------------------------------------------------------------\u001b[0m",
      "\u001b[0;31mHTTPError\u001b[0m                                 Traceback (most recent call last)",
      "Cell \u001b[0;32mIn [23], line 3\u001b[0m\n\u001b[1;32m      1\u001b[0m \u001b[38;5;28;01mfor\u001b[39;00m language \u001b[38;5;129;01min\u001b[39;00m ten_title:\n\u001b[1;32m      2\u001b[0m     url \u001b[38;5;241m=\u001b[39m gen_search_url(\u001b[38;5;124m'\u001b[39m\u001b[38;5;124mbook\u001b[39m\u001b[38;5;124m'\u001b[39m, language , \u001b[38;5;241m1\u001b[39m, \u001b[38;5;241m10\u001b[39m )\n\u001b[0;32m----> 3\u001b[0m     json_result \u001b[38;5;241m=\u001b[39m \u001b[43mgen_result_onpage\u001b[49m\u001b[43m(\u001b[49m\u001b[43murl\u001b[49m\u001b[43m)\u001b[49m\n\u001b[1;32m      4\u001b[0m     pd_result \u001b[38;5;241m=\u001b[39m get_fields(json_result)\n\u001b[1;32m      5\u001b[0m     result_language \u001b[38;5;241m=\u001b[39m  pd\u001b[38;5;241m.\u001b[39mDataFrame(\n\u001b[1;32m      6\u001b[0m     {\n\u001b[1;32m      7\u001b[0m         language : pd_result[\u001b[38;5;124m'\u001b[39m\u001b[38;5;124mtitle\u001b[39m\u001b[38;5;124m'\u001b[39m]\n\u001b[1;32m      8\u001b[0m     })\n",
      "Cell \u001b[0;32mIn [10], line 11\u001b[0m, in \u001b[0;36mgen_result_onpage\u001b[0;34m(url)\u001b[0m\n\u001b[1;32m      9\u001b[0m request\u001b[38;5;241m.\u001b[39madd_header(\u001b[38;5;124m\"\u001b[39m\u001b[38;5;124mX-Naver-Client-Id\u001b[39m\u001b[38;5;124m\"\u001b[39m,client_id)\n\u001b[1;32m     10\u001b[0m request\u001b[38;5;241m.\u001b[39madd_header(\u001b[38;5;124m\"\u001b[39m\u001b[38;5;124mX-Naver-Client-Secret\u001b[39m\u001b[38;5;124m\"\u001b[39m,client_secret)\n\u001b[0;32m---> 11\u001b[0m response \u001b[38;5;241m=\u001b[39m \u001b[43murllib\u001b[49m\u001b[38;5;241;43m.\u001b[39;49m\u001b[43mrequest\u001b[49m\u001b[38;5;241;43m.\u001b[39;49m\u001b[43murlopen\u001b[49m\u001b[43m(\u001b[49m\u001b[43mrequest\u001b[49m\u001b[43m)\u001b[49m\n\u001b[1;32m     12\u001b[0m \u001b[38;5;28mprint\u001b[39m(\u001b[38;5;124m\"\u001b[39m\u001b[38;5;124m[\u001b[39m\u001b[38;5;132;01m%s\u001b[39;00m\u001b[38;5;124m] Url Request Success\u001b[39m\u001b[38;5;124m\"\u001b[39m \u001b[38;5;241m%\u001b[39m datetime\u001b[38;5;241m.\u001b[39mdatetime\u001b[38;5;241m.\u001b[39mnow())\n\u001b[1;32m     14\u001b[0m \u001b[38;5;28;01mreturn\u001b[39;00m json\u001b[38;5;241m.\u001b[39mloads(response\u001b[38;5;241m.\u001b[39mread()\u001b[38;5;241m.\u001b[39mdecode(\u001b[38;5;124m\"\u001b[39m\u001b[38;5;124mutf-8\u001b[39m\u001b[38;5;124m\"\u001b[39m))\n",
      "File \u001b[0;32m/usr/lib/python3.8/urllib/request.py:222\u001b[0m, in \u001b[0;36murlopen\u001b[0;34m(url, data, timeout, cafile, capath, cadefault, context)\u001b[0m\n\u001b[1;32m    220\u001b[0m \u001b[38;5;28;01melse\u001b[39;00m:\n\u001b[1;32m    221\u001b[0m     opener \u001b[38;5;241m=\u001b[39m _opener\n\u001b[0;32m--> 222\u001b[0m \u001b[38;5;28;01mreturn\u001b[39;00m \u001b[43mopener\u001b[49m\u001b[38;5;241;43m.\u001b[39;49m\u001b[43mopen\u001b[49m\u001b[43m(\u001b[49m\u001b[43murl\u001b[49m\u001b[43m,\u001b[49m\u001b[43m \u001b[49m\u001b[43mdata\u001b[49m\u001b[43m,\u001b[49m\u001b[43m \u001b[49m\u001b[43mtimeout\u001b[49m\u001b[43m)\u001b[49m\n",
      "File \u001b[0;32m/usr/lib/python3.8/urllib/request.py:531\u001b[0m, in \u001b[0;36mOpenerDirector.open\u001b[0;34m(self, fullurl, data, timeout)\u001b[0m\n\u001b[1;32m    529\u001b[0m \u001b[38;5;28;01mfor\u001b[39;00m processor \u001b[38;5;129;01min\u001b[39;00m \u001b[38;5;28mself\u001b[39m\u001b[38;5;241m.\u001b[39mprocess_response\u001b[38;5;241m.\u001b[39mget(protocol, []):\n\u001b[1;32m    530\u001b[0m     meth \u001b[38;5;241m=\u001b[39m \u001b[38;5;28mgetattr\u001b[39m(processor, meth_name)\n\u001b[0;32m--> 531\u001b[0m     response \u001b[38;5;241m=\u001b[39m \u001b[43mmeth\u001b[49m\u001b[43m(\u001b[49m\u001b[43mreq\u001b[49m\u001b[43m,\u001b[49m\u001b[43m \u001b[49m\u001b[43mresponse\u001b[49m\u001b[43m)\u001b[49m\n\u001b[1;32m    533\u001b[0m \u001b[38;5;28;01mreturn\u001b[39;00m response\n",
      "File \u001b[0;32m/usr/lib/python3.8/urllib/request.py:640\u001b[0m, in \u001b[0;36mHTTPErrorProcessor.http_response\u001b[0;34m(self, request, response)\u001b[0m\n\u001b[1;32m    637\u001b[0m \u001b[38;5;66;03m# According to RFC 2616, \"2xx\" code indicates that the client's\u001b[39;00m\n\u001b[1;32m    638\u001b[0m \u001b[38;5;66;03m# request was successfully received, understood, and accepted.\u001b[39;00m\n\u001b[1;32m    639\u001b[0m \u001b[38;5;28;01mif\u001b[39;00m \u001b[38;5;129;01mnot\u001b[39;00m (\u001b[38;5;241m200\u001b[39m \u001b[38;5;241m<\u001b[39m\u001b[38;5;241m=\u001b[39m code \u001b[38;5;241m<\u001b[39m \u001b[38;5;241m300\u001b[39m):\n\u001b[0;32m--> 640\u001b[0m     response \u001b[38;5;241m=\u001b[39m \u001b[38;5;28;43mself\u001b[39;49m\u001b[38;5;241;43m.\u001b[39;49m\u001b[43mparent\u001b[49m\u001b[38;5;241;43m.\u001b[39;49m\u001b[43merror\u001b[49m\u001b[43m(\u001b[49m\n\u001b[1;32m    641\u001b[0m \u001b[43m        \u001b[49m\u001b[38;5;124;43m'\u001b[39;49m\u001b[38;5;124;43mhttp\u001b[39;49m\u001b[38;5;124;43m'\u001b[39;49m\u001b[43m,\u001b[49m\u001b[43m \u001b[49m\u001b[43mrequest\u001b[49m\u001b[43m,\u001b[49m\u001b[43m \u001b[49m\u001b[43mresponse\u001b[49m\u001b[43m,\u001b[49m\u001b[43m \u001b[49m\u001b[43mcode\u001b[49m\u001b[43m,\u001b[49m\u001b[43m \u001b[49m\u001b[43mmsg\u001b[49m\u001b[43m,\u001b[49m\u001b[43m \u001b[49m\u001b[43mhdrs\u001b[49m\u001b[43m)\u001b[49m\n\u001b[1;32m    643\u001b[0m \u001b[38;5;28;01mreturn\u001b[39;00m response\n",
      "File \u001b[0;32m/usr/lib/python3.8/urllib/request.py:569\u001b[0m, in \u001b[0;36mOpenerDirector.error\u001b[0;34m(self, proto, *args)\u001b[0m\n\u001b[1;32m    567\u001b[0m \u001b[38;5;28;01mif\u001b[39;00m http_err:\n\u001b[1;32m    568\u001b[0m     args \u001b[38;5;241m=\u001b[39m (\u001b[38;5;28mdict\u001b[39m, \u001b[38;5;124m'\u001b[39m\u001b[38;5;124mdefault\u001b[39m\u001b[38;5;124m'\u001b[39m, \u001b[38;5;124m'\u001b[39m\u001b[38;5;124mhttp_error_default\u001b[39m\u001b[38;5;124m'\u001b[39m) \u001b[38;5;241m+\u001b[39m orig_args\n\u001b[0;32m--> 569\u001b[0m     \u001b[38;5;28;01mreturn\u001b[39;00m \u001b[38;5;28;43mself\u001b[39;49m\u001b[38;5;241;43m.\u001b[39;49m\u001b[43m_call_chain\u001b[49m\u001b[43m(\u001b[49m\u001b[38;5;241;43m*\u001b[39;49m\u001b[43margs\u001b[49m\u001b[43m)\u001b[49m\n",
      "File \u001b[0;32m/usr/lib/python3.8/urllib/request.py:502\u001b[0m, in \u001b[0;36mOpenerDirector._call_chain\u001b[0;34m(self, chain, kind, meth_name, *args)\u001b[0m\n\u001b[1;32m    500\u001b[0m \u001b[38;5;28;01mfor\u001b[39;00m handler \u001b[38;5;129;01min\u001b[39;00m handlers:\n\u001b[1;32m    501\u001b[0m     func \u001b[38;5;241m=\u001b[39m \u001b[38;5;28mgetattr\u001b[39m(handler, meth_name)\n\u001b[0;32m--> 502\u001b[0m     result \u001b[38;5;241m=\u001b[39m \u001b[43mfunc\u001b[49m\u001b[43m(\u001b[49m\u001b[38;5;241;43m*\u001b[39;49m\u001b[43margs\u001b[49m\u001b[43m)\u001b[49m\n\u001b[1;32m    503\u001b[0m     \u001b[38;5;28;01mif\u001b[39;00m result \u001b[38;5;129;01mis\u001b[39;00m \u001b[38;5;129;01mnot\u001b[39;00m \u001b[38;5;28;01mNone\u001b[39;00m:\n\u001b[1;32m    504\u001b[0m         \u001b[38;5;28;01mreturn\u001b[39;00m result\n",
      "File \u001b[0;32m/usr/lib/python3.8/urllib/request.py:649\u001b[0m, in \u001b[0;36mHTTPDefaultErrorHandler.http_error_default\u001b[0;34m(self, req, fp, code, msg, hdrs)\u001b[0m\n\u001b[1;32m    648\u001b[0m \u001b[38;5;28;01mdef\u001b[39;00m \u001b[38;5;21mhttp_error_default\u001b[39m(\u001b[38;5;28mself\u001b[39m, req, fp, code, msg, hdrs):\n\u001b[0;32m--> 649\u001b[0m     \u001b[38;5;28;01mraise\u001b[39;00m HTTPError(req\u001b[38;5;241m.\u001b[39mfull_url, code, msg, hdrs, fp)\n",
      "\u001b[0;31mHTTPError\u001b[0m: HTTP Error 500: Internal Server Error"
     ]
    }
   ],
   "source": [
    "\n",
    "for language in ten_title:\n",
    "    url = gen_search_url('book', language , 1, 10 )\n",
    "    json_result = gen_result_onpage(url)\n",
    "    pd_result = get_fields(json_result)\n",
    "    result_language =  pd.DataFrame(\n",
    "    {\n",
    "        language : pd_result['title']\n",
    "    })\n",
    "    \n",
    "result_language "
   ]
  },
  {
   "cell_type": "code",
   "execution_count": null,
   "id": "cf2f2f57",
   "metadata": {},
   "outputs": [],
   "source": [
    "# result_language"
   ]
  },
  {
   "cell_type": "code",
   "execution_count": null,
   "id": "4e49e94e",
   "metadata": {},
   "outputs": [],
   "source": []
  }
 ],
 "metadata": {
  "kernelspec": {
   "display_name": "Python 3 (ipykernel)",
   "language": "python",
   "name": "python3"
  },
  "language_info": {
   "codemirror_mode": {
    "name": "ipython",
    "version": 3
   },
   "file_extension": ".py",
   "mimetype": "text/x-python",
   "name": "python",
   "nbconvert_exporter": "python",
   "pygments_lexer": "ipython3",
   "version": "3.8.10"
  }
 },
 "nbformat": 4,
 "nbformat_minor": 5
}
