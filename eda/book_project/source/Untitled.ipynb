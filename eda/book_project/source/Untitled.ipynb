{
 "cells": [
  {
   "cell_type": "code",
   "execution_count": 1,
   "id": "b8a0697e",
   "metadata": {},
   "outputs": [],
   "source": [
    "from selenium import webdriver\n",
    "from selenium.webdriver.chrome.service import Service\n",
    "from selenium.webdriver.common.by import By\n",
    "from selenium.webdriver.common.keys import Keys\n",
    "from selenium.webdriver import ActionChains\n",
    "from bs4 import BeautifulSoup\n",
    "from tqdm.notebook import tqdm \n",
    "import time "
   ]
  },
  {
   "cell_type": "code",
   "execution_count": 3,
   "id": "25792894",
   "metadata": {},
   "outputs": [],
   "source": [
    "import pandas as pd\n",
    "import matplotlib.pyplot as plt \n",
    "import seaborn as sns\n",
    "from urllib.request import Request , urlopen"
   ]
  },
  {
   "cell_type": "code",
   "execution_count": 4,
   "id": "3a650e6e",
   "metadata": {},
   "outputs": [],
   "source": [
    "chrome_options = webdriver.ChromeOptions()\n",
    "\n",
    "url = 'https://search.shopping.naver.com/book/home' # 네이버 도서 url \n",
    "driver = webdriver.Chrome(service=Service('/home/seungsu/workspace/data/Selenium/driver/chromedriver'), options = chrome_options)\n",
    "driver.get(url)"
   ]
  },
  {
   "cell_type": "code",
   "execution_count": 5,
   "id": "c3fe8541",
   "metadata": {},
   "outputs": [],
   "source": [
    "ten_language = ['Python', 'C', 'Java' , 'C++' , 'C#' , 'Visual Basic', 'JavaScript', 'SQL', 'PHP', 'Assembly language', 'R']"
   ]
  },
  {
   "cell_type": "code",
   "execution_count": 6,
   "id": "d556a3eb",
   "metadata": {},
   "outputs": [],
   "source": [
    "xpath = '''//*[@id=\"__next\"]/div/div[1]/div/div[3]/div/div[2]/div'''\n",
    "search_btn = driver.find_element(By.XPATH, xpath).click()"
   ]
  },
  {
   "cell_type": "code",
   "execution_count": 8,
   "id": "32940162",
   "metadata": {},
   "outputs": [],
   "source": [
    "css_selector = '''#__next > div > div.header_header__22qGI > div > div.lnb_header_lnb__WSji2 > div > div.bookLnbSearch_lnb_search__JOqcI > div > form > fieldset > input'''\n",
    "search_docs = driver.find_element(By.CSS_SELECTOR, css_selector).send_keys('파이썬'"
   ]
  },
  {
   "cell_type": "code",
   "execution_count": 9,
   "id": "d4bda95e",
   "metadata": {},
   "outputs": [],
   "source": [
    "button = '''//*[@id=\"__next\"]/div/div[1]/div/div[3]/div/div[2]/div/form/fieldset/a'''\n",
    "search_button = driver.find_element(By.XPATH, button).click()"
   ]
  },
  {
   "cell_type": "code",
   "execution_count": null,
   "id": "52aa317e",
   "metadata": {},
   "outputs": [],
   "source": []
  }
 ],
 "metadata": {
  "kernelspec": {
   "display_name": "Python 3 (ipykernel)",
   "language": "python",
   "name": "python3"
  },
  "language_info": {
   "codemirror_mode": {
    "name": "ipython",
    "version": 3
   },
   "file_extension": ".py",
   "mimetype": "text/x-python",
   "name": "python",
   "nbconvert_exporter": "python",
   "pygments_lexer": "ipython3",
   "version": "3.8.10"
  }
 },
 "nbformat": 4,
 "nbformat_minor": 5
}
