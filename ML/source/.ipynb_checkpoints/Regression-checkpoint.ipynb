{
 "cells": [
  {
   "cell_type": "code",
   "execution_count": 8,
   "id": "1c491e1d",
   "metadata": {},
   "outputs": [
    {
     "data": {
      "text/html": [
       "<div>\n",
       "<style scoped>\n",
       "    .dataframe tbody tr th:only-of-type {\n",
       "        vertical-align: middle;\n",
       "    }\n",
       "\n",
       "    .dataframe tbody tr th {\n",
       "        vertical-align: top;\n",
       "    }\n",
       "\n",
       "    .dataframe thead th {\n",
       "        text-align: right;\n",
       "    }\n",
       "</style>\n",
       "<table border=\"1\" class=\"dataframe\">\n",
       "  <thead>\n",
       "    <tr style=\"text-align: right;\">\n",
       "      <th></th>\n",
       "      <th>x</th>\n",
       "      <th>y</th>\n",
       "    </tr>\n",
       "  </thead>\n",
       "  <tbody>\n",
       "    <tr>\n",
       "      <th>0</th>\n",
       "      <td>1.0</td>\n",
       "      <td>1.0</td>\n",
       "    </tr>\n",
       "    <tr>\n",
       "      <th>1</th>\n",
       "      <td>2.0</td>\n",
       "      <td>3.0</td>\n",
       "    </tr>\n",
       "    <tr>\n",
       "      <th>2</th>\n",
       "      <td>3.0</td>\n",
       "      <td>4.0</td>\n",
       "    </tr>\n",
       "    <tr>\n",
       "      <th>3</th>\n",
       "      <td>4.0</td>\n",
       "      <td>6.0</td>\n",
       "    </tr>\n",
       "    <tr>\n",
       "      <th>4</th>\n",
       "      <td>5.0</td>\n",
       "      <td>5.0</td>\n",
       "    </tr>\n",
       "  </tbody>\n",
       "</table>\n",
       "</div>"
      ],
      "text/plain": [
       "     x    y\n",
       "0  1.0  1.0\n",
       "1  2.0  3.0\n",
       "2  3.0  4.0\n",
       "3  4.0  6.0\n",
       "4  5.0  5.0"
      ]
     },
     "execution_count": 8,
     "metadata": {},
     "output_type": "execute_result"
    }
   ],
   "source": [
    "import pandas as pd\n",
    "\n",
    "data = {'x' : [1.,2.,3.,4.,5.], 'y' : [1.,3.,4.,6.,5.]}\n",
    "\n",
    "df = pd.DataFrame(data)\n",
    "\n",
    "df"
   ]
  },
  {
   "cell_type": "code",
   "execution_count": 2,
   "id": "a1f9d0d6",
   "metadata": {},
   "outputs": [],
   "source": [
    "import statsmodels.formula.api as smf"
   ]
  },
  {
   "cell_type": "code",
   "execution_count": 9,
   "id": "d880b51f",
   "metadata": {},
   "outputs": [],
   "source": [
    "lm_model = smf.ols(formula = \"y ~ x\", data=df).fit() # 학습시키기 "
   ]
  },
  {
   "cell_type": "code",
   "execution_count": 10,
   "id": "fb63678a",
   "metadata": {},
   "outputs": [
    {
     "data": {
      "text/plain": [
       "Intercept    0.5\n",
       "x            1.1\n",
       "dtype: float64"
      ]
     },
     "execution_count": 10,
     "metadata": {},
     "output_type": "execute_result"
    }
   ],
   "source": [
    "lm_model.params #학습 결과"
   ]
  },
  {
   "cell_type": "code",
   "execution_count": 11,
   "id": "f224381c",
   "metadata": {},
   "outputs": [],
   "source": [
    "import matplotlib.pyplot as plt\n",
    "import seaborn as sns\n",
    "%matplotlib inline"
   ]
  },
  {
   "cell_type": "code",
   "execution_count": 13,
   "id": "701370ba",
   "metadata": {},
   "outputs": [
    {
     "data": {
      "image/png": "[encoded data removed]",
      "text/plain": [
       "<Figure size 500x500 with 1 Axes>"
      ]
     },
     "metadata": {},
     "output_type": "display_data"
    }
   ],
   "source": [
    "sns.lmplot(x='x', y='y', data = df);"
   ]
  },
  {
   "cell_type": "code",
   "execution_count": 14,
   "id": "e27c57db",
   "metadata": {},
   "outputs": [
    {
     "data": {
      "text/plain": [
       "0   -0.6\n",
       "1    0.3\n",
       "2    0.2\n",
       "3    1.1\n",
       "4   -1.0\n",
       "dtype: float64"
      ]
     },
     "execution_count": 14,
     "metadata": {},
     "output_type": "execute_result"
    }
   ],
   "source": [
    "resid = lm_model.resid\n",
    "resid"
   ]
  },
  {
   "cell_type": "markdown",
   "id": "69c6a69a",
   "metadata": {},
   "source": [
    "# R_squared 가 1에 가까울수록 정확성이 좋은 모델 "
   ]
  },
  {
   "cell_type": "markdown",
   "id": "f90066f8",
   "metadata": {},
   "source": [
    "* 잔차의 분포가 표준정규분포에 가까울수록 좋은 모델 "
   ]
  },
  {
   "cell_type": "code",
   "execution_count": 15,
   "id": "7f7cce27",
   "metadata": {},
   "outputs": [
    {
     "data": {
      "text/plain": [
       "0.8175675675675673"
      ]
     },
     "execution_count": 15,
     "metadata": {},
     "output_type": "execute_result"
    }
   ],
   "source": [
    "import numpy as np\n",
    "\n",
    "mu = np.mean(df.y)\n",
    "y = df.y\n",
    "yhat = lm_model.predict() ## lm_model 직선 y 예측값\n",
    "np.sum((yhat-mu)**2 / np.sum((y-mu)**2)) ## (직선 y값 - 데이터 y값 평균)의 합 == 예측모델의 에러 평균값의 합\n",
    "                                         ## (실제 y값 - 데이터 y값 평균)의 합 == 실제데이터 에러 평균값의 합\n",
    "    "
   ]
  },
  {
   "cell_type": "code",
   "execution_count": 18,
   "id": "dfec9c18",
   "metadata": {},
   "outputs": [
    {
     "data": {
      "text/plain": [
       "0.8175675675675677"
      ]
     },
     "execution_count": 18,
     "metadata": {},
     "output_type": "execute_result"
    }
   ],
   "source": [
    "lm_model.rsquared"
   ]
  },
  {
   "cell_type": "code",
   "execution_count": 19,
   "id": "fcb476c6",
   "metadata": {},
   "outputs": [
    {
     "name": "stderr",
     "output_type": "stream",
     "text": [
      "/tmp/ipykernel_22910/985868964.py:1: UserWarning: \n",
      "\n",
      "`distplot` is a deprecated function and will be removed in seaborn v0.14.0.\n",
      "\n",
      "Please adapt your code to use either `displot` (a figure-level function with\n",
      "similar flexibility) or `histplot` (an axes-level function for histograms).\n",
      "\n",
      "For a guide to updating your code to use the new functions, please see\n",
      "https://gist.github.com/mwaskom/de44147ed2974457ad6372750bbe5751\n",
      "\n",
      "  sns.distplot(resid, color = 'black')\n"
     ]
    },
    {
     "data": {
      "text/plain": [
       "<AxesSubplot: ylabel='Density'>"
      ]
     },
     "execution_count": 19,
     "metadata": {},
     "output_type": "execute_result"
    },
    {
     "data": {
      "image/png": "[encoded data removed]",
      "text/plain": [
       "<Figure size 640x480 with 1 Axes>"
      ]
     },
     "metadata": {},
     "output_type": "display_data"
    }
   ],
   "source": [
    "## 잔차의 분포도 \n",
    "sns.distplot(resid, color = 'black')"
   ]
  },
  {
   "cell_type": "markdown",
   "id": "f86b1a4c",
   "metadata": {},
   "source": [
    "##  선형 회귀란  \n",
    "* 지도학습  회귀 예측을 일차방정식 직선으로 모델을 만드는 것  "
   ]
  },
  {
   "cell_type": "markdown",
   "id": "ef6a3376",
   "metadata": {},
   "source": [
    "# Cost Function \n",
    "    에러 제곱의 합 평균\n",
    "* 선형회귀를 구하는 과정 \n"
   ]
  },
  {
   "cell_type": "markdown",
   "id": "ed702511",
   "metadata": {},
   "source": [
    "* 단순하게 한 번의 시도로 costFunction의 최소값 구하기 어려움 "
   ]
  },
  {
   "cell_type": "markdown",
   "id": "ce4d9c46",
   "metadata": {},
   "source": [
    "# Gradient Descent "
   ]
  },
  {
   "cell_type": "markdown",
   "id": "c1833a89",
   "metadata": {},
   "source": [
    "* Costfunction의 최소값 위치에 오른쪽 이라면 미분값이 + !! "
   ]
  },
  {
   "cell_type": "markdown",
   "id": "b279440b",
   "metadata": {},
   "source": [
    "* Costfunction의 최소값 위치에 왼쪽이라면 미분값이 - !! "
   ]
  },
  {
   "cell_type": "markdown",
   "id": "e2dced3d",
   "metadata": {},
   "source": [
    "# Learning Rate"
   ]
  },
  {
   "cell_type": "markdown",
   "id": "c2cbbc47",
   "metadata": {},
   "source": [
    "* 학습률 : CostFunction의 최소값으로 다가가기 위한 갱신 값 설정"
   ]
  },
  {
   "cell_type": "code",
   "execution_count": null,
   "id": "82392dd6",
   "metadata": {},
   "outputs": [],
   "source": []
  }
 ],
 "metadata": {
  "kernelspec": {
   "display_name": "Python 3 (ipykernel)",
   "language": "python",
   "name": "python3"
  },
  "language_info": {
   "codemirror_mode": {
    "name": "ipython",
    "version": 3
   },
   "file_extension": ".py",
   "mimetype": "text/x-python",
   "name": "python",
   "nbconvert_exporter": "python",
   "pygments_lexer": "ipython3",
   "version": "3.8.10"
  }
 },
 "nbformat": 4,
 "nbformat_minor": 5
}
