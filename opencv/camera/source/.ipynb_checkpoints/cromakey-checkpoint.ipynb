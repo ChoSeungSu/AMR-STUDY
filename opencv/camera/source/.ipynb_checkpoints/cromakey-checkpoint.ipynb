{
 "cells": [
  {
   "cell_type": "code",
   "execution_count": 1,
   "metadata": {},
   "outputs": [
    {
     "ename": "ModuleNotFoundError",
     "evalue": "No module named 'cv2'",
     "output_type": "error",
     "traceback": [
      "\u001b[0;31m---------------------------------------------------------------------------\u001b[0m",
      "\u001b[0;31mModuleNotFoundError\u001b[0m                       Traceback (most recent call last)",
      "\u001b[0;32m<ipython-input-1-c6e7e447133f>\u001b[0m in \u001b[0;36m<module>\u001b[0;34m\u001b[0m\n\u001b[1;32m      1\u001b[0m \u001b[0;32mimport\u001b[0m \u001b[0msys\u001b[0m\u001b[0;34m\u001b[0m\u001b[0;34m\u001b[0m\u001b[0m\n\u001b[1;32m      2\u001b[0m \u001b[0;32mimport\u001b[0m \u001b[0mnumpy\u001b[0m \u001b[0;32mas\u001b[0m \u001b[0mnp\u001b[0m\u001b[0;34m\u001b[0m\u001b[0;34m\u001b[0m\u001b[0m\n\u001b[0;32m----> 3\u001b[0;31m \u001b[0;32mimport\u001b[0m \u001b[0mcv2\u001b[0m\u001b[0;34m\u001b[0m\u001b[0;34m\u001b[0m\u001b[0m\n\u001b[0m",
      "\u001b[0;31mModuleNotFoundError\u001b[0m: No module named 'cv2'"
     ]
    }
   ],
   "source": [
    "import sys\n",
    "import numpy as np\n",
    "import cv2"
   ]
  },
  {
   "cell_type": "code",
   "execution_count": null,
   "metadata": {},
   "outputs": [],
   "source": [
    "\n",
    "cap1 = cv2.VideoCapture('woman.mp4') ## 영상 불러오는 함수 VideoCapture\n",
    "\n",
    "if not cap1.isOpened():\n",
    "    print('video open failed')\n",
    "    sys.exit()\n",
    "    \n",
    "cap2 = cv2.VideoCapture('raining.mp4')\n",
    "\n",
    "if not cap2.isOpened():\n",
    "    print('video open failed')\n",
    "    sys.exit()\n",
    "    \n",
    "frame_cnt1 = round(cap1.get(cv2.CAP_PROP_FRAME_COUNT)) ## cap1 영상의 프레임 숫자를 계산\n",
    "frame_cnt2 = round(cap2,get(cv2.CAP_PORP_FRAME_COUNT)) ## cap2 영상의 프레임 숫자를 계산\n",
    "print('frame_cnt1:' , frame_cnt1)\n",
    "print('frame_cnt2:' , frame_cnt2)\n",
    "\n",
    "fps = cap1.get(cv2.CAP_PROP_FPS)\n",
    "delay = int(1000 / fps)\n",
    "\n",
    "## 프레임이 10개면 프레임 사이에 0.1초 간격을 주기 위함 \n",
    "\n",
    "do_composit = False ## 합성여부 플래그\n",
    "\n",
    "while True:\n",
    "    ret1 , frame1 = cap1.read() ## 가져온 영상 읽는 함수 \n",
    "                                ## 성공적으로 가져오면 ret값은 true / false \n",
    "                                ## frame1에는 하나의 픽셀정보\n",
    "    if not ret1:\n",
    "        break\n",
    "    \n",
    "    if do_composit:\n",
    "        ret2 , frame2 = cap2.read()\n",
    "            \n",
    "            if not ret2:\n",
    "                break \n",
    "                \n",
    "        hsv = cv2.cvtColor(frame1, cv2.COLOR_BGR2HSV)\n",
    "        mask = cv2.inRange(hsv, (50,150,0), (70,255,255))\n",
    "        cv2.copyTo(frame2, mask , hsv)\n",
    "        \n",
    "        \n",
    "    cv2.imshow('frame', frame1)\n",
    "    key = cv2.waitKey(delay)\n",
    "    \n",
    "    if key == ord(' '):\n",
    "        do_composit - not do_composit\n",
    "        \n",
    "    elif key == 27:\n",
    "        break\n",
    "        \n",
    "cap1.release()\n",
    "cap2.release()\n",
    "\n",
    "cv2.des"
   ]
  }
 ],
 "metadata": {
  "kernelspec": {
   "display_name": "Python 3",
   "language": "python",
   "name": "python3"
  },
  "language_info": {
   "codemirror_mode": {
    "name": "ipython",
    "version": 3
   },
   "file_extension": ".py",
   "mimetype": "text/x-python",
   "name": "python",
   "nbconvert_exporter": "python",
   "pygments_lexer": "ipython3",
   "version": "3.8.10"
  }
 },
 "nbformat": 4,
 "nbformat_minor": 4
}
