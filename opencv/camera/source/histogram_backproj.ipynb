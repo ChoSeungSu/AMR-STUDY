{
 "cells": [
  {
   "cell_type": "code",
   "execution_count": 4,
   "id": "9c725d32",
   "metadata": {},
   "outputs": [],
   "source": [
    "import sys\n",
    "import numpy as np\n",
    "import cv2"
   ]
  },
  {
   "cell_type": "code",
   "execution_count": 5,
   "id": "92337b89",
   "metadata": {},
   "outputs": [],
   "source": [
    "src = cv2.imread('../data/cropland.png')\n",
    "\n",
    "if src is None:\n",
    "    print('image load failed')\n",
    "    sys.exit()\n",
    "    \n",
    "x,y,w,h = cv2.selectROI(src)\n",
    "# roi 영역을 지정해주면 그 roi 영역의 x,y(좌측위) , w(가로), h(세로) 반환\n",
    "\n",
    "src_ycrcb = cv2.cvtColor(src, cv2.COLOR_BGR2YCrCb)\n",
    "\n",
    "crop = src_ycrcb[y:y+h, x:x+w]\n",
    "## crop은 roi 영역에 대한 픽셀 데이터 \n",
    "\n",
    "channels = [1,2]\n",
    "cr_bins = 128\n",
    "cb_bins = 128\n",
    "histSize = [cr_bins, cb_bins]\n",
    "cr_range = [0,256]\n",
    "cb_range = [0,256]\n",
    "ranges = cr_range + cb_range\n",
    "# channels = [1,2]\n",
    "# histSize = [128, 128]\n",
    "# ranges = [0, 256, 0 , 256]\n",
    "\n",
    "hist = cv2.calcHist([crop], channels, None, histSize, ranges)\n",
    "# hist는 히스토그램 합계 calcHist\n",
    "hist_norm = cv2.normalize(cv2.log(hist+1), None, 0 , 255, cv2.NORM_MINMAX, cv2.CV_8U)\n",
    "# src는 로그 스케일로 데이터 입력 \n",
    "# 0 , 255 는 정규화의 최솟값과 최댓값 \n",
    "# cv2.NORM_MINMAX 는 정규화 타입 \n",
    "\n",
    "backproj = cv2.calcBackProject([src_ycrcb], channels, hist, ranges, 1)\n",
    "# 입력은 직접 만든 ROI 입력 영상 리스트\n",
    "# hist는 입력 히스토그램 \n",
    "dst = cv2.copyTo(src, backproj)\n",
    "\n",
    "cv2.imshow('backproj', backproj)\n",
    "cv2.imshow('hist_norm', hist_norm)\n",
    "cv2.imshow('dst', dst)\n",
    "cv2.waitKey()\n",
    "cv2.destroyAllWindows()"
   ]
  },
  {
   "cell_type": "code",
   "execution_count": 2,
   "id": "880ee667",
   "metadata": {},
   "outputs": [],
   "source": []
  },
  {
   "cell_type": "code",
   "execution_count": null,
   "id": "7dcdf4e8",
   "metadata": {
    "scrolled": true
   },
   "outputs": [],
   "source": []
  },
  {
   "cell_type": "code",
   "execution_count": null,
   "id": "b5221092",
   "metadata": {},
   "outputs": [],
   "source": []
  }
 ],
 "metadata": {
  "kernelspec": {
   "display_name": "Python 3 (ipykernel)",
   "language": "python",
   "name": "python3"
  },
  "language_info": {
   "codemirror_mode": {
    "name": "ipython",
    "version": 3
   },
   "file_extension": ".py",
   "mimetype": "text/x-python",
   "name": "python",
   "nbconvert_exporter": "python",
   "pygments_lexer": "ipython3",
   "version": "3.8.10"
  }
 },
 "nbformat": 4,
 "nbformat_minor": 5
}
