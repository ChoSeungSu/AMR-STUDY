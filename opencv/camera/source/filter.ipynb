{
 "cells": [
  {
   "cell_type": "markdown",
   "id": "10a7982b",
   "metadata": {},
   "source": [
    "# blur 필터 평균값 "
   ]
  },
  {
   "cell_type": "code",
   "execution_count": 1,
   "id": "650b8c45",
   "metadata": {},
   "outputs": [],
   "source": [
    "import sys\n",
    "import numpy as np\n",
    "import cv2\n"
   ]
  },
  {
   "cell_type": "code",
   "execution_count": 7,
   "id": "e6195419",
   "metadata": {},
   "outputs": [],
   "source": [
    "\n",
    "src = cv2.imread('../data/rose.bmp', cv2.IMREAD_GRAYSCALE) ## Rose사진 그레이스케일로 읽음\n",
    "\n",
    "if src is None:\n",
    "    print('image load failed')\n",
    "    sys.exit()\n",
    "    \n",
    "cv2.imshow('src', src) \n",
    "\n",
    "for ksize in (3,5,7):\n",
    "    dst = cv2.blur(src, (ksize, ksize)) ## (x,x)사이즈 평균값 필터\n",
    "    \n",
    "    desc = 'Mean: {}x{}'.format(ksize, ksize) ## 문자열 포맷팅 \n",
    "    cv2.putText(dst, desc, (10,30), cv2.FONT_HERSHEY_SIMPLEX, 1.0, 255, 1, cv2.LINE_AA)\n",
    "   \n",
    "    cv2.imshow('dst', dst)\n",
    "    cv2.waitKey() ## 아무키를 누를때마다 반복문 실행\n",
    "    \n",
    "cv2.destroyAllWindows()\n"
   ]
  },
  {
   "cell_type": "markdown",
   "id": "dbfa5f5e",
   "metadata": {},
   "source": [
    "# GaussianBlur "
   ]
  },
  {
   "cell_type": "code",
   "execution_count": 2,
   "id": "0db3f45d",
   "metadata": {},
   "outputs": [],
   "source": [
    "src = cv2.imread('../data/rose.bmp', cv2.IMREAD_GRAYSCALE)\n",
    "\n",
    "if  src is None:\n",
    "    print('Image load failed')\n",
    "    sys.exit()\n",
    "    \n",
    "cv2.imshow('src' , src)\n",
    "\n",
    "for sigma in range(1,6):\n",
    "    dst = cv2.GaussianBlur(src, (0,0),sigma)\n",
    "    desc = 'sigma = {}'.format(sigma)\n",
    "    \n",
    "    cv2.putText(dst, desc, (10,30), cv2.FONT_HERSHEY_SIMPLEX, 1.0, 255, 1, cv2.LINE_AA)\n",
    "    \n",
    "    cv2.imshow('dst', dst)\n",
    "    cv2.waitKey()\n",
    "\n",
    "cv2.destroyAllWindows()"
   ]
  },
  {
   "cell_type": "markdown",
   "id": "cfceb3ad",
   "metadata": {},
   "source": [
    "# 샤프닝 필터"
   ]
  },
  {
   "cell_type": "code",
   "execution_count": 12,
   "id": "ca49e39a",
   "metadata": {},
   "outputs": [],
   "source": [
    "src = cv2.imread('../data/rose.bmp' , cv2.IMREAD_GRAYSCALE)\n",
    "\n",
    "if src is None:\n",
    "    print('image load failed')\n",
    "    sys.exit()\n",
    "    \n",
    "blr = cv2.GaussianBlur(src, (0,0), 2)\n",
    "dst = np.clip(2.0*src - blr, 0 , 255).astype(np.uint8) \n",
    "## np.clip 함수\n",
    "## 2.0*src-blr 값보다 작으면 0 값보다 크면 255 \n",
    "## 명암대비 선명해지는 효과를 만들 수 있다.\n",
    "\n",
    "## 샤프닝 필터의 원리는 \n",
    "## 픽셀의 변화가 없는 부분은 blr 값이 적을것이고 \n",
    "## 픽샐의 변화가 많은 부분은 blr 값이 높다.\n",
    "\n",
    "cv2.imshow('src', src)\n",
    "cv2.imshow('blr', blr)\n",
    "cv2.imshow('dst', dst)\n",
    "cv2.waitKey()\n",
    "\n",
    "cv2.destroyAllWindows()"
   ]
  },
  {
   "cell_type": "code",
   "execution_count": 18,
   "id": "387497c3",
   "metadata": {},
   "outputs": [],
   "source": [
    "src = cv2.imread('../data/rose.bmp')\n",
    "\n",
    "if src is None:\n",
    "    print('image load failed')\n",
    "    sys.exit()\n",
    "\n",
    "##색깔 rgb 사진에 샤프닝 필터를 적용할때는 \n",
    "## rgb를 hsv 혹은 Ycrcb등으로 바꿔서 진행해야 함 \n",
    "\n",
    "src_ycrcb = cv2.cvtColor(src, cv2.COLOR_BGR2YCrCb)\n",
    "src_f = src_ycrcb[:,:,0].astype(np.float32)\n",
    "    \n",
    "blr = cv2.GaussianBlur(src_f, (0,0), 2.0)\n",
    "src_ycrcb[:,:,0] = np.clip(2. *src_f- blr, 0 , 255).astype(np.uint8) \n",
    "\n",
    "dst  = cv2.cvtColor(src_ycrcb, cv2.COLOR_YCrCb2BGR)\n",
    "\n",
    "cv2.imshow('src', src)\n",
    "cv2.imshow('dst', dst)\n",
    "cv2.waitKey()\n",
    "\n",
    "cv2.destroyAllWindows()"
   ]
  },
  {
   "cell_type": "markdown",
   "id": "5b04ba44",
   "metadata": {},
   "source": [
    "# 메디안 필터"
   ]
  },
  {
   "cell_type": "code",
   "execution_count": 19,
   "id": "6d91c785",
   "metadata": {},
   "outputs": [],
   "source": [
    "src = cv2.imread('../data/noise.bmp', cv2.IMREAD_GRAYSCALE)\n",
    "\n",
    "if src is None:\n",
    "    print('image load failed')\n",
    "    sys.exit()\n",
    "    \n",
    "dst = cv2.medianBlur(src, 3)\n",
    "\n",
    "cv2.imshow('src', src)\n",
    "cv2.imshow('dst', dst)\n",
    "cv2.waitKey()\n",
    "\n",
    "cv2.destroyAllWindows()"
   ]
  },
  {
   "cell_type": "markdown",
   "id": "2bce5172",
   "metadata": {},
   "source": [
    "# 양방향 필터\n",
    "\n",
    "## 에지가 아닌 부분에서만  blurring"
   ]
  },
  {
   "cell_type": "code",
   "execution_count": 20,
   "id": "ab367c8b",
   "metadata": {},
   "outputs": [],
   "source": [
    "src = cv2.imread('../data/lenna.bmp')\n",
    "\n",
    "if src is None:\n",
    "    print('image load failed')\n",
    "    sys.exit()\n",
    "\n",
    "dst = cv2.bilateralFilter(src , -1 , 10 , 5)\n",
    "\n",
    "cv2.imshow('src', src)\n",
    "cv2.imshow('dst', dst)\n",
    "cv2.waitKey()\n",
    "\n",
    "cv2.destroyAllWindows()"
   ]
  },
  {
   "cell_type": "markdown",
   "id": "2b32ed9a",
   "metadata": {},
   "source": [
    "# 카툰 필터"
   ]
  },
  {
   "cell_type": "code",
   "execution_count": null,
   "id": "6c8c9121",
   "metadata": {},
   "outputs": [],
   "source": []
  }
 ],
 "metadata": {
  "kernelspec": {
   "display_name": "Python 3 (ipykernel)",
   "language": "python",
   "name": "python3"
  },
  "language_info": {
   "codemirror_mode": {
    "name": "ipython",
    "version": 3
   },
   "file_extension": ".py",
   "mimetype": "text/x-python",
   "name": "python",
   "nbconvert_exporter": "python",
   "pygments_lexer": "ipython3",
   "version": "3.8.10"
  }
 },
 "nbformat": 4,
 "nbformat_minor": 5
}
