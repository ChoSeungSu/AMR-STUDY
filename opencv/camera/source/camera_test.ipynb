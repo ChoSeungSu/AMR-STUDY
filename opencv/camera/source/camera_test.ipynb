{
 "cells": [
  {
   "cell_type": "code",
   "execution_count": 1,
   "id": "5665a3ae",
   "metadata": {},
   "outputs": [],
   "source": [
    "## ls /dev/ | grep video \n",
    "## ls /dev에 있는 video 파일만 보여줌 "
   ]
  },
  {
   "cell_type": "code",
   "execution_count": 2,
   "id": "6e4cd373",
   "metadata": {},
   "outputs": [],
   "source": [
    "import cv2 "
   ]
  },
  {
   "cell_type": "code",
   "execution_count": 8,
   "id": "8c592ba5",
   "metadata": {},
   "outputs": [
    {
     "name": "stdout",
     "output_type": "stream",
     "text": [
      "width = 640, height = 480\n"
     ]
    }
   ],
   "source": [
    "cap = cv2.VideoCapture(\"/dev/video0\")\n",
    "## 카메라를 여는 명령어 videoCapture\n",
    "\n",
    "if not cap.isOpened():\n",
    "    raise RuntimeError(\"error! unable to open camera\")\n",
    "    \n",
    "try:\n",
    "    width = int(cap.get(cv2.CAP_PROP_FRAME_WIDTH))\n",
    "    height = int(cap.get(cv2.CAP_PROP_FRAME_HEIGHT))\n",
    "    print(f'width = {width}, height = {height}')\n",
    "\n",
    "    while True:\n",
    "        ret, frame = cap.read()\n",
    "        ## ret, frame은 cap 영상 파일  읽은 결과 \n",
    "        gray = cv2.cvtColor(frame, cv2.COLOR_BGR2GRAY)\n",
    "        cv2.imshow('frame', gray)\n",
    "        \n",
    "        if cv2.waitKey(1) == 27:\n",
    "            break\n",
    "            \n",
    "finally:\n",
    "    cap.release()\n",
    "    cv2.destroyAllWindows()"
   ]
  },
  {
   "cell_type": "code",
   "execution_count": 4,
   "id": "0e5ead1e",
   "metadata": {},
   "outputs": [],
   "source": [
    "## cv2.VideoCapture(index, apiPreference = None) = > retval\n",
    "## retval = cv2.videocapture의 객체 "
   ]
  },
  {
   "cell_type": "code",
   "execution_count": 5,
   "id": "7035c6b8",
   "metadata": {},
   "outputs": [],
   "source": [
    "#cv2.VideoCapture.read(image=None) \n",
    "## ret = 성공 true 실패 False\n",
    "## image = 현재 프레임 "
   ]
  },
  {
   "cell_type": "markdown",
   "id": "f085eb6c",
   "metadata": {},
   "source": [
    "---"
   ]
  },
  {
   "cell_type": "code",
   "execution_count": 12,
   "id": "ef022f2d",
   "metadata": {},
   "outputs": [
    {
     "name": "stdout",
     "output_type": "stream",
     "text": [
      "width = 640, height = 480\n"
     ]
    }
   ],
   "source": [
    "#영상을 저장하는 코드 \n",
    "cap = cv2.VideoCapture(\"/dev/video0\")\n",
    "## 카메라를 여는 명령어 videoCapture\n",
    "\n",
    "if not cap.isOpened():\n",
    "    raise RuntimeError(\"error! unable to open camera\")\n",
    "    \n",
    "try:\n",
    "    width = int(cap.get(cv2.CAP_PROP_FRAME_WIDTH))\n",
    "    height = int(cap.get(cv2.CAP_PROP_FRAME_HEIGHT))\n",
    "    print(f'width = {width}, height = {height}')\n",
    "    \n",
    "    fourcc = cv2.VideoWriter_fourcc(*'DIVX')\n",
    "    out = cv2.VideoWriter('../data/test2__.avi', fourcc, 20, (width,height), isColor=False)\n",
    "    \n",
    "    while True:\n",
    "        ret, frame = cap.read()\n",
    "        gray = cv2.cvtColor(frame, cv2.COLOR_BGR2GRAY)\n",
    "        cv2.imshow('frame', gray)\n",
    "        \n",
    "        out.write(gray)\n",
    "        \n",
    "        if cv2.waitKey(1) == 27:\n",
    "            break\n",
    "            \n",
    "finally:\n",
    "    cap.release()\n",
    "    out.release()\n",
    "    cv2.destroyAllWindows()"
   ]
  },
  {
   "cell_type": "code",
   "execution_count": 10,
   "id": "52b95358",
   "metadata": {},
   "outputs": [
    {
     "name": "stdout",
     "output_type": "stream",
     "text": [
      "/home/seungsu/workspace/opencv/camera/source\r\n"
     ]
    }
   ],
   "source": [
    "!pwd"
   ]
  },
  {
   "cell_type": "code",
   "execution_count": null,
   "id": "75d34943",
   "metadata": {},
   "outputs": [],
   "source": []
  }
 ],
 "metadata": {
  "kernelspec": {
   "display_name": "Python 3 (ipykernel)",
   "language": "python",
   "name": "python3"
  },
  "language_info": {
   "codemirror_mode": {
    "name": "ipython",
    "version": 3
   },
   "file_extension": ".py",
   "mimetype": "text/x-python",
   "name": "python",
   "nbconvert_exporter": "python",
   "pygments_lexer": "ipython3",
   "version": "3.8.10"
  }
 },
 "nbformat": 4,
 "nbformat_minor": 5
}
