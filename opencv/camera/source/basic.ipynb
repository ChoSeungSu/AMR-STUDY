{
 "cells": [
  {
   "cell_type": "code",
   "execution_count": 1,
   "id": "6dc93f71",
   "metadata": {},
   "outputs": [],
   "source": [
    "import cv2\n",
    "import sys\n",
    "import numpy as np\n",
    "import matplotlib as plt"
   ]
  },
  {
   "cell_type": "code",
   "execution_count": 2,
   "id": "a991c9d7",
   "metadata": {},
   "outputs": [],
   "source": [
    "src = cv2.imread('../data/lenna.bmp', cv2.IMREAD_GRAYSCALE)\n",
    "\n",
    "# if src is None:\n",
    "#     print('image load failed')\n",
    "#     sys.exit()\n",
    "    \n",
    "# dst1 = cv2.add(src, 100)  \n",
    "# ## cv2는 saturate 기능을 자동으로 제공한다.\n",
    "# dst2 = np.clip(src+100. , 0 , 255).astype(np.uint8)\n",
    "# ## np에서 saturate 기능을 하려면 clip 함수 \n",
    "\n",
    "# cv2.imshow('src', src)\n",
    "# cv2.imshow('dst1', dst1)\n",
    "# cv2.imshow('dst2', dst2)\n",
    "# cv2.waitKey(3000)\n",
    "\n",
    "src = cv2.imread('../data/lenna.bmp')\n",
    "\n",
    "if src is None:\n",
    "    print('image load failed')\n",
    "    sys.exit()\n",
    "    \n",
    "dst1 = cv2.add(src, (0, 0, 0, 50))\n",
    "dst2 = np.clip(src + 100. , 0 , 255).astype(np.uint8)\n",
    "\n",
    "cv2.imshow('src', src)\n",
    "cv2.imshow('dst1', dst1)\n",
    "#cv2.imshow('dst2', dst2)\n",
    "cv2.waitKey()\n",
    "\n",
    "cv2.destroyAllWindows()"
   ]
  },
  {
   "cell_type": "code",
   "execution_count": null,
   "id": "f8fdc411",
   "metadata": {},
   "outputs": [],
   "source": []
  },
  {
   "cell_type": "code",
   "execution_count": 3,
   "id": "6d83b5ce",
   "metadata": {},
   "outputs": [],
   "source": [
    "## 명암비 조절 함수 \n",
    "src = cv2.imread('../data/lenna.bmp', cv2.IMREAD_GRAYSCALE)\n",
    "\n",
    "if src is None:\n",
    "    print('image load failed')\n",
    "    sys.exit()\n",
    "    \n",
    "alpha = 1.0\n",
    "dst = np.clip((1+alpha)*src - 128*alpha, 0 , 255).astype(np.uint8)\n",
    "\n",
    "cv2.imshow('src', src)\n",
    "cv2.imshow('dst', dst)\n",
    "cv2.waitKey()\n",
    "\n",
    "cv2.destroyAllWindows()"
   ]
  },
  {
   "cell_type": "code",
   "execution_count": 4,
   "id": "4717b094",
   "metadata": {},
   "outputs": [],
   "source": [
    "## 히스토그램 스트레칭 \n",
    "src = cv2.imread('../data/Hawkes.jpg', cv2.IMREAD_GRAYSCALE)\n",
    "\n",
    "if src is None:\n",
    "    print('image load failed')\n",
    "    sys.exit()\n",
    "    \n",
    "dst = cv2.normalize(src, None, 0 , 255 , cv2.NORM_MINMAX)\n",
    "\n",
    "cv2.imshow('src', src)\n",
    "cv2.imshow('dst', dst)\n",
    "cv2.waitKey()\n",
    "\n",
    "cv2.destroyAllWindows()"
   ]
  },
  {
   "cell_type": "code",
   "execution_count": 5,
   "id": "9a79e787",
   "metadata": {},
   "outputs": [],
   "source": [
    "src = cv2.imread('../data/candies.png')\n",
    "\n",
    "\n",
    "if src is None:\n",
    "    print('image load failed')\n",
    "    sys.exit()\n",
    "    \n",
    "src_hsv = cv2.cvtColor(src, cv2.COLOR_BGR2HSV)\n",
    "\n",
    "dst1 = cv2.inRange(src, (0,128,0), (100,255,100))\n",
    "dst2 = cv2.inRange(src_hsv, (50,150,0), (80,255,255))\n",
    "\n",
    "## cv2.inRange 함수 \n",
    "## 원하는 RGB 영역의 픽셀만 검출할때 사용하는 함수 \n",
    "\n",
    "cv2.imshow('src', src)\n",
    "cv2.imshow('dst1', dst1)\n",
    "cv2.imshow('dst2', dst2)\n",
    "\n",
    "cv2.waitKey()\n",
    "\n",
    "cv2.destroyAllWindows()"
   ]
  },
  {
   "cell_type": "code",
   "execution_count": null,
   "id": "46a6ea58",
   "metadata": {},
   "outputs": [],
   "source": []
  }
 ],
 "metadata": {
  "kernelspec": {
   "display_name": "Python 3.8.10 ('opencv')",
   "language": "python",
   "name": "python3"
  },
  "language_info": {
   "codemirror_mode": {
    "name": "ipython",
    "version": 3
   },
   "file_extension": ".py",
   "mimetype": "text/x-python",
   "name": "python",
   "nbconvert_exporter": "python",
   "pygments_lexer": "ipython3",
   "version": "3.8.10"
  },
  "vscode": {
   "interpreter": {
    "hash": "9f3d3ff534690cfa7221b5e773ead7ac3a9a1d344a9ead450c060c03f15d84a2"
   }
  }
 },
 "nbformat": 4,
 "nbformat_minor": 5
}
