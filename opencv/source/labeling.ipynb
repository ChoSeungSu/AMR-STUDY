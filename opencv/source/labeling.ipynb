{
 "cells": [
  {
   "cell_type": "code",
   "execution_count": 7,
   "metadata": {},
   "outputs": [],
   "source": [
    "import sys\n",
    "import numpy as np\n",
    "import cv2"
   ]
  },
  {
   "cell_type": "code",
   "execution_count": 2,
   "metadata": {},
   "outputs": [],
   "source": [
    "mat = np.array([\n",
    "    [0,0,1,1,0,0,0,0],\n",
    "    [1,1,1,1,0,0,1,0],\n",
    "    [1,1,1,1,0,0,0,0],\n",
    "    [0,0,0,0,0,1,1,0],\n",
    "    [0,0,0,1,1,1,1,0],\n",
    "    [0,0,1,1,0,0,1,0],\n",
    "    [0,0,1,1,1,1,1,0],\n",
    "    [0,0,0,0,0,0,0,0]] , np.uint8)\n",
    "    "
   ]
  },
  {
   "cell_type": "code",
   "execution_count": 3,
   "metadata": {},
   "outputs": [],
   "source": [
    "cnt, labels = cv2.connectedComponents(mat)"
   ]
  },
  {
   "cell_type": "code",
   "execution_count": 4,
   "metadata": {},
   "outputs": [
    {
     "name": "stdout",
     "output_type": "stream",
     "text": [
      "sep\n",
      "[[0 0 1 1 0 0 0 0]\n",
      " [1 1 1 1 0 0 1 0]\n",
      " [1 1 1 1 0 0 0 0]\n",
      " [0 0 0 0 0 1 1 0]\n",
      " [0 0 0 1 1 1 1 0]\n",
      " [0 0 1 1 0 0 1 0]\n",
      " [0 0 1 1 1 1 1 0]\n",
      " [0 0 0 0 0 0 0 0]]\n",
      "cnt 4\n",
      "labels\n",
      "[[0 0 1 1 0 0 0 0]\n",
      " [1 1 1 1 0 0 2 0]\n",
      " [1 1 1 1 0 0 0 0]\n",
      " [0 0 0 0 0 3 3 0]\n",
      " [0 0 0 3 3 3 3 0]\n",
      " [0 0 3 3 0 0 3 0]\n",
      " [0 0 3 3 3 3 3 0]\n",
      " [0 0 0 0 0 0 0 0]]\n"
     ]
    }
   ],
   "source": [
    "print('sep', mat, sep='\\n')\n",
    "print('cnt',  cnt)\n",
    "print('labels' , labels ,sep ='\\n')"
   ]
  },
  {
   "cell_type": "code",
   "execution_count": null,
   "metadata": {},
   "outputs": [],
   "source": [
    "src = cv2.imread('../data/keyboard.bmp', cv2.IMREAD_GRAYSCALE)\n",
    "\n",
    "if src is None:\n",
    "    print('image load failed')\n",
    "    sys.exit()\n",
    "    \n",
    "_, src_bin = cv2.threshold(src, 0 , 255, cv2.THRESH_OTSU)\n",
    "\n",
    "cnt, labels, stats, centroids = cv2.connectedComponentsWithStats(src_bin)\n",
    "\n",
    "dst = cv2.cvtColor(src, cv2.COLOR_GRAY2BGR)\n",
    "\n",
    "for i in range(1, cnt):\n",
    "    (x,y,w,h,area) = stats[i]"
   ]
  },
  {
   "cell_type": "code",
   "execution_count": 11,
   "metadata": {},
   "outputs": [],
   "source": [
    "import random\n",
    "\n",
    "src = cv2.imread('../data/contours.bmp', cv2.IMREAD_GRAYSCALE)\n",
    "\n",
    "if src is None:\n",
    "    print('image load failed')\n",
    "    sys.exit()\n",
    "\n",
    "\n",
    "contours , hier = cv2.findContours(src, cv2.RETR_CCOMP, cv2.CHAIN_APPROX_NONE)\n",
    "## 외곽선 검출 모드, 외곽선 근사화 방법 \n",
    "\n",
    "dst = cv2.cvtColor(src, cv2.COLOR_GRAY2BGR)\n",
    "\n",
    "idx = 0\n",
    "while idx >= 0:\n",
    "    c = (random.randint(0,255), random.randint(0,255), random.randint(0,255))\n",
    "    cv2.drawContours(dst, contours, idx,  c, 2, cv2.LINE_8, hier)\n",
    "    idx = hier[0,  idx , 0 ]\n",
    " \n",
    " \n",
    "    \n",
    "cv2.imshow('src', src)\n",
    "cv2.imshow('dst', dst)\n",
    "cv2.waitKey()\n",
    "cv2.destroyAllWindows()"
   ]
  },
  {
   "cell_type": "code",
   "execution_count": 12,
   "metadata": {},
   "outputs": [],
   "source": [
    "src = cv2.imread('../data/milkdrop.bmp', cv2.IMREAD_GRAYSCALE)\n",
    "\n",
    "if src is None:\n",
    "    print('image load failed')\n",
    "    sys.exit()\n",
    "    \n",
    "_, src_bin = cv2.threshold(src, 0 , 255, cv2.THRESH_OTSU)\n",
    "\n",
    "\n",
    "contours , _ = cv2.findContours(src_bin, cv2.RETR_LIST, cv2.CHAIN_APPROX_NONE)\n",
    "## 외곽선 검출 모드, 외곽선 근사화 방법 \n",
    "\n",
    "h , w = src.shape[:2]\n",
    "dst = np.zeros((h,w,3), np.uint8)\n",
    "\n",
    "## dst 빈 이미지에 외곽선을 그리는 방식 \n",
    "for i in range(len(contours)):\n",
    "    c = (random.randint(0,255), random.randint(0,255), random.randint(0,255))\n",
    "    cv2.drawContours(dst, contours, i,  c, 1, cv2.LINE_AA)\n",
    "    \n",
    " \n",
    " \n",
    "    \n",
    "cv2.imshow('src', src)\n",
    "cv2.imshow('src_bin', src_bin)\n",
    "cv2.imshow('dst', dst)\n",
    "cv2.waitKey()\n",
    "cv2.destroyAllWindows()"
   ]
  },
  {
   "cell_type": "code",
   "execution_count": 15,
   "metadata": {},
   "outputs": [],
   "source": [
    "import math \n",
    "\n",
    "def setLabel(img, pts, label):\n",
    "    (x,y,w,h) = cv2.boundingRect(pts)\n",
    "    pt1 = (x,y)\n",
    "    pt2 = (x+w, y+h)\n",
    "    cv2.rectangle(img, pt1, pt2, (0,0,255), 1)\n",
    "    cv2.putText(img, label, pt1, cv2.FONT_HERSHEY_PLAIN, 1, (0,0,255))\n",
    "    \n",
    "def main():\n",
    "    img = cv2.imread('../data/polygon.bmp', cv2.IMREAD_COLOR)\n",
    "\n",
    "    if src is None:\n",
    "        print('image load failed')\n",
    "        sys.exit()\n",
    "    \n",
    "    gray = cv2.cvtColor(img, cv2.COLOR_BGR2GRAY)\n",
    "    \n",
    "    _,  img_bin = cv2.threshold(gray, 0, 255, cv2.THRESH_BINARY_INV | cv2.THRESH_OTSU)\n",
    "    contours , _, = cv2.findContours(img_bin, cv2.RETR_EXTERNAL, cv2.CHAIN_APPROX_NONE)\n",
    "    \n",
    "    for pts in contours:\n",
    "        if cv2.contourArea(pts) < 400: ## 외곽선이 너무 길이가 작으면 무시하겠다.\n",
    "            continue ## 반복문과 continue를 활용한 코드 구성\n",
    "        \n",
    "        ## 외곽선 근사화 \n",
    "        approx = cv2.approxPolyDP(pts, cv2.arcLength(pts, True)*0.02, True)\n",
    "        \n",
    "        vtc =  len(approx)\n",
    "        \n",
    "        if vtc == 3:\n",
    "            setLabel(img, pts, 'TRI')\n",
    "        elif vtc == 4:\n",
    "            setLabel(img, pts, 'retc')\n",
    "        else:\n",
    "            length = cv2.arcLength(pts, True)\n",
    "            area = cv2.contourArea(pts)\n",
    "            ratio = 4. * math.pi * area / (length* length)\n",
    "            \n",
    "            if ratio > 0.85:\n",
    "                setLabel(img, pts, 'Circle')\n",
    "\n",
    "    cv2.imshow('img' , img)\n",
    "    cv2.waitKey()\n",
    "    cv2.destroyAllWindows()\n",
    "         \n",
    "        \n",
    "if __name__ == '__main__':\n",
    "    main()\n"
   ]
  },
  {
   "cell_type": "code",
   "execution_count": null,
   "metadata": {},
   "outputs": [],
   "source": []
  }
 ],
 "metadata": {
  "kernelspec": {
   "display_name": "Python 3.8.10 ('opencv')",
   "language": "python",
   "name": "python3"
  },
  "language_info": {
   "codemirror_mode": {
    "name": "ipython",
    "version": 3
   },
   "file_extension": ".py",
   "mimetype": "text/x-python",
   "name": "python",
   "nbconvert_exporter": "python",
   "pygments_lexer": "ipython3",
   "version": "3.8.10"
  },
  "orig_nbformat": 4,
  "vscode": {
   "interpreter": {
    "hash": "9f3d3ff534690cfa7221b5e773ead7ac3a9a1d344a9ead450c060c03f15d84a2"
   }
  }
 },
 "nbformat": 4,
 "nbformat_minor": 2
}
