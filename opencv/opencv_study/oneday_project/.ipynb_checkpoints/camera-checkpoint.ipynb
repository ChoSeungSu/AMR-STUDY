{
 "cells": [
  {
   "cell_type": "code",
   "execution_count": 1,
   "metadata": {},
   "outputs": [],
   "source": [
    "import cv2\n",
    "import datetime \n",
    "import numpy as np"
   ]
  },
  {
   "cell_type": "code",
   "execution_count": 2,
   "metadata": {},
   "outputs": [],
   "source": [
    "# img = np.ones((512,512,3), np.uint8)\n",
    "\n",
    "# def onMouse(event, x, y, flags, param):\n",
    "#     if event == cv2.EVENT_FLAG_CTRLKEY:\n",
    "#         print(x,y)\n",
    "\n",
    "# cv2.namedWindow(winname= 'my_first_drawing')\n",
    "# cv2.setMouseCallback('my_first_drawing', onMouse, img)\n",
    "\n",
    "# while True:\n",
    "#     cv2.imshow(\"my_first_drawing\", img)\n",
    "    \n",
    "#     if cv2.waitKey(1) == ord('q'):\n",
    "#         break\n",
    "        \n",
    " "
   ]
  },
  {
   "cell_type": "code",
   "execution_count": null,
   "metadata": {},
   "outputs": [],
   "source": [
    "\n",
    "        \n",
    "        \n",
    "    \n",
    "cap = cv2.VideoCapture(\"/dev/video0\")\n",
    "\n",
    "if not cap.isOpened():\n",
    "    raise RuntimeError('error! unable to open camera')\n",
    "    \n",
    "try:\n",
    "    width = cap.get(cv2.CAP_PROP_FRAME_WIDTH)\n",
    "\n",
    "    height = cap.get(cv2.CAP_PROP_FRAME_HEIGHT)\n",
    "    \n",
    "    while (cap.isOpened):\n",
    "\n",
    "        ret, frame = cap.read()\n",
    "    \n",
    "        cv2.imshow(\"video\", frame)\n",
    "        \n",
    "        if cv2.waitKey(1) == ord('q'): ## 영상 종료\n",
    "            break\n",
    "            \n",
    "        elif cv2.waitKey(1) == 19:\n",
    "            img_captured = cv2.imwrite('img_capture', frame)\n",
    "            \n",
    "            \n",
    "finally:\n",
    "    cap.release()\n",
    "    cv2.destroyAllWindows()\n",
    "        \n",
    "        \n",
    "        \n",
    "        "
   ]
  },
  {
   "cell_type": "code",
   "execution_count": null,
   "metadata": {},
   "outputs": [],
   "source": []
  }
 ],
 "metadata": {
  "kernelspec": {
   "display_name": "Python 3 (ipykernel)",
   "language": "python",
   "name": "python3"
  },
  "language_info": {
   "codemirror_mode": {
    "name": "ipython",
    "version": 3
   },
   "file_extension": ".py",
   "mimetype": "text/x-python",
   "name": "python",
   "nbconvert_exporter": "python",
   "pygments_lexer": "ipython3",
   "version": "3.8.10"
  },
  "vscode": {
   "interpreter": {
    "hash": "9f3d3ff534690cfa7221b5e773ead7ac3a9a1d344a9ead450c060c03f15d84a2"
   }
  }
 },
 "nbformat": 4,
 "nbformat_minor": 2
}
