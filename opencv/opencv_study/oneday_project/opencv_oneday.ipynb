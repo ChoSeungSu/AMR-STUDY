{
 "cells": [
  {
   "cell_type": "code",
   "execution_count": 1,
   "id": "3150099c",
   "metadata": {},
   "outputs": [],
   "source": [
    "import numpy as np \n",
    "import cv2"
   ]
  },
  {
   "cell_type": "code",
   "execution_count": 2,
   "id": "5e441174",
   "metadata": {},
   "outputs": [
    {
     "name": "stdout",
     "output_type": "stream",
     "text": [
      "width = 640, heigth = 480\n",
      "스크린샷\n",
      "오버레이\n",
      "오버레이\n",
      "녹화중\n",
      "녹화중\n"
     ]
    }
   ],
   "source": [
    "cap = cv2.VideoCapture(\"/dev/video0\")\n",
    "if not cap.isOpened():\n",
    "    raise RuntimeError(\"ERROR! Unable to open camera\")\n",
    "try:\n",
    "    width = int(cap.get(cv2.CAP_PROP_FRAME_WIDTH))\n",
    "    heigth = int(cap.get(cv2.CAP_PROP_FRAME_HEIGHT))\n",
    "    print(f'width = {width}, heigth = {heigth}')\n",
    "    fourcc = cv2.VideoWriter_fourcc(*'DIVX')\n",
    "    out = cv2.VideoWriter('./test__.avi', fourcc, 20,(width, heigth), isColor=True)\n",
    "    cnt = 1\n",
    "    flag = False\n",
    "    trigger = False\n",
    "    \n",
    "    img = np.zeros((480,640,3), np.uint8)\n",
    "    font = cv2.FONT_HERSHEY_COMPLEX\n",
    "    img = cv2.putText(img, text = 's is screenshot', org= (100,100), fontFace=font, fontScale = 1, color=(255,0,0),thickness = 4)\n",
    "    img = cv2.putText(img, text = 'v is recording', org= (100,200), fontFace=font, fontScale = 1, color=(255,0,0),thickness = 4)\n",
    "    img = cv2.putText(img, text = 'h is mannual', org= (100,300), fontFace=font, fontScale = 1, color=(255,0,0),thickness = 4)\n",
    "    \n",
    "    \n",
    "    while True:\n",
    "        k = cv2.waitKey(1) & 0xFF\n",
    "        ret , frame = cap.read()\n",
    "        \n",
    "        new = cv2.cvtColor(frame, cv2.COLOR_BGR2RGB)\n",
    "        \n",
    "        \n",
    "############################################        \n",
    "        if trigger:\n",
    "            new_blended = cv2.addWeighted(src1= new, alpha = 0.5, src2 = img, beta = 0.5, gamma =0)\n",
    "            frame_blended = cv2.addWeighted(src1= frame, alpha = 0.5, src2 = img, beta = 0.5, gamma =0)\n",
    "############################################            \n",
    "        \n",
    "        if flag:\n",
    "            cv2.imshow('frame', new)\n",
    "            if trigger:\n",
    "                cv2.imshow('frame', new_blended)\n",
    "        else:\n",
    "            cv2.imshow('frame', frame)\n",
    "            if trigger:\n",
    "                cv2.imshow('frame',frame_blended)\n",
    "            \n",
    "########################################\n",
    "        \n",
    "        if flag:\n",
    "            out.write(frame)\n",
    "            \n",
    "#######################################\n",
    "            \n",
    "        if k == ord('s'):\n",
    "            print(\"스크린샷\")\n",
    "            cv2.imwrite('./screenshot{}.png'.format(cnt), frame, params=[cv2.IMWRITE_PNG_COMPRESSION,0])\n",
    "            cnt += 1\n",
    "            \n",
    "        elif k == ord('v'):\n",
    "            print('녹화중')\n",
    "            flag = not flag\n",
    "        \n",
    "        elif k == ord('h'):\n",
    "            print('오버레이')\n",
    "            trigger = not trigger \n",
    "            \n",
    "            \n",
    "        elif k == 27 : break\n",
    "                \n",
    "            \n",
    "finally:\n",
    "    cap.release()\n",
    "    out.release()\n",
    "    cv2.destroyAllWindows()"
   ]
  },
  {
   "cell_type": "code",
   "execution_count": null,
   "id": "0a98d2bd",
   "metadata": {},
   "outputs": [],
   "source": []
  }
 ],
 "metadata": {
  "kernelspec": {
   "display_name": "Python 3 (ipykernel)",
   "language": "python",
   "name": "python3"
  },
  "language_info": {
   "codemirror_mode": {
    "name": "ipython",
    "version": 3
   },
   "file_extension": ".py",
   "mimetype": "text/x-python",
   "name": "python",
   "nbconvert_exporter": "python",
   "pygments_lexer": "ipython3",
   "version": "3.8.10"
  }
 },
 "nbformat": 4,
 "nbformat_minor": 5
}
