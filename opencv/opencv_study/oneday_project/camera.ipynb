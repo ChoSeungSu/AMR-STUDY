{
 "cells": [
  {
   "cell_type": "code",
   "execution_count": 1,
   "metadata": {},
   "outputs": [],
   "source": [
    "import cv2\n",
    "import datetime \n",
    "import numpy as np"
   ]
  },
  {
   "cell_type": "code",
   "execution_count": 2,
   "metadata": {},
   "outputs": [],
   "source": [
    "# img = np.ones((512,512,3), np.uint8)\n",
    "\n",
    "# def onMouse(event, x, y, flags, param):\n",
    "#     if event == cv2.EVENT_FLAG_CTRLKEY:\n",
    "#         print(x,y)\n",
    "\n",
    "# cv2.namedWindow(winname= 'my_first_drawing')\n",
    "# cv2.setMouseCallback('my_first_drawing', onMouse, img)\n",
    "\n",
    "# while True:\n",
    "#     cv2.imshow(\"my_first_drawing\", img)\n",
    "    \n",
    "#     if cv2.waitKey(1) == ord('q'):\n",
    "#         break\n",
    "        \n",
    " "
   ]
  },
  {
   "cell_type": "code",
   "execution_count": 6,
   "metadata": {},
   "outputs": [
    {
     "ename": "NameError",
     "evalue": "name 'heigth' is not defined",
     "output_type": "error",
     "traceback": [
      "\u001b[0;31m---------------------------------------------------------------------------\u001b[0m",
      "\u001b[0;31mNameError\u001b[0m                                 Traceback (most recent call last)",
      "Cell \u001b[0;32mIn [6], line 11\u001b[0m\n\u001b[1;32m      8\u001b[0m width \u001b[38;5;241m=\u001b[39m \u001b[38;5;28mint\u001b[39m(cap\u001b[38;5;241m.\u001b[39mget(cv2\u001b[38;5;241m.\u001b[39mCAP_PROP_FRAME_WIDTH))\n\u001b[1;32m     10\u001b[0m height \u001b[38;5;241m=\u001b[39m \u001b[38;5;28mint\u001b[39m(cap\u001b[38;5;241m.\u001b[39mget(cv2\u001b[38;5;241m.\u001b[39mCAP_PROP_FRAME_HEIGHT))  \n\u001b[0;32m---> 11\u001b[0m \u001b[38;5;28mprint\u001b[39m(\u001b[38;5;124mf\u001b[39m\u001b[38;5;124m'\u001b[39m\u001b[38;5;124mwidth = \u001b[39m\u001b[38;5;132;01m{\u001b[39;00mwidth\u001b[38;5;132;01m}\u001b[39;00m\u001b[38;5;124m, heigtht = \u001b[39m\u001b[38;5;132;01m{\u001b[39;00mheigth\u001b[38;5;132;01m}\u001b[39;00m\u001b[38;5;124m'\u001b[39m)\n\u001b[1;32m     13\u001b[0m fourcc \u001b[38;5;241m=\u001b[39m cv2\u001b[38;5;241m.\u001b[39mVideoWriter_fourcc(\u001b[38;5;241m*\u001b[39m\u001b[38;5;124m'\u001b[39m\u001b[38;5;124mDIVX\u001b[39m\u001b[38;5;124m'\u001b[39m)\n\u001b[1;32m     14\u001b[0m out \u001b[38;5;241m=\u001b[39m cv2\u001b[38;5;241m.\u001b[39mVideoWriter(\u001b[38;5;124m'\u001b[39m\u001b[38;5;124m./test__.avi\u001b[39m\u001b[38;5;124m'\u001b[39m, fourcc, \u001b[38;5;241m20\u001b[39m,(width,height), isColor \u001b[38;5;241m=\u001b[39m \u001b[38;5;28;01mFalse\u001b[39;00m)\n",
      "\u001b[0;31mNameError\u001b[0m: name 'heigth' is not defined"
     ]
    }
   ],
   "source": [
    "import cv2\n",
    "cap = cv2.VideoCapture(\"/dev/video0\")\n",
    "if not cap.isOpened():\n",
    "raise RuntimeError(\"ERROR! Unable to open camera\")\n",
    "try:\n",
    "width = int(cap.get(cv2.CAP_PROP_FRAME_WIDTH))\n",
    "heigth = int(cap.get(cv2.CAP_PROP_FRAME_HEIGHT))\n",
    "print(f'width = {width}, heigth = {heigth}')\n",
    "fourcc = cv2.VideoWriter_fourcc(*'DIVX')\n",
    "\n",
    "Auto Mobile Robot – 영상 입력 다루기\n",
    "\n",
    "저장 – 10\n",
    "\n",
    "out = cv2.VideoWriter('./test__.avi', fourcc, 20,\n",
    "(width, heigth), isColor=False)\n",
    "while True:\n",
    "ret, frame = cap.read()\n",
    "gray = cv2.cvtColor(frame, cv2.COLOR_BGR2GRAY)\n",
    "cv2.imshow('frame', gray)\n",
    "out.write(gray)\n",
    "if cv2.waitKey(1) == 27:\n",
    "break\n",
    "finally:\n",
    "cap.release()\n",
    "out.release()\n",
    "cv2.destroyAllWindows()"
   ]
  },
  {
   "cell_type": "code",
   "execution_count": null,
   "metadata": {},
   "outputs": [],
   "source": []
  }
 ],
 "metadata": {
  "kernelspec": {
   "display_name": "Python 3 (ipykernel)",
   "language": "python",
   "name": "python3"
  },
  "language_info": {
   "codemirror_mode": {
    "name": "ipython",
    "version": 3
   },
   "file_extension": ".py",
   "mimetype": "text/x-python",
   "name": "python",
   "nbconvert_exporter": "python",
   "pygments_lexer": "ipython3",
   "version": "3.8.10"
  },
  "vscode": {
   "interpreter": {
    "hash": "9f3d3ff534690cfa7221b5e773ead7ac3a9a1d344a9ead450c060c03f15d84a2"
   }
  }
 },
 "nbformat": 4,
 "nbformat_minor": 2
}
