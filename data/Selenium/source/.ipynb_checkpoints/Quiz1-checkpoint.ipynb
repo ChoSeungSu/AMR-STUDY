{
 "cells": [
  {
   "cell_type": "code",
   "execution_count": 15,
   "id": "185a3da0",
   "metadata": {},
   "outputs": [],
   "source": [
    "from selenium import webdriver \n",
    "from selenium.webdriver.chrome.service import Service\n",
    "from selenium.webdriver.common.by import By\n",
    "from selenium.webdriver.common.keys import Keys\n",
    "from selenium.webdriver import ActionChains\n",
    "from bs4 import BeautifulSoup\n",
    "import re\n",
    "import pandas as pd"
   ]
  },
  {
   "cell_type": "code",
   "execution_count": 2,
   "id": "34a3036d",
   "metadata": {},
   "outputs": [],
   "source": [
    "chrome_options = webdriver.ChromeOptions()"
   ]
  },
  {
   "cell_type": "code",
   "execution_count": 3,
   "id": "65dfc6eb",
   "metadata": {},
   "outputs": [],
   "source": [
    "url = 'https://www.opinet.co.kr/searRgSelect.do'\n",
    "driver = webdriver.Chrome(service=Service('../driver/chromedriver'), options = chrome_options)\n",
    "driver.get(url)"
   ]
  },
  {
   "cell_type": "code",
   "execution_count": 4,
   "id": "cce0dc03",
   "metadata": {},
   "outputs": [],
   "source": [
    "driver.get(url)"
   ]
  },
  {
   "cell_type": "code",
   "execution_count": 5,
   "id": "4af5baea",
   "metadata": {},
   "outputs": [],
   "source": [
    "si = driver.find_element(By.ID, 'SIDO_NM0')\n",
    "si.send_keys('서울특별시')"
   ]
  },
  {
   "cell_type": "code",
   "execution_count": 6,
   "id": "4f828c64",
   "metadata": {},
   "outputs": [],
   "source": [
    "gu = driver.find_element(By.ID, 'SIGUNGU_NM0')\n",
    "gu_list = gu.find_elements(By.TAG_NAME, \"option\")\n",
    "\n",
    "gu_names = [option.get_attribute('value')for option in gu_list]\n",
    "gu_names.remove(\"\")"
   ]
  },
  {
   "cell_type": "code",
   "execution_count": 9,
   "id": "19ed6dae",
   "metadata": {},
   "outputs": [],
   "source": []
  },
  {
   "cell_type": "code",
   "execution_count": 10,
   "id": "db3d7ccf",
   "metadata": {
    "collapsed": true
   },
   "outputs": [
    {
     "data": {
      "application/vnd.jupyter.widget-view+json": {
       "model_id": "f4373fc85b194a4f847300216e36e865",
       "version_major": 2,
       "version_minor": 0
      },
      "text/plain": [
       "  0%|          | 0/25 [00:00<?, ?it/s]"
      ]
     },
     "metadata": {},
     "output_type": "display_data"
    }
   ],
   "source": [
    "# import time \n",
    "# from tqdm.notebook import tqdm\n",
    "\n",
    "# for gu_name in tqdm(gu_names):\n",
    "#     gu = driver.find_element(By.ID, 'SIGUNGU_NM0')\n",
    "#     gu.send_keys(gu_name)\n",
    "#     driver.implicitly_wait(time_to_wait=3)\n",
    "    "
   ]
  },
  {
   "cell_type": "code",
   "execution_count": 8,
   "id": "55435864",
   "metadata": {},
   "outputs": [],
   "source": [
    "# # 서울시 구별 클릭 \n",
    "# gu = driver.find_element(By.ID, \"SIGUNGU_NM0\")\n",
    "# gu.send_keys(gu_names)"
   ]
  },
  {
   "cell_type": "code",
   "execution_count": 7,
   "id": "94832f55",
   "metadata": {},
   "outputs": [],
   "source": [
    "oil = driver.find_element(By.ID, 'body1')\n"
   ]
  },
  {
   "cell_type": "code",
   "execution_count": 10,
   "id": "dcacb5a9",
   "metadata": {},
   "outputs": [
    {
     "data": {
      "text/plain": [
       "<selenium.webdriver.remote.webelement.WebElement (session=\"459791ea37dcf32a4efbf2e4f550d093\", element=\"54e4ed2e-dc02-431d-851b-26bb57e86f22\")>"
      ]
     },
     "execution_count": 10,
     "metadata": {},
     "output_type": "execute_result"
    }
   ],
   "source": [
    "oil_list = oil.find_element(By.CLASS_NAME, 'rlist')\n",
    "oil_list"
   ]
  },
  {
   "cell_type": "code",
   "execution_count": 11,
   "id": "bf85d54b",
   "metadata": {},
   "outputs": [],
   "source": [
    "oil_station = oil_list.find_element(By.TAG_NAME, 'a').click()"
   ]
  },
  {
   "cell_type": "code",
   "execution_count": 12,
   "id": "956475fb",
   "metadata": {},
   "outputs": [],
   "source": [
    "name= driver.find_element(By.ID, 'os_nm').text\n",
    "mark = driver.find_element(By.ID, 'poll_div_nm').text\n",
    "addr = driver.find_element(By.ID, 'rd_addr').text\n",
    "m_gasol = driver.find_element(By.ID, 'b027_p').text\n",
    "oil = driver.find_element(By.ID, 'd047_p').text"
   ]
  },
  {
   "cell_type": "code",
   "execution_count": null,
   "id": "8bdfbb62",
   "metadata": {},
   "outputs": [],
   "source": [
    "pd_oil = pd.DataFrame ({'이름' : name,\n",
    "                       '상표' : mark,\n",
    "                       '주소' : addr,\n",
    "                       '보통휘발유' : m_gasol,\n",
    "                       '경유': oil,\n",
    "                       '세차장' : wash,\n",
    "                       '충전소' : charge,\n",
    "                       '경정비' : maint,\n",
    "                       '편의점' : store,\n",
    "                       '24시 영업' : sel})"
   ]
  },
  {
   "cell_type": "code",
   "execution_count": 9,
   "id": "d39eab90",
   "metadata": {},
   "outputs": [],
   "source": [
    "for oil_station in oil_list:\n",
    "    oil_station.find_element(By.TAG_NAME, 'a').click()"
   ]
  },
  {
   "cell_type": "code",
   "execution_count": 20,
   "id": "3e3284d5",
   "metadata": {},
   "outputs": [],
   "source": [
    "# oil_list.send_keys(oil_station)\n",
    "# //*[@id=\"body1\"]/tr[1]/td[1]/a\n",
    "# //*[@id=\"body1\"]/tr[2]/td[1]/a\n",
    "# //*[@id=\"body1\"]/tr[34]/td[1]/a"
   ]
  },
  {
   "cell_type": "markdown",
   "id": "f95fd491",
   "metadata": {},
   "source": [
    "## 시 군 구 클릭하고 \n",
    "### 보통 휘발유 주유소 클릭하는 반복문 생성"
   ]
  },
  {
   "cell_type": "code",
   "execution_count": 9,
   "id": "414c3334",
   "metadata": {},
   "outputs": [
    {
     "data": {
      "application/vnd.jupyter.widget-view+json": {
       "model_id": "10319f7104f945b896b2fcd8795a2fb7",
       "version_major": 2,
       "version_minor": 0
      },
      "text/plain": [
       "  0%|          | 0/25 [00:00<?, ?it/s]"
      ]
     },
     "metadata": {},
     "output_type": "display_data"
    }
   ],
   "source": [
    "import time \n",
    "from tqdm.notebook import tqdm\n",
    "\n",
    "# pd_oil = pd.DataFrame ({'이름' : name,\n",
    "#                        '상표' : mark,\n",
    "#                        '주소' : addr,\n",
    "#                        '보통휘발유' : m_gasol,\n",
    "#                        '경유': oil,\n",
    "#                        '세차장' : wash,\n",
    "#                        '충전소' : charge,\n",
    "#                        '경정비' : maint,\n",
    "#                        '편의점' : store,\n",
    "#                        '24시 영업' : sel})\n",
    "\n",
    "pd_oil = pd.DataFrame()\n",
    "pd_oil.columns = ['이름', '상표', '주소', '보통휘발유', '경유' , '세차장' , '충전소', '경정비', '편의점', '24시영업', '구']\n",
    "result = []\n",
    "\n",
    "for gu_name in tqdm(gu_names):\n",
    "    gu = driver.find_element(By.ID, 'SIGUNGU_NM0')\n",
    "    gu.send_keys(gu_name)\n",
    "    oil = driver.find_element(By.ID, 'body1')\n",
    "    oil_list = oil.find_elements(By.CLASS_NAME, 'rlist')\n",
    "#     driver.implicitly_wait(time_to_wait=3)\n",
    "    for oil_station in oil_list:\n",
    "        oil_station.find_element(By.TAG_NAME, 'a').click()\n",
    "        \n",
    "        \n",
    "        name= driver.find_element(By.ID, 'os_nm').text\n",
    "        mark = driver.find_element(By.ID, 'poll_div_nm').text\n",
    "        addr = driver.find_element(By.ID, 'rd_addr').text\n",
    "        m_gasol = driver.find_element(By.ID, 'b027_p').text\n",
    "        #h_gasol = driver.find_element(By.ID, 'b034_p').text\n",
    "        oil = driver.find_element(By.ID, 'd047_p').text\n",
    "    \n",
    "        wash = driver.find_element(By.ID, 'cwsh_yn')\n",
    "        wash = on_off(wash)\n",
    "    \n",
    "        charge = driver.find_element(By.ID, 'lpg_yn')\n",
    "        charge = on_off(charge)\n",
    "    \n",
    "        maint = driver.find_element(By.ID, 'maint_yn')\n",
    "        maint = on_off(maint)\n",
    "    \n",
    "        store = driver.find_element(By.ID, 'cvs_yn')\n",
    "        store = on_off(store)\n",
    "    \n",
    "        sel = driver.find_element(By.ID, 'sel24_yn')\n",
    "        sel = on_off(sel)\n",
    "        \n",
    "        \n",
    "        \n",
    "        driver.implicitly_wait(time_to_wait=3)"
   ]
  },
  {
   "cell_type": "code",
   "execution_count": 23,
   "id": "6cda9c0c",
   "metadata": {},
   "outputs": [],
   "source": [
    "details = driver.find_element(By.XPATH, '//*[@id=\"body1\"]/tr[3]/td[1]').click()\n",
    "\n"
   ]
  },
  {
   "cell_type": "code",
   "execution_count": 9,
   "id": "e11cfdce",
   "metadata": {},
   "outputs": [],
   "source": [
    "detail = driver.find_element(By.CLASS_NAME, 'rlist').click()"
   ]
  },
  {
   "cell_type": "code",
   "execution_count": 54,
   "id": "c68b3646",
   "metadata": {},
   "outputs": [
    {
     "data": {
      "text/plain": [
       "<selenium.webdriver.remote.webelement.WebElement (session=\"e6cbdcadb0786491cf0dfbfdb0501e6e\", element=\"c051e0e6-d4d8-446d-bf5b-a9ddbecd265d\")>"
      ]
     },
     "execution_count": 54,
     "metadata": {},
     "output_type": "execute_result"
    }
   ],
   "source": [
    "detail"
   ]
  },
  {
   "cell_type": "code",
   "execution_count": 44,
   "id": "5d8c117d",
   "metadata": {},
   "outputs": [],
   "source": [
    "# 가져와야 하는거\n",
    "# 1. 상표 2.주유소명 , 주소 3.유종별 가격(보통휘발유,경유) 4.부가정보(세차장 ~~ 24시 영업여부 )\n",
    "\n",
    "# 부가정보에서 있으면 .gif 없으면 off.gif\n",
    "\n"
   ]
  },
  {
   "cell_type": "code",
   "execution_count": 40,
   "id": "c75f5218",
   "metadata": {},
   "outputs": [],
   "source": [
    "# mark = page.find_element(By.ID, \"os_title_icon\")\n",
    "# name = page.find_element(By.TAG_NAME, 'label')\n",
    "# m_gasol = page.find_element(By.ID, 'b027_p')\n",
    "# h_gasol = page.find_element(By.ID, 'b034_p')\n",
    "# oil = page.find_element(By.ID, 'd047_p')\n",
    "# 보통휘발유 b027_p\n",
    "# 고급휘발유 b034_p\n",
    "# 경유      d047_p"
   ]
  },
  {
   "cell_type": "code",
   "execution_count": null,
   "id": "3f08e8e3",
   "metadata": {},
   "outputs": [],
   "source": [
    "def get_info():\n",
    "    name= driver.find_element(By.ID, 'os_nm').text\n",
    "    mark = driver.find_element(By.ID, 'poll_div_nm').text\n",
    "    addr = driver.find_element(By.ID, 'rd_addr').text\n",
    "    m_gasol = driver.find_element(By.ID, 'b027_p').text\n",
    "    h_gasol = driver.find_element(By.ID, 'b034_p').text\n",
    "    oil = driver.find_element(By.ID, 'd047_p').text\n",
    "    \n",
    "    wash = driver.find_element(By.ID, 'cwsh_yn')\n",
    "    wash = on_off(wash)\n",
    "    \n",
    "    charge = driver.find_element(By.ID, 'lpg_yn')\n",
    "    charge = on_off(charge)\n",
    "    \n",
    "    maint = driver.find_element(By.ID, 'maint_yn')\n",
    "    maint = on_off(maint)\n",
    "    \n",
    "    store = driver.find_element(By.ID, 'cvs_yn')\n",
    "    store = on_off(store)\n",
    "    \n",
    "    sel = driver.find_element(By.ID, 'sel24_yn')\n",
    "    sel = on_off(sel)\n",
    "    \n",
    "    \n",
    "    \n",
    "    "
   ]
  },
  {
   "cell_type": "code",
   "execution_count": 10,
   "id": "80f6cfea",
   "metadata": {},
   "outputs": [
    {
     "data": {
      "text/plain": [
       "'(주)보성 세곡주유소'"
      ]
     },
     "execution_count": 10,
     "metadata": {},
     "output_type": "execute_result"
    }
   ],
   "source": [
    "name= driver.find_element(By.ID, 'os_nm').text\n",
    "name"
   ]
  },
  {
   "cell_type": "code",
   "execution_count": 11,
   "id": "3ad157d2",
   "metadata": {},
   "outputs": [
    {
     "data": {
      "text/plain": [
       "'SK에너지'"
      ]
     },
     "execution_count": 11,
     "metadata": {},
     "output_type": "execute_result"
    }
   ],
   "source": [
    "mark = driver.find_element(By.ID, 'poll_div_nm').text\n",
    "mark"
   ]
  },
  {
   "cell_type": "code",
   "execution_count": 12,
   "id": "03ee40f5",
   "metadata": {},
   "outputs": [
    {
     "data": {
      "text/plain": [
       "'서울 강남구 헌릉로 731 (세곡동)'"
      ]
     },
     "execution_count": 12,
     "metadata": {},
     "output_type": "execute_result"
    }
   ],
   "source": [
    "addr = driver.find_element(By.ID, 'rd_addr').text\n",
    "addr"
   ]
  },
  {
   "cell_type": "code",
   "execution_count": 23,
   "id": "9488cc3f",
   "metadata": {},
   "outputs": [],
   "source": [
    "m_gasol = driver.find_element(By.ID, 'b027_p').text"
   ]
  },
  {
   "cell_type": "code",
   "execution_count": 24,
   "id": "3c7eb804",
   "metadata": {},
   "outputs": [
    {
     "data": {
      "text/plain": [
       "''"
      ]
     },
     "execution_count": 24,
     "metadata": {},
     "output_type": "execute_result"
    }
   ],
   "source": [
    "h_gasol = driver.find_element(By.ID, 'b034_p').text\n",
    "h_gasol"
   ]
  },
  {
   "cell_type": "code",
   "execution_count": 15,
   "id": "ad0c3b3d",
   "metadata": {},
   "outputs": [
    {
     "data": {
      "text/plain": [
       "'1,839'"
      ]
     },
     "execution_count": 15,
     "metadata": {},
     "output_type": "execute_result"
    }
   ],
   "source": [
    "oil = driver.find_element(By.ID, 'd047_p').text\n",
    "oil"
   ]
  },
  {
   "cell_type": "code",
   "execution_count": 47,
   "id": "38f15d6e",
   "metadata": {},
   "outputs": [],
   "source": [
    "def on_off(gif):\n",
    "    gif = gif.get_attribute('src')\n",
    "    on_off = re.search('(off)?.gif', gif).group()\n",
    "\n",
    "    if len(on_off) == 4 :\n",
    "        on_off = 'ON'\n",
    "    else:\n",
    "        on_off = 'OFF'\n",
    "    \n",
    "    return on_off"
   ]
  },
  {
   "cell_type": "code",
   "execution_count": 48,
   "id": "ce6b9a21",
   "metadata": {},
   "outputs": [
    {
     "data": {
      "text/plain": [
       "'ON'"
      ]
     },
     "execution_count": 48,
     "metadata": {},
     "output_type": "execute_result"
    }
   ],
   "source": [
    "wash = driver.find_element(By.ID, 'cwsh_yn')\n",
    "on_off(wash)"
   ]
  },
  {
   "cell_type": "code",
   "execution_count": 35,
   "id": "82f41700",
   "metadata": {},
   "outputs": [
    {
     "data": {
      "text/plain": [
       "'https://www.opinet.co.kr/images/user/gis/oil_station_service1_01.gif'"
      ]
     },
     "execution_count": 35,
     "metadata": {},
     "output_type": "execute_result"
    }
   ],
   "source": [
    "wash = driver.find_element(By.ID, 'cwsh_yn')\n",
    "wash_gif = wash.get_attribute('src')\n",
    "wash_gif"
   ]
  },
  {
   "cell_type": "code",
   "execution_count": 37,
   "id": "47e3767f",
   "metadata": {},
   "outputs": [
    {
     "data": {
      "text/plain": [
       "'https://www.opinet.co.kr/images/user/gis/oil_station_service1_02_01_off.gif'"
      ]
     },
     "execution_count": 37,
     "metadata": {},
     "output_type": "execute_result"
    }
   ],
   "source": [
    "charge = driver.find_element(By.ID, 'lpg_yn')\n",
    "charge_gif = charge.get_attribute('src')\n",
    "charge_gif"
   ]
  },
  {
   "cell_type": "code",
   "execution_count": 132,
   "id": "5ce6ad59",
   "metadata": {},
   "outputs": [
    {
     "data": {
      "text/plain": [
       "'https://www.opinet.co.kr/images/user/gis/oil_station_service1_03_off.gif'"
      ]
     },
     "execution_count": 132,
     "metadata": {},
     "output_type": "execute_result"
    }
   ],
   "source": [
    "maint = driver.find_element(By.ID, 'maint_yn')\n",
    "maint.get_attribute('src')"
   ]
  },
  {
   "cell_type": "code",
   "execution_count": 133,
   "id": "4399f733",
   "metadata": {},
   "outputs": [
    {
     "data": {
      "text/plain": [
       "'https://www.opinet.co.kr/images/user/gis/oil_station_service1_04_off.gif'"
      ]
     },
     "execution_count": 133,
     "metadata": {},
     "output_type": "execute_result"
    }
   ],
   "source": [
    "store = driver.find_element(By.ID, 'cvs_yn')\n",
    "store.get_attribute('src')"
   ]
  },
  {
   "cell_type": "code",
   "execution_count": 134,
   "id": "b5d727a7",
   "metadata": {},
   "outputs": [
    {
     "data": {
      "text/plain": [
       "'https://www.opinet.co.kr/images/user/gis/oil_station_service1_05_off.gif'"
      ]
     },
     "execution_count": 134,
     "metadata": {},
     "output_type": "execute_result"
    }
   ],
   "source": [
    "sel = driver.find_element(By.ID, 'sel24_yn')\n",
    "sel.get_attribute('src')"
   ]
  },
  {
   "cell_type": "code",
   "execution_count": 16,
   "id": "3ed43f49",
   "metadata": {},
   "outputs": [
    {
     "ename": "ValueError",
     "evalue": "Length mismatch: Expected axis has 0 elements, new values have 11 elements",
     "output_type": "error",
     "traceback": [
      "\u001b[0;31m---------------------------------------------------------------------------\u001b[0m",
      "\u001b[0;31mValueError\u001b[0m                                Traceback (most recent call last)",
      "Cell \u001b[0;32mIn [16], line 2\u001b[0m\n\u001b[1;32m      1\u001b[0m pd_oil \u001b[38;5;241m=\u001b[39m pd\u001b[38;5;241m.\u001b[39mDataFrame()\n\u001b[0;32m----> 2\u001b[0m \u001b[43mpd_oil\u001b[49m\u001b[38;5;241;43m.\u001b[39;49m\u001b[43mcolumns\u001b[49m \u001b[38;5;241m=\u001b[39m [\u001b[38;5;124m'\u001b[39m\u001b[38;5;124m이름\u001b[39m\u001b[38;5;124m'\u001b[39m, \u001b[38;5;124m'\u001b[39m\u001b[38;5;124m상표\u001b[39m\u001b[38;5;124m'\u001b[39m, \u001b[38;5;124m'\u001b[39m\u001b[38;5;124m주소\u001b[39m\u001b[38;5;124m'\u001b[39m, \u001b[38;5;124m'\u001b[39m\u001b[38;5;124m보통휘발유\u001b[39m\u001b[38;5;124m'\u001b[39m, \u001b[38;5;124m'\u001b[39m\u001b[38;5;124m경유\u001b[39m\u001b[38;5;124m'\u001b[39m , \u001b[38;5;124m'\u001b[39m\u001b[38;5;124m세차장\u001b[39m\u001b[38;5;124m'\u001b[39m , \u001b[38;5;124m'\u001b[39m\u001b[38;5;124m충전소\u001b[39m\u001b[38;5;124m'\u001b[39m, \u001b[38;5;124m'\u001b[39m\u001b[38;5;124m경정비\u001b[39m\u001b[38;5;124m'\u001b[39m, \u001b[38;5;124m'\u001b[39m\u001b[38;5;124m편의점\u001b[39m\u001b[38;5;124m'\u001b[39m, \u001b[38;5;124m'\u001b[39m\u001b[38;5;124m24시영업\u001b[39m\u001b[38;5;124m'\u001b[39m, \u001b[38;5;124m'\u001b[39m\u001b[38;5;124m구\u001b[39m\u001b[38;5;124m'\u001b[39m]\n",
      "File \u001b[0;32m~/venv/data_v/lib/python3.8/site-packages/pandas/core/generic.py:5920\u001b[0m, in \u001b[0;36mNDFrame.__setattr__\u001b[0;34m(self, name, value)\u001b[0m\n\u001b[1;32m   5918\u001b[0m \u001b[38;5;28;01mtry\u001b[39;00m:\n\u001b[1;32m   5919\u001b[0m     \u001b[38;5;28mobject\u001b[39m\u001b[38;5;241m.\u001b[39m\u001b[38;5;21m__getattribute__\u001b[39m(\u001b[38;5;28mself\u001b[39m, name)\n\u001b[0;32m-> 5920\u001b[0m     \u001b[38;5;28;01mreturn\u001b[39;00m \u001b[38;5;28;43mobject\u001b[39;49m\u001b[38;5;241;43m.\u001b[39;49m\u001b[38;5;21;43m__setattr__\u001b[39;49m\u001b[43m(\u001b[49m\u001b[38;5;28;43mself\u001b[39;49m\u001b[43m,\u001b[49m\u001b[43m \u001b[49m\u001b[43mname\u001b[49m\u001b[43m,\u001b[49m\u001b[43m \u001b[49m\u001b[43mvalue\u001b[49m\u001b[43m)\u001b[49m\n\u001b[1;32m   5921\u001b[0m \u001b[38;5;28;01mexcept\u001b[39;00m \u001b[38;5;167;01mAttributeError\u001b[39;00m:\n\u001b[1;32m   5922\u001b[0m     \u001b[38;5;28;01mpass\u001b[39;00m\n",
      "File \u001b[0;32m~/venv/data_v/lib/python3.8/site-packages/pandas/_libs/properties.pyx:69\u001b[0m, in \u001b[0;36mpandas._libs.properties.AxisProperty.__set__\u001b[0;34m()\u001b[0m\n",
      "File \u001b[0;32m~/venv/data_v/lib/python3.8/site-packages/pandas/core/generic.py:822\u001b[0m, in \u001b[0;36mNDFrame._set_axis\u001b[0;34m(self, axis, labels)\u001b[0m\n\u001b[1;32m    820\u001b[0m \u001b[38;5;28;01mdef\u001b[39;00m \u001b[38;5;21m_set_axis\u001b[39m(\u001b[38;5;28mself\u001b[39m, axis: \u001b[38;5;28mint\u001b[39m, labels: AnyArrayLike \u001b[38;5;241m|\u001b[39m \u001b[38;5;28mlist\u001b[39m) \u001b[38;5;241m-\u001b[39m\u001b[38;5;241m>\u001b[39m \u001b[38;5;28;01mNone\u001b[39;00m:\n\u001b[1;32m    821\u001b[0m     labels \u001b[38;5;241m=\u001b[39m ensure_index(labels)\n\u001b[0;32m--> 822\u001b[0m     \u001b[38;5;28;43mself\u001b[39;49m\u001b[38;5;241;43m.\u001b[39;49m\u001b[43m_mgr\u001b[49m\u001b[38;5;241;43m.\u001b[39;49m\u001b[43mset_axis\u001b[49m\u001b[43m(\u001b[49m\u001b[43maxis\u001b[49m\u001b[43m,\u001b[49m\u001b[43m \u001b[49m\u001b[43mlabels\u001b[49m\u001b[43m)\u001b[49m\n\u001b[1;32m    823\u001b[0m     \u001b[38;5;28mself\u001b[39m\u001b[38;5;241m.\u001b[39m_clear_item_cache()\n",
      "File \u001b[0;32m~/venv/data_v/lib/python3.8/site-packages/pandas/core/internals/managers.py:228\u001b[0m, in \u001b[0;36mBaseBlockManager.set_axis\u001b[0;34m(self, axis, new_labels)\u001b[0m\n\u001b[1;32m    226\u001b[0m \u001b[38;5;28;01mdef\u001b[39;00m \u001b[38;5;21mset_axis\u001b[39m(\u001b[38;5;28mself\u001b[39m, axis: \u001b[38;5;28mint\u001b[39m, new_labels: Index) \u001b[38;5;241m-\u001b[39m\u001b[38;5;241m>\u001b[39m \u001b[38;5;28;01mNone\u001b[39;00m:\n\u001b[1;32m    227\u001b[0m     \u001b[38;5;66;03m# Caller is responsible for ensuring we have an Index object.\u001b[39;00m\n\u001b[0;32m--> 228\u001b[0m     \u001b[38;5;28;43mself\u001b[39;49m\u001b[38;5;241;43m.\u001b[39;49m\u001b[43m_validate_set_axis\u001b[49m\u001b[43m(\u001b[49m\u001b[43maxis\u001b[49m\u001b[43m,\u001b[49m\u001b[43m \u001b[49m\u001b[43mnew_labels\u001b[49m\u001b[43m)\u001b[49m\n\u001b[1;32m    229\u001b[0m     \u001b[38;5;28mself\u001b[39m\u001b[38;5;241m.\u001b[39maxes[axis] \u001b[38;5;241m=\u001b[39m new_labels\n",
      "File \u001b[0;32m~/venv/data_v/lib/python3.8/site-packages/pandas/core/internals/base.py:70\u001b[0m, in \u001b[0;36mDataManager._validate_set_axis\u001b[0;34m(self, axis, new_labels)\u001b[0m\n\u001b[1;32m     67\u001b[0m     \u001b[38;5;28;01mpass\u001b[39;00m\n\u001b[1;32m     69\u001b[0m \u001b[38;5;28;01melif\u001b[39;00m new_len \u001b[38;5;241m!=\u001b[39m old_len:\n\u001b[0;32m---> 70\u001b[0m     \u001b[38;5;28;01mraise\u001b[39;00m \u001b[38;5;167;01mValueError\u001b[39;00m(\n\u001b[1;32m     71\u001b[0m         \u001b[38;5;124mf\u001b[39m\u001b[38;5;124m\"\u001b[39m\u001b[38;5;124mLength mismatch: Expected axis has \u001b[39m\u001b[38;5;132;01m{\u001b[39;00mold_len\u001b[38;5;132;01m}\u001b[39;00m\u001b[38;5;124m elements, new \u001b[39m\u001b[38;5;124m\"\u001b[39m\n\u001b[1;32m     72\u001b[0m         \u001b[38;5;124mf\u001b[39m\u001b[38;5;124m\"\u001b[39m\u001b[38;5;124mvalues have \u001b[39m\u001b[38;5;132;01m{\u001b[39;00mnew_len\u001b[38;5;132;01m}\u001b[39;00m\u001b[38;5;124m elements\u001b[39m\u001b[38;5;124m\"\u001b[39m\n\u001b[1;32m     73\u001b[0m     )\n",
      "\u001b[0;31mValueError\u001b[0m: Length mismatch: Expected axis has 0 elements, new values have 11 elements"
     ]
    }
   ],
   "source": [
    "# pd_oil = pd.DataFrame()\n",
    "# pd_oil.columns = ['이름', '상표', '주소', '보통휘발유', '경유' , '세차장' , '충전소', '경정비', '편의점', '24시영업', '구']"
   ]
  },
  {
   "cell_type": "code",
   "execution_count": null,
   "id": "7881718b",
   "metadata": {},
   "outputs": [],
   "source": [
    "pd"
   ]
  }
 ],
 "metadata": {
  "kernelspec": {
   "display_name": "Python 3 (ipykernel)",
   "language": "python",
   "name": "python3"
  },
  "language_info": {
   "codemirror_mode": {
    "name": "ipython",
    "version": 3
   },
   "file_extension": ".py",
   "mimetype": "text/x-python",
   "name": "python",
   "nbconvert_exporter": "python",
   "pygments_lexer": "ipython3",
   "version": "3.8.10"
  }
 },
 "nbformat": 4,
 "nbformat_minor": 5
}
