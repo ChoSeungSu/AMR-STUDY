{
 "cells": [
  {
   "cell_type": "code",
   "execution_count": 1,
   "id": "12e08a4c",
   "metadata": {},
   "outputs": [],
   "source": [
    "from selenium import webdriver \n",
    "from selenium.webdriver.chrome.service import Service\n",
    "from selenium.webdriver.common.by import By\n",
    "from selenium.webdriver.common.keys import Keys\n",
    "from selenium.webdriver import ActionChains\n",
    "from bs4 import BeautifulSoup"
   ]
  },
  {
   "cell_type": "code",
   "execution_count": 2,
   "id": "1c971e99",
   "metadata": {},
   "outputs": [],
   "source": [
    "chrome_options = webdriver.ChromeOptions()"
   ]
  },
  {
   "cell_type": "code",
   "execution_count": 3,
   "id": "7fb1fd20",
   "metadata": {},
   "outputs": [],
   "source": [
    "url = 'https://www.opinet.co.kr/searRgSelect.do'\n",
    "driver = webdriver.Chrome(service=Service('../driver/chromedriver'), options = chrome_options)\n",
    "driver.get(url)"
   ]
  },
  {
   "cell_type": "code",
   "execution_count": 4,
   "id": "8b82dfbf",
   "metadata": {},
   "outputs": [],
   "source": [
    "driver.get(url)"
   ]
  },
  {
   "cell_type": "code",
   "execution_count": 7,
   "id": "008fad26",
   "metadata": {},
   "outputs": [
    {
     "data": {
      "text/plain": [
       "[<selenium.webdriver.remote.webelement.WebElement (session=\"bc799ecd35de2757c1add5ac7429168b\", element=\"94af9e3e-6b3b-4c4b-a02b-3ad41ca3103c\")>]"
      ]
     },
     "execution_count": 7,
     "metadata": {},
     "output_type": "execute_result"
    }
   ],
   "source": [
    "sido = driver.find_elements(By.ID, 'SIDO_NM0')\n",
    "sido"
   ]
  },
  {
   "cell_type": "code",
   "execution_count": null,
   "id": "08673ff6",
   "metadata": {},
   "outputs": [],
   "source": []
  },
  {
   "cell_type": "code",
   "execution_count": 6,
   "id": "e11d6fbe",
   "metadata": {},
   "outputs": [
    {
     "data": {
      "text/plain": [
       "[<selenium.webdriver.remote.webelement.WebElement (session=\"0f1b5cbcda222abbeb2ea838e6e49774\", element=\"fcbfae99-3ed0-4c3d-b069-010b670d7416\")>,\n",
       " <selenium.webdriver.remote.webelement.WebElement (session=\"0f1b5cbcda222abbeb2ea838e6e49774\", element=\"60c772f6-831c-447a-ad95-33055627ac21\")>,\n",
       " <selenium.webdriver.remote.webelement.WebElement (session=\"0f1b5cbcda222abbeb2ea838e6e49774\", element=\"dd27c10a-d77d-4cb6-972d-d0f300b3cd05\")>,\n",
       " <selenium.webdriver.remote.webelement.WebElement (session=\"0f1b5cbcda222abbeb2ea838e6e49774\", element=\"8d0c3b67-33f2-4a15-a7db-a1a449d5d3e4\")>,\n",
       " <selenium.webdriver.remote.webelement.WebElement (session=\"0f1b5cbcda222abbeb2ea838e6e49774\", element=\"95aa0cc7-c9b6-4a2f-b6de-f7aa0fbb281e\")>,\n",
       " <selenium.webdriver.remote.webelement.WebElement (session=\"0f1b5cbcda222abbeb2ea838e6e49774\", element=\"eb84a229-d8b1-4aaa-878a-5e9cea0665ba\")>,\n",
       " <selenium.webdriver.remote.webelement.WebElement (session=\"0f1b5cbcda222abbeb2ea838e6e49774\", element=\"28e22d87-18cf-49dc-a822-eb443ffa5c38\")>,\n",
       " <selenium.webdriver.remote.webelement.WebElement (session=\"0f1b5cbcda222abbeb2ea838e6e49774\", element=\"b919868b-7e64-434a-9557-dd709c4ef7d3\")>,\n",
       " <selenium.webdriver.remote.webelement.WebElement (session=\"0f1b5cbcda222abbeb2ea838e6e49774\", element=\"d99446b9-bd60-4c68-a4a0-6bdc4f2e107a\")>,\n",
       " <selenium.webdriver.remote.webelement.WebElement (session=\"0f1b5cbcda222abbeb2ea838e6e49774\", element=\"510f27ed-7db3-44e0-bddc-c143bce394c2\")>,\n",
       " <selenium.webdriver.remote.webelement.WebElement (session=\"0f1b5cbcda222abbeb2ea838e6e49774\", element=\"4942c27a-6114-4196-b6e9-3d1da3cf795c\")>,\n",
       " <selenium.webdriver.remote.webelement.WebElement (session=\"0f1b5cbcda222abbeb2ea838e6e49774\", element=\"1152ffd2-90b8-4004-813c-a1a911d05318\")>,\n",
       " <selenium.webdriver.remote.webelement.WebElement (session=\"0f1b5cbcda222abbeb2ea838e6e49774\", element=\"058bbbb4-0727-4363-874f-d015c1d1b082\")>,\n",
       " <selenium.webdriver.remote.webelement.WebElement (session=\"0f1b5cbcda222abbeb2ea838e6e49774\", element=\"52e76c76-0770-417f-8983-287f38275e14\")>,\n",
       " <selenium.webdriver.remote.webelement.WebElement (session=\"0f1b5cbcda222abbeb2ea838e6e49774\", element=\"360eb9b8-7aaa-4d39-a74d-d400646f47c5\")>,\n",
       " <selenium.webdriver.remote.webelement.WebElement (session=\"0f1b5cbcda222abbeb2ea838e6e49774\", element=\"b2cc7328-6bc9-4a36-a9fd-4d4ab121c14b\")>,\n",
       " <selenium.webdriver.remote.webelement.WebElement (session=\"0f1b5cbcda222abbeb2ea838e6e49774\", element=\"45d369e0-545c-4692-9538-0d461a12bf0c\")>,\n",
       " <selenium.webdriver.remote.webelement.WebElement (session=\"0f1b5cbcda222abbeb2ea838e6e49774\", element=\"493cac8f-b770-4d88-b0df-a69ce79a5880\")>]"
      ]
     },
     "execution_count": 6,
     "metadata": {},
     "output_type": "execute_result"
    }
   ],
   "source": [
    "sido_list = sido.find_elements(By.TAG_NAME, \"option\")\n",
    "sido_list"
   ]
  },
  {
   "cell_type": "code",
   "execution_count": 7,
   "id": "04529e40",
   "metadata": {},
   "outputs": [
    {
     "data": {
      "text/plain": [
       "'서울특별시'"
      ]
     },
     "execution_count": 7,
     "metadata": {},
     "output_type": "execute_result"
    }
   ],
   "source": [
    "sido_list[1].get_attribute('value')"
   ]
  },
  {
   "cell_type": "code",
   "execution_count": 8,
   "id": "6dbb7717",
   "metadata": {},
   "outputs": [
    {
     "data": {
      "text/plain": [
       "['',\n",
       " '서울특별시',\n",
       " '부산광역시',\n",
       " '대구광역시',\n",
       " '인천광역시',\n",
       " '광주광역시',\n",
       " '대전광역시',\n",
       " '울산광역시',\n",
       " '세종특별자치시',\n",
       " '경기도',\n",
       " '강원도',\n",
       " '충청북도',\n",
       " '충청남도',\n",
       " '전라북도',\n",
       " '전라남도',\n",
       " '경상북도',\n",
       " '경상남도',\n",
       " '제주특별자치도']"
      ]
     },
     "execution_count": 8,
     "metadata": {},
     "output_type": "execute_result"
    }
   ],
   "source": [
    "sido_names = [option.get_attribute('value')for option in sido_list]\n",
    "sido_names"
   ]
  },
  {
   "cell_type": "code",
   "execution_count": 9,
   "id": "6141b739",
   "metadata": {},
   "outputs": [
    {
     "data": {
      "text/plain": [
       "['서울특별시',\n",
       " '부산광역시',\n",
       " '대구광역시',\n",
       " '인천광역시',\n",
       " '광주광역시',\n",
       " '대전광역시',\n",
       " '울산광역시',\n",
       " '세종특별자치시',\n",
       " '경기도',\n",
       " '강원도',\n",
       " '충청북도',\n",
       " '충청남도',\n",
       " '전라북도',\n",
       " '전라남도',\n",
       " '경상북도',\n",
       " '경상남도',\n",
       " '제주특별자치도']"
      ]
     },
     "execution_count": 9,
     "metadata": {},
     "output_type": "execute_result"
    }
   ],
   "source": [
    "sido_names = sido_names[1:]\n",
    "sido_names"
   ]
  },
  {
   "cell_type": "code",
   "execution_count": 10,
   "id": "becfb18d",
   "metadata": {},
   "outputs": [
    {
     "name": "stdout",
     "output_type": "stream",
     "text": [
      "부산광역시\n"
     ]
    }
   ],
   "source": [
    "print(sido_names[1])\n",
    "sido.send_keys(sido_names[1])"
   ]
  },
  {
   "cell_type": "code",
   "execution_count": 11,
   "id": "4d359c5c",
   "metadata": {},
   "outputs": [
    {
     "name": "stdout",
     "output_type": "stream",
     "text": [
      "서울특별시\n"
     ]
    }
   ],
   "source": [
    "print(sido_names[0])\n",
    "sido.send_keys(sido_names[0])"
   ]
  },
  {
   "cell_type": "code",
   "execution_count": 12,
   "id": "97437c67",
   "metadata": {},
   "outputs": [
    {
     "data": {
      "text/plain": [
       "['강서구',\n",
       " '금정구',\n",
       " '기장군',\n",
       " '남구',\n",
       " '동구',\n",
       " '동래구',\n",
       " '부산진구',\n",
       " '북구',\n",
       " '사상구',\n",
       " '사하구',\n",
       " '서구',\n",
       " '수영구',\n",
       " '연제구',\n",
       " '영도구',\n",
       " '중구',\n",
       " '해운대구']"
      ]
     },
     "execution_count": 12,
     "metadata": {},
     "output_type": "execute_result"
    }
   ],
   "source": [
    "gu = driver.find_element(By.ID, 'SIGUNGU_NM0')\n",
    "gu_list = gu.find_elements(By.TAG_NAME, \"option\")\n",
    "\n",
    "gu_names = [option.get_attribute('value')for option in gu_list]\n",
    "gu_names.remove(\"\")\n",
    "\n",
    "gu_names"
   ]
  },
  {
   "cell_type": "code",
   "execution_count": 13,
   "id": "0b18819a",
   "metadata": {},
   "outputs": [
    {
     "data": {
      "text/plain": [
       "['강서구',\n",
       " '금정구',\n",
       " '기장군',\n",
       " '남구',\n",
       " '동구',\n",
       " '동래구',\n",
       " '부산진구',\n",
       " '북구',\n",
       " '사상구',\n",
       " '사하구',\n",
       " '서구',\n",
       " '수영구',\n",
       " '연제구',\n",
       " '영도구',\n",
       " '중구',\n",
       " '해운대구']"
      ]
     },
     "execution_count": 13,
     "metadata": {},
     "output_type": "execute_result"
    }
   ],
   "source": [
    "gu_names"
   ]
  },
  {
   "cell_type": "code",
   "execution_count": 14,
   "id": "55a8e043",
   "metadata": {},
   "outputs": [
    {
     "data": {
      "application/vnd.jupyter.widget-view+json": {
       "model_id": "edd0f59a6326428e9f124b43066444d2",
       "version_major": 2,
       "version_minor": 0
      },
      "text/plain": [
       "  0%|          | 0/3 [00:00<?, ?it/s]"
      ]
     },
     "metadata": {},
     "output_type": "display_data"
    }
   ],
   "source": [
    "import time \n",
    "from tqdm.notebook import tqdm\n",
    "\n",
    "for gu_name in tqdm(gu_names[:3]):\n",
    "    gu = driver.find_element(By.ID, 'SIGUNGU_NM0')\n",
    "    gu.send_keys(gu_name)\n",
    "    time.sleep(3)"
   ]
  },
  {
   "cell_type": "code",
   "execution_count": 15,
   "id": "1b840eec",
   "metadata": {},
   "outputs": [
    {
     "data": {
      "application/vnd.jupyter.widget-view+json": {
       "model_id": "a52b3e8b6f424e7c86d6d4c216aa9f5b",
       "version_major": 2,
       "version_minor": 0
      },
      "text/plain": [
       "  0%|          | 0/3 [00:00<?, ?it/s]"
      ]
     },
     "metadata": {},
     "output_type": "display_data"
    }
   ],
   "source": [
    "for gu_name in tqdm(gu_names[:3]):\n",
    "    gu = driver.find_element(By.ID, \"SIGUNGU_NM0\")\n",
    "    gu.send_keys(gu_name)\n",
    "    driver.implicitly_wait(time_to_wait=3)"
   ]
  },
  {
   "cell_type": "code",
   "execution_count": null,
   "id": "13c926e5",
   "metadata": {},
   "outputs": [],
   "source": []
  },
  {
   "cell_type": "code",
   "execution_count": 16,
   "id": "5d6566fc",
   "metadata": {},
   "outputs": [],
   "source": [
    "# for gu_name in tqdm(gu_names):\n",
    "#     gu = driver.find_element(By.ID, \"SIGUNGU_NM0\")\n",
    "#     gu.send_keys(gu_name)\n",
    "#     driver.implicitly_wait(time_to_wait = 3)\n",
    "#     \"#glopopd_excel\"\n",
    "#     excel = driver.find_element(By.CSS_SELECTOR, '#glopopd_excel').click()"
   ]
  },
  {
   "cell_type": "code",
   "execution_count": 17,
   "id": "ebafc4d2",
   "metadata": {},
   "outputs": [],
   "source": [
    "import pandas as pd\n",
    "from glob import glob"
   ]
  },
  {
   "cell_type": "code",
   "execution_count": 18,
   "id": "04e278a5",
   "metadata": {},
   "outputs": [
    {
     "data": {
      "text/plain": [
       "['../data/지역_위치별(주유소) (24).xls',\n",
       " '../data/지역_위치별(주유소) (1).xls',\n",
       " '../data/지역_위치별(주유소) (12).xls',\n",
       " '../data/지역_위치별(주유소) (9).xls',\n",
       " '../data/지역_위치별(주유소) (8).xls',\n",
       " '../data/지역_위치별(주유소) (3).xls',\n",
       " '../data/지역_위치별(주유소) (21).xls',\n",
       " '../data/지역_위치별(주유소) (4).xls',\n",
       " '../data/지역_위치별(주유소) (14).xls',\n",
       " '../data/지역_위치별(주유소) (15).xls',\n",
       " '../data/지역_위치별(주유소) (22).xls',\n",
       " '../data/지역_위치별(주유소) (2).xls',\n",
       " '../data/지역_위치별(주유소).xls',\n",
       " '../data/지역_위치별(주유소) (17).xls',\n",
       " '../data/지역_위치별(주유소) (5).xls',\n",
       " '../data/지역_위치별(주유소) (13).xls',\n",
       " '../data/지역_위치별(주유소) (7).xls',\n",
       " '../data/지역_위치별(주유소) (18).xls',\n",
       " '../data/지역_위치별(주유소) (10).xls',\n",
       " '../data/지역_위치별(주유소) (23).xls',\n",
       " '../data/지역_위치별(주유소) (6).xls',\n",
       " '../data/지역_위치별(주유소) (20).xls',\n",
       " '../data/지역_위치별(주유소) (11).xls',\n",
       " '../data/지역_위치별(주유소) (19).xls',\n",
       " '../data/지역_위치별(주유소) (16).xls']"
      ]
     },
     "execution_count": 18,
     "metadata": {},
     "output_type": "execute_result"
    }
   ],
   "source": [
    "glob (\"../data/지역_*.xls\")"
   ]
  },
  {
   "cell_type": "code",
   "execution_count": 19,
   "id": "67d35fe1",
   "metadata": {},
   "outputs": [
    {
     "data": {
      "text/plain": [
       "['../data/지역_위치별(주유소) (24).xls',\n",
       " '../data/지역_위치별(주유소) (1).xls',\n",
       " '../data/지역_위치별(주유소) (12).xls',\n",
       " '../data/지역_위치별(주유소) (9).xls',\n",
       " '../data/지역_위치별(주유소) (8).xls']"
      ]
     },
     "execution_count": 19,
     "metadata": {},
     "output_type": "execute_result"
    }
   ],
   "source": [
    "file_list = glob(\"../data/지역_*xls\")\n",
    "file_list[:5]"
   ]
  },
  {
   "cell_type": "code",
   "execution_count": 20,
   "id": "95dbfbef",
   "metadata": {},
   "outputs": [
    {
     "data": {
      "text/html": [
       "<div>\n",
       "<style scoped>\n",
       "    .dataframe tbody tr th:only-of-type {\n",
       "        vertical-align: middle;\n",
       "    }\n",
       "\n",
       "    .dataframe tbody tr th {\n",
       "        vertical-align: top;\n",
       "    }\n",
       "\n",
       "    .dataframe thead th {\n",
       "        text-align: right;\n",
       "    }\n",
       "</style>\n",
       "<table border=\"1\" class=\"dataframe\">\n",
       "  <thead>\n",
       "    <tr style=\"text-align: right;\">\n",
       "      <th></th>\n",
       "      <th>지역</th>\n",
       "      <th>상호</th>\n",
       "      <th>주소</th>\n",
       "      <th>상표</th>\n",
       "      <th>전화번호</th>\n",
       "      <th>셀프여부</th>\n",
       "      <th>고급휘발유</th>\n",
       "      <th>휘발유</th>\n",
       "      <th>경유</th>\n",
       "      <th>실내등유</th>\n",
       "    </tr>\n",
       "  </thead>\n",
       "  <tbody>\n",
       "    <tr>\n",
       "      <th>11</th>\n",
       "      <td>서울특별시</td>\n",
       "      <td>용마로주유소</td>\n",
       "      <td>서울 중랑구 용마산로 309 (면목동)</td>\n",
       "      <td>SK에너지</td>\n",
       "      <td>02-439-3037</td>\n",
       "      <td>Y</td>\n",
       "      <td>-</td>\n",
       "      <td>1698</td>\n",
       "      <td>1838</td>\n",
       "      <td>1700</td>\n",
       "    </tr>\n",
       "    <tr>\n",
       "      <th>12</th>\n",
       "      <td>서울특별시</td>\n",
       "      <td>신일셀프주유소</td>\n",
       "      <td>서울 중랑구 상봉로 58 (망우동)</td>\n",
       "      <td>SK에너지</td>\n",
       "      <td>02-436-3651</td>\n",
       "      <td>Y</td>\n",
       "      <td>-</td>\n",
       "      <td>1798</td>\n",
       "      <td>1899</td>\n",
       "      <td>1500</td>\n",
       "    </tr>\n",
       "  </tbody>\n",
       "</table>\n",
       "</div>"
      ],
      "text/plain": [
       "       지역       상호                     주소     상표         전화번호 셀프여부 고급휘발유  \\\n",
       "11  서울특별시   용마로주유소  서울 중랑구 용마산로 309 (면목동)  SK에너지  02-439-3037    Y     -   \n",
       "12  서울특별시  신일셀프주유소    서울 중랑구 상봉로 58 (망우동)  SK에너지  02-436-3651    Y     -   \n",
       "\n",
       "     휘발유    경유  실내등유  \n",
       "11  1698  1838  1700  \n",
       "12  1798  1899  1500  "
      ]
     },
     "execution_count": 20,
     "metadata": {},
     "output_type": "execute_result"
    }
   ],
   "source": [
    "tmp = pd.read_excel(file_list[0], header = 2)\n",
    "tmp.tail(2)"
   ]
  },
  {
   "cell_type": "code",
   "execution_count": 21,
   "id": "4fb3862b",
   "metadata": {},
   "outputs": [
    {
     "data": {
      "text/html": [
       "<div>\n",
       "<style scoped>\n",
       "    .dataframe tbody tr th:only-of-type {\n",
       "        vertical-align: middle;\n",
       "    }\n",
       "\n",
       "    .dataframe tbody tr th {\n",
       "        vertical-align: top;\n",
       "    }\n",
       "\n",
       "    .dataframe thead th {\n",
       "        text-align: right;\n",
       "    }\n",
       "</style>\n",
       "<table border=\"1\" class=\"dataframe\">\n",
       "  <thead>\n",
       "    <tr style=\"text-align: right;\">\n",
       "      <th></th>\n",
       "      <th>지역</th>\n",
       "      <th>상호</th>\n",
       "      <th>주소</th>\n",
       "      <th>상표</th>\n",
       "      <th>전화번호</th>\n",
       "      <th>셀프여부</th>\n",
       "      <th>고급휘발유</th>\n",
       "      <th>휘발유</th>\n",
       "      <th>경유</th>\n",
       "      <th>실내등유</th>\n",
       "    </tr>\n",
       "  </thead>\n",
       "  <tbody>\n",
       "    <tr>\n",
       "      <th>0</th>\n",
       "      <td>서울특별시</td>\n",
       "      <td>오천만주유소</td>\n",
       "      <td>서울 중랑구 동일로 547 (면목동)</td>\n",
       "      <td>S-OIL</td>\n",
       "      <td>070-7797-7474</td>\n",
       "      <td>Y</td>\n",
       "      <td>-</td>\n",
       "      <td>1627</td>\n",
       "      <td>1797</td>\n",
       "      <td>-</td>\n",
       "    </tr>\n",
       "    <tr>\n",
       "      <th>1</th>\n",
       "      <td>서울특별시</td>\n",
       "      <td>대양주유소</td>\n",
       "      <td>서울 중랑구 봉우재로 105 (상봉동)</td>\n",
       "      <td>GS칼텍스</td>\n",
       "      <td>02-437-5457</td>\n",
       "      <td>Y</td>\n",
       "      <td>1845</td>\n",
       "      <td>1635</td>\n",
       "      <td>1807</td>\n",
       "      <td>1600</td>\n",
       "    </tr>\n",
       "    <tr>\n",
       "      <th>2</th>\n",
       "      <td>서울특별시</td>\n",
       "      <td>(주)자연에너지 대창주유소</td>\n",
       "      <td>서울 중랑구 동일로 636 (면목동)</td>\n",
       "      <td>현대오일뱅크</td>\n",
       "      <td>02-434-1448</td>\n",
       "      <td>N</td>\n",
       "      <td>-</td>\n",
       "      <td>1637</td>\n",
       "      <td>1807</td>\n",
       "      <td>1460</td>\n",
       "    </tr>\n",
       "    <tr>\n",
       "      <th>3</th>\n",
       "      <td>서울특별시</td>\n",
       "      <td>면목SELF주유소</td>\n",
       "      <td>서울 중랑구 동일로 627 (면목동)</td>\n",
       "      <td>SK에너지</td>\n",
       "      <td>02-437-4072</td>\n",
       "      <td>Y</td>\n",
       "      <td>-</td>\n",
       "      <td>1637</td>\n",
       "      <td>1807</td>\n",
       "      <td>-</td>\n",
       "    </tr>\n",
       "    <tr>\n",
       "      <th>4</th>\n",
       "      <td>서울특별시</td>\n",
       "      <td>구도일주유소 동천</td>\n",
       "      <td>서울 중랑구 동일로 654 (면목동)</td>\n",
       "      <td>S-OIL</td>\n",
       "      <td>02-495-0081</td>\n",
       "      <td>Y</td>\n",
       "      <td>-</td>\n",
       "      <td>1637</td>\n",
       "      <td>1807</td>\n",
       "      <td>-</td>\n",
       "    </tr>\n",
       "    <tr>\n",
       "      <th>...</th>\n",
       "      <td>...</td>\n",
       "      <td>...</td>\n",
       "      <td>...</td>\n",
       "      <td>...</td>\n",
       "      <td>...</td>\n",
       "      <td>...</td>\n",
       "      <td>...</td>\n",
       "      <td>...</td>\n",
       "      <td>...</td>\n",
       "      <td>...</td>\n",
       "    </tr>\n",
       "    <tr>\n",
       "      <th>18</th>\n",
       "      <td>서울특별시</td>\n",
       "      <td>동일주유소</td>\n",
       "      <td>서울특별시 성북구  보문로 85 (보문동5가)</td>\n",
       "      <td>S-OIL</td>\n",
       "      <td>02-923-8484</td>\n",
       "      <td>Y</td>\n",
       "      <td>2098</td>\n",
       "      <td>1675</td>\n",
       "      <td>1855</td>\n",
       "      <td>-</td>\n",
       "    </tr>\n",
       "    <tr>\n",
       "      <th>19</th>\n",
       "      <td>서울특별시</td>\n",
       "      <td>재정제2주유소 길음지점</td>\n",
       "      <td>서울 성북구 삼양로 78 (길음동)</td>\n",
       "      <td>현대오일뱅크</td>\n",
       "      <td>02-980-1311</td>\n",
       "      <td>N</td>\n",
       "      <td>-</td>\n",
       "      <td>1679</td>\n",
       "      <td>1829</td>\n",
       "      <td>1650</td>\n",
       "    </tr>\n",
       "    <tr>\n",
       "      <th>20</th>\n",
       "      <td>서울특별시</td>\n",
       "      <td>지에스칼텍스㈜ 세창주유소</td>\n",
       "      <td>서울 성북구 동소문로 323</td>\n",
       "      <td>GS칼텍스</td>\n",
       "      <td>02-988-2491</td>\n",
       "      <td>Y</td>\n",
       "      <td>1922</td>\n",
       "      <td>1696</td>\n",
       "      <td>1874</td>\n",
       "      <td>1451</td>\n",
       "    </tr>\n",
       "    <tr>\n",
       "      <th>21</th>\n",
       "      <td>서울특별시</td>\n",
       "      <td>삼선주유소</td>\n",
       "      <td>서울 성북구 창경궁로 324</td>\n",
       "      <td>S-OIL</td>\n",
       "      <td>02-766-5105</td>\n",
       "      <td>Y</td>\n",
       "      <td>2147</td>\n",
       "      <td>1697</td>\n",
       "      <td>1845</td>\n",
       "      <td>-</td>\n",
       "    </tr>\n",
       "    <tr>\n",
       "      <th>22</th>\n",
       "      <td>서울특별시</td>\n",
       "      <td>지에스칼텍스㈜ 화랑주유소</td>\n",
       "      <td>서울 성북구 화랑로 185</td>\n",
       "      <td>GS칼텍스</td>\n",
       "      <td>02-942-5152</td>\n",
       "      <td>N</td>\n",
       "      <td>-</td>\n",
       "      <td>1698</td>\n",
       "      <td>1872</td>\n",
       "      <td>1614</td>\n",
       "    </tr>\n",
       "  </tbody>\n",
       "</table>\n",
       "<p>454 rows × 10 columns</p>\n",
       "</div>"
      ],
      "text/plain": [
       "       지역              상호                         주소      상표           전화번호  \\\n",
       "0   서울특별시          오천만주유소       서울 중랑구 동일로 547 (면목동)   S-OIL  070-7797-7474   \n",
       "1   서울특별시           대양주유소      서울 중랑구 봉우재로 105 (상봉동)   GS칼텍스    02-437-5457   \n",
       "2   서울특별시  (주)자연에너지 대창주유소       서울 중랑구 동일로 636 (면목동)  현대오일뱅크    02-434-1448   \n",
       "3   서울특별시       면목SELF주유소       서울 중랑구 동일로 627 (면목동)   SK에너지    02-437-4072   \n",
       "4   서울특별시       구도일주유소 동천       서울 중랑구 동일로 654 (면목동)   S-OIL    02-495-0081   \n",
       "..    ...             ...                        ...     ...            ...   \n",
       "18  서울특별시           동일주유소  서울특별시 성북구  보문로 85 (보문동5가)   S-OIL    02-923-8484   \n",
       "19  서울특별시    재정제2주유소 길음지점        서울 성북구 삼양로 78 (길음동)  현대오일뱅크    02-980-1311   \n",
       "20  서울특별시   지에스칼텍스㈜ 세창주유소            서울 성북구 동소문로 323   GS칼텍스    02-988-2491   \n",
       "21  서울특별시           삼선주유소            서울 성북구 창경궁로 324   S-OIL    02-766-5105   \n",
       "22  서울특별시   지에스칼텍스㈜ 화랑주유소             서울 성북구 화랑로 185   GS칼텍스    02-942-5152   \n",
       "\n",
       "   셀프여부 고급휘발유   휘발유    경유  실내등유  \n",
       "0     Y     -  1627  1797     -  \n",
       "1     Y  1845  1635  1807  1600  \n",
       "2     N     -  1637  1807  1460  \n",
       "3     Y     -  1637  1807     -  \n",
       "4     Y     -  1637  1807     -  \n",
       "..  ...   ...   ...   ...   ...  \n",
       "18    Y  2098  1675  1855     -  \n",
       "19    N     -  1679  1829  1650  \n",
       "20    Y  1922  1696  1874  1451  \n",
       "21    Y  2147  1697  1845     -  \n",
       "22    N     -  1698  1872  1614  \n",
       "\n",
       "[454 rows x 10 columns]"
      ]
     },
     "execution_count": 21,
     "metadata": {},
     "output_type": "execute_result"
    }
   ],
   "source": [
    "tmp_list = []\n",
    "\n",
    "for file in file_list:\n",
    "    tmp = pd.read_excel(file,header =2)\n",
    "    tmp_list.append(tmp)\n",
    "    \n",
    "gas_data = pd.concat(tmp_list)\n",
    "gas_data"
   ]
  },
  {
   "cell_type": "code",
   "execution_count": 22,
   "id": "c6dfc568",
   "metadata": {},
   "outputs": [
    {
     "data": {
      "text/html": [
       "<div>\n",
       "<style scoped>\n",
       "    .dataframe tbody tr th:only-of-type {\n",
       "        vertical-align: middle;\n",
       "    }\n",
       "\n",
       "    .dataframe tbody tr th {\n",
       "        vertical-align: top;\n",
       "    }\n",
       "\n",
       "    .dataframe thead th {\n",
       "        text-align: right;\n",
       "    }\n",
       "</style>\n",
       "<table border=\"1\" class=\"dataframe\">\n",
       "  <thead>\n",
       "    <tr style=\"text-align: right;\">\n",
       "      <th></th>\n",
       "      <th>상호</th>\n",
       "      <th>주소</th>\n",
       "      <th>가격</th>\n",
       "      <th>셀프</th>\n",
       "      <th>상표</th>\n",
       "    </tr>\n",
       "  </thead>\n",
       "  <tbody>\n",
       "    <tr>\n",
       "      <th>18</th>\n",
       "      <td>동일주유소</td>\n",
       "      <td>서울특별시 성북구  보문로 85 (보문동5가)</td>\n",
       "      <td>1675</td>\n",
       "      <td>Y</td>\n",
       "      <td>S-OIL</td>\n",
       "    </tr>\n",
       "    <tr>\n",
       "      <th>19</th>\n",
       "      <td>재정제2주유소 길음지점</td>\n",
       "      <td>서울 성북구 삼양로 78 (길음동)</td>\n",
       "      <td>1679</td>\n",
       "      <td>N</td>\n",
       "      <td>현대오일뱅크</td>\n",
       "    </tr>\n",
       "    <tr>\n",
       "      <th>20</th>\n",
       "      <td>지에스칼텍스㈜ 세창주유소</td>\n",
       "      <td>서울 성북구 동소문로 323</td>\n",
       "      <td>1696</td>\n",
       "      <td>Y</td>\n",
       "      <td>GS칼텍스</td>\n",
       "    </tr>\n",
       "    <tr>\n",
       "      <th>21</th>\n",
       "      <td>삼선주유소</td>\n",
       "      <td>서울 성북구 창경궁로 324</td>\n",
       "      <td>1697</td>\n",
       "      <td>Y</td>\n",
       "      <td>S-OIL</td>\n",
       "    </tr>\n",
       "    <tr>\n",
       "      <th>22</th>\n",
       "      <td>지에스칼텍스㈜ 화랑주유소</td>\n",
       "      <td>서울 성북구 화랑로 185</td>\n",
       "      <td>1698</td>\n",
       "      <td>N</td>\n",
       "      <td>GS칼텍스</td>\n",
       "    </tr>\n",
       "  </tbody>\n",
       "</table>\n",
       "</div>"
      ],
      "text/plain": [
       "               상호                         주소    가격 셀프      상표\n",
       "18          동일주유소  서울특별시 성북구  보문로 85 (보문동5가)  1675  Y   S-OIL\n",
       "19   재정제2주유소 길음지점        서울 성북구 삼양로 78 (길음동)  1679  N  현대오일뱅크\n",
       "20  지에스칼텍스㈜ 세창주유소            서울 성북구 동소문로 323  1696  Y   GS칼텍스\n",
       "21          삼선주유소            서울 성북구 창경궁로 324  1697  Y   S-OIL\n",
       "22  지에스칼텍스㈜ 화랑주유소             서울 성북구 화랑로 185  1698  N   GS칼텍스"
      ]
     },
     "execution_count": 22,
     "metadata": {},
     "output_type": "execute_result"
    }
   ],
   "source": [
    "gas_data = pd.DataFrame({\n",
    "    '상호' : gas_data['상호'],\n",
    "    '주소' : gas_data['주소'],\n",
    "    '가격' : gas_data['휘발유'],\n",
    "    '셀프' : gas_data['셀프여부'],\n",
    "    '상표' : gas_data['상표']\n",
    "})\n",
    "gas_data.tail()"
   ]
  },
  {
   "cell_type": "code",
   "execution_count": 23,
   "id": "606aeb4f",
   "metadata": {},
   "outputs": [
    {
     "data": {
      "text/plain": [
       "2       서울 중랑구 동일로 636 (면목동)\n",
       "2      서울 강동구 구천면로 357 (암사동)\n",
       "2       서울 마포구 백범로 126 (염리동)\n",
       "2       서울 도봉구 도봉로 706 (방학동)\n",
       "2       서울 노원구 월계로 252 (월계동)\n",
       "2       서울 강서구 화곡로 273 (화곡동)\n",
       "2      서울 은평구 통일로 1151 (진관동)\n",
       "2       서울 관악구 난곡로 108 (신림동)\n",
       "2      서울 서초구 과천대로 838 (방배동)\n",
       "2             서울 성동구 동일로 129\n",
       "2            서울 종로구 자하문로 303\n",
       "2        서울 강북구 덕릉로 158 (번동)\n",
       "2       서울 강남구 광평로 202 (수서동)\n",
       "2              서울 송파구 거마로 82\n",
       "2       서울 광진구 동일로 398 (중곡동)\n",
       "2            서울 서대문구 연희로 184\n",
       "2     서울 금천구 시흥대로 39-7 (시흥동)\n",
       "2     서울 양천구 남부순환로 442 (신월동)\n",
       "2     서울 동대문구 왕산로 289 (청량리동)\n",
       "2             서울 중구 왕십리로 403\n",
       "2               서울 구로구 개봉로 7\n",
       "2    서울 용산구 한강대로104길 6 (동자동)\n",
       "2       서울 동작구 상도로 139 (상도동)\n",
       "2            서울 영등포구 대림로 230\n",
       "2             서울 성북구 보문로 142\n",
       "Name: 주소, dtype: object"
      ]
     },
     "execution_count": 23,
     "metadata": {},
     "output_type": "execute_result"
    }
   ],
   "source": [
    "gas_data['주소'][2] "
   ]
  },
  {
   "cell_type": "code",
   "execution_count": 24,
   "id": "928721a2",
   "metadata": {},
   "outputs": [
    {
     "data": {
      "text/plain": [
       "0     중랑구\n",
       "1     중랑구\n",
       "2     중랑구\n",
       "3     중랑구\n",
       "4     중랑구\n",
       "     ... \n",
       "18    성북구\n",
       "19    성북구\n",
       "20    성북구\n",
       "21    성북구\n",
       "22    성북구\n",
       "Name: 구, Length: 454, dtype: object"
      ]
     },
     "execution_count": 24,
     "metadata": {},
     "output_type": "execute_result"
    }
   ],
   "source": [
    "gas_data['구'] = [address.split()[1] for address in gas_data['주소']]\n",
    "gas_data['구']"
   ]
  },
  {
   "cell_type": "code",
   "execution_count": 25,
   "id": "4f0fd81e",
   "metadata": {},
   "outputs": [
    {
     "data": {
      "text/plain": [
       "(array(['중랑구', '강동구', '마포구', '도봉구', '노원구', '강서구', '은평구', '관악구', '서초구',\n",
       "        '성동구', '종로구', '강북구', '강남구', '송파구', '광진구', '서대문구', '금천구', '양천구',\n",
       "        '동대문구', '중구', '구로구', '용산구', '동작구', '영등포구', '성북구'], dtype=object),\n",
       " 25)"
      ]
     },
     "execution_count": 25,
     "metadata": {},
     "output_type": "execute_result"
    }
   ],
   "source": [
    "gas_data['구'].unique(), len(gas_data['구'].unique()) "
   ]
  },
  {
   "cell_type": "code",
   "execution_count": 26,
   "id": "6a4b555e",
   "metadata": {},
   "outputs": [
    {
     "data": {
      "text/html": [
       "<div>\n",
       "<style scoped>\n",
       "    .dataframe tbody tr th:only-of-type {\n",
       "        vertical-align: middle;\n",
       "    }\n",
       "\n",
       "    .dataframe tbody tr th {\n",
       "        vertical-align: top;\n",
       "    }\n",
       "\n",
       "    .dataframe thead th {\n",
       "        text-align: right;\n",
       "    }\n",
       "</style>\n",
       "<table border=\"1\" class=\"dataframe\">\n",
       "  <thead>\n",
       "    <tr style=\"text-align: right;\">\n",
       "      <th></th>\n",
       "      <th>상호</th>\n",
       "      <th>주소</th>\n",
       "      <th>가격</th>\n",
       "      <th>셀프</th>\n",
       "      <th>상표</th>\n",
       "      <th>구</th>\n",
       "    </tr>\n",
       "  </thead>\n",
       "  <tbody>\n",
       "    <tr>\n",
       "      <th>16</th>\n",
       "      <td>삼융주유소</td>\n",
       "      <td>서울 은평구 수색로 299 (수색동)</td>\n",
       "      <td>-</td>\n",
       "      <td>N</td>\n",
       "      <td>SK에너지</td>\n",
       "      <td>은평구</td>\n",
       "    </tr>\n",
       "    <tr>\n",
       "      <th>30</th>\n",
       "      <td>지에스칼텍스(주)내곡주유소</td>\n",
       "      <td>서울 서초구 헌릉로 210</td>\n",
       "      <td>-</td>\n",
       "      <td>N</td>\n",
       "      <td>GS칼텍스</td>\n",
       "      <td>서초구</td>\n",
       "    </tr>\n",
       "    <tr>\n",
       "      <th>8</th>\n",
       "      <td>현대오일뱅크㈜직영 재동주유소</td>\n",
       "      <td>서울 종로구 율곡로 58 (경운동)</td>\n",
       "      <td>-</td>\n",
       "      <td>N</td>\n",
       "      <td>현대오일뱅크</td>\n",
       "      <td>종로구</td>\n",
       "    </tr>\n",
       "    <tr>\n",
       "      <th>13</th>\n",
       "      <td>지에스칼텍스 (주)구의스타주유소</td>\n",
       "      <td>서울 광진구 자양로 103</td>\n",
       "      <td>-</td>\n",
       "      <td>N</td>\n",
       "      <td>GS칼텍스</td>\n",
       "      <td>광진구</td>\n",
       "    </tr>\n",
       "    <tr>\n",
       "      <th>14</th>\n",
       "      <td>대성산업(주)구의주유소</td>\n",
       "      <td>서울 광진구 광나루로 570 (구의동)</td>\n",
       "      <td>-</td>\n",
       "      <td>N</td>\n",
       "      <td>GS칼텍스</td>\n",
       "      <td>광진구</td>\n",
       "    </tr>\n",
       "    <tr>\n",
       "      <th>15</th>\n",
       "      <td>현대오일뱅크㈜직영 장호셀프주유소</td>\n",
       "      <td>서울 광진구 자양로 37 (자양동)</td>\n",
       "      <td>-</td>\n",
       "      <td>Y</td>\n",
       "      <td>현대오일뱅크</td>\n",
       "      <td>광진구</td>\n",
       "    </tr>\n",
       "    <tr>\n",
       "      <th>24</th>\n",
       "      <td>평화주유소</td>\n",
       "      <td>서울 양천구 안양천로 657 (신정동)</td>\n",
       "      <td>-</td>\n",
       "      <td>N</td>\n",
       "      <td>SK에너지</td>\n",
       "      <td>양천구</td>\n",
       "    </tr>\n",
       "    <tr>\n",
       "      <th>17</th>\n",
       "      <td>(주)자연에너지 국민주유소</td>\n",
       "      <td>서울 동대문구 답십리로 223 (답십리동)</td>\n",
       "      <td>-</td>\n",
       "      <td>N</td>\n",
       "      <td>현대오일뱅크</td>\n",
       "      <td>동대문구</td>\n",
       "    </tr>\n",
       "    <tr>\n",
       "      <th>10</th>\n",
       "      <td>지에스칼텍스(주)직영 역전점</td>\n",
       "      <td>서울 중구 퇴계로 15</td>\n",
       "      <td>-</td>\n",
       "      <td>N</td>\n",
       "      <td>GS칼텍스</td>\n",
       "      <td>중구</td>\n",
       "    </tr>\n",
       "    <tr>\n",
       "      <th>27</th>\n",
       "      <td>한일주유소</td>\n",
       "      <td>서울 영등포구 도림로 486 (문래동3가)</td>\n",
       "      <td>-</td>\n",
       "      <td>N</td>\n",
       "      <td>SK에너지</td>\n",
       "      <td>영등포구</td>\n",
       "    </tr>\n",
       "  </tbody>\n",
       "</table>\n",
       "</div>"
      ],
      "text/plain": [
       "                   상호                       주소 가격 셀프      상표     구\n",
       "16              삼융주유소     서울 은평구 수색로 299 (수색동)  -  N   SK에너지   은평구\n",
       "30     지에스칼텍스(주)내곡주유소           서울 서초구 헌릉로 210  -  N   GS칼텍스   서초구\n",
       "8     현대오일뱅크㈜직영 재동주유소      서울 종로구 율곡로 58 (경운동)  -  N  현대오일뱅크   종로구\n",
       "13  지에스칼텍스 (주)구의스타주유소           서울 광진구 자양로 103  -  N   GS칼텍스   광진구\n",
       "14       대성산업(주)구의주유소    서울 광진구 광나루로 570 (구의동)  -  N   GS칼텍스   광진구\n",
       "15  현대오일뱅크㈜직영 장호셀프주유소      서울 광진구 자양로 37 (자양동)  -  Y  현대오일뱅크   광진구\n",
       "24              평화주유소    서울 양천구 안양천로 657 (신정동)  -  N   SK에너지   양천구\n",
       "17     (주)자연에너지 국민주유소  서울 동대문구 답십리로 223 (답십리동)  -  N  현대오일뱅크  동대문구\n",
       "10    지에스칼텍스(주)직영 역전점             서울 중구 퇴계로 15  -  N   GS칼텍스    중구\n",
       "27              한일주유소  서울 영등포구 도림로 486 (문래동3가)  -  N   SK에너지  영등포구"
      ]
     },
     "execution_count": 26,
     "metadata": {},
     "output_type": "execute_result"
    }
   ],
   "source": [
    "gas_data[gas_data['가격'] == '-']"
   ]
  },
  {
   "cell_type": "code",
   "execution_count": 27,
   "id": "33f77f40",
   "metadata": {},
   "outputs": [],
   "source": [
    "gas_data = gas_data[gas_data['가격'] != '-']"
   ]
  },
  {
   "cell_type": "code",
   "execution_count": 28,
   "id": "a95bfcd6",
   "metadata": {},
   "outputs": [],
   "source": [
    "gas_data['가격'] = gas_data['가격'].astype(\"float\")"
   ]
  },
  {
   "cell_type": "code",
   "execution_count": 29,
   "id": "d760c508",
   "metadata": {},
   "outputs": [
    {
     "name": "stdout",
     "output_type": "stream",
     "text": [
      "<class 'pandas.core.frame.DataFrame'>\n",
      "Int64Index: 444 entries, 0 to 22\n",
      "Data columns (total 6 columns):\n",
      " #   Column  Non-Null Count  Dtype  \n",
      "---  ------  --------------  -----  \n",
      " 0   상호      444 non-null    object \n",
      " 1   주소      444 non-null    object \n",
      " 2   가격      444 non-null    float64\n",
      " 3   셀프      444 non-null    object \n",
      " 4   상표      444 non-null    object \n",
      " 5   구       444 non-null    object \n",
      "dtypes: float64(1), object(5)\n",
      "memory usage: 24.3+ KB\n"
     ]
    }
   ],
   "source": [
    "gas_data.info()"
   ]
  },
  {
   "cell_type": "code",
   "execution_count": 30,
   "id": "9f358b5b",
   "metadata": {},
   "outputs": [
    {
     "data": {
      "text/html": [
       "<div>\n",
       "<style scoped>\n",
       "    .dataframe tbody tr th:only-of-type {\n",
       "        vertical-align: middle;\n",
       "    }\n",
       "\n",
       "    .dataframe tbody tr th {\n",
       "        vertical-align: top;\n",
       "    }\n",
       "\n",
       "    .dataframe thead th {\n",
       "        text-align: right;\n",
       "    }\n",
       "</style>\n",
       "<table border=\"1\" class=\"dataframe\">\n",
       "  <thead>\n",
       "    <tr style=\"text-align: right;\">\n",
       "      <th></th>\n",
       "      <th>상호</th>\n",
       "      <th>주소</th>\n",
       "      <th>가격</th>\n",
       "      <th>셀프</th>\n",
       "      <th>상표</th>\n",
       "      <th>구</th>\n",
       "    </tr>\n",
       "  </thead>\n",
       "  <tbody>\n",
       "    <tr>\n",
       "      <th>0</th>\n",
       "      <td>오천만주유소</td>\n",
       "      <td>서울 중랑구 동일로 547 (면목동)</td>\n",
       "      <td>1627.0</td>\n",
       "      <td>Y</td>\n",
       "      <td>S-OIL</td>\n",
       "      <td>중랑구</td>\n",
       "    </tr>\n",
       "    <tr>\n",
       "      <th>1</th>\n",
       "      <td>대양주유소</td>\n",
       "      <td>서울 중랑구 봉우재로 105 (상봉동)</td>\n",
       "      <td>1635.0</td>\n",
       "      <td>Y</td>\n",
       "      <td>GS칼텍스</td>\n",
       "      <td>중랑구</td>\n",
       "    </tr>\n",
       "    <tr>\n",
       "      <th>2</th>\n",
       "      <td>(주)자연에너지 대창주유소</td>\n",
       "      <td>서울 중랑구 동일로 636 (면목동)</td>\n",
       "      <td>1637.0</td>\n",
       "      <td>N</td>\n",
       "      <td>현대오일뱅크</td>\n",
       "      <td>중랑구</td>\n",
       "    </tr>\n",
       "    <tr>\n",
       "      <th>3</th>\n",
       "      <td>면목SELF주유소</td>\n",
       "      <td>서울 중랑구 동일로 627 (면목동)</td>\n",
       "      <td>1637.0</td>\n",
       "      <td>Y</td>\n",
       "      <td>SK에너지</td>\n",
       "      <td>중랑구</td>\n",
       "    </tr>\n",
       "    <tr>\n",
       "      <th>4</th>\n",
       "      <td>구도일주유소 동천</td>\n",
       "      <td>서울 중랑구 동일로 654 (면목동)</td>\n",
       "      <td>1637.0</td>\n",
       "      <td>Y</td>\n",
       "      <td>S-OIL</td>\n",
       "      <td>중랑구</td>\n",
       "    </tr>\n",
       "    <tr>\n",
       "      <th>...</th>\n",
       "      <td>...</td>\n",
       "      <td>...</td>\n",
       "      <td>...</td>\n",
       "      <td>...</td>\n",
       "      <td>...</td>\n",
       "      <td>...</td>\n",
       "    </tr>\n",
       "    <tr>\n",
       "      <th>18</th>\n",
       "      <td>동일주유소</td>\n",
       "      <td>서울특별시 성북구  보문로 85 (보문동5가)</td>\n",
       "      <td>1675.0</td>\n",
       "      <td>Y</td>\n",
       "      <td>S-OIL</td>\n",
       "      <td>성북구</td>\n",
       "    </tr>\n",
       "    <tr>\n",
       "      <th>19</th>\n",
       "      <td>재정제2주유소 길음지점</td>\n",
       "      <td>서울 성북구 삼양로 78 (길음동)</td>\n",
       "      <td>1679.0</td>\n",
       "      <td>N</td>\n",
       "      <td>현대오일뱅크</td>\n",
       "      <td>성북구</td>\n",
       "    </tr>\n",
       "    <tr>\n",
       "      <th>20</th>\n",
       "      <td>지에스칼텍스㈜ 세창주유소</td>\n",
       "      <td>서울 성북구 동소문로 323</td>\n",
       "      <td>1696.0</td>\n",
       "      <td>Y</td>\n",
       "      <td>GS칼텍스</td>\n",
       "      <td>성북구</td>\n",
       "    </tr>\n",
       "    <tr>\n",
       "      <th>21</th>\n",
       "      <td>삼선주유소</td>\n",
       "      <td>서울 성북구 창경궁로 324</td>\n",
       "      <td>1697.0</td>\n",
       "      <td>Y</td>\n",
       "      <td>S-OIL</td>\n",
       "      <td>성북구</td>\n",
       "    </tr>\n",
       "    <tr>\n",
       "      <th>22</th>\n",
       "      <td>지에스칼텍스㈜ 화랑주유소</td>\n",
       "      <td>서울 성북구 화랑로 185</td>\n",
       "      <td>1698.0</td>\n",
       "      <td>N</td>\n",
       "      <td>GS칼텍스</td>\n",
       "      <td>성북구</td>\n",
       "    </tr>\n",
       "  </tbody>\n",
       "</table>\n",
       "<p>444 rows × 6 columns</p>\n",
       "</div>"
      ],
      "text/plain": [
       "                상호                         주소      가격 셀프      상표    구\n",
       "0           오천만주유소       서울 중랑구 동일로 547 (면목동)  1627.0  Y   S-OIL  중랑구\n",
       "1            대양주유소      서울 중랑구 봉우재로 105 (상봉동)  1635.0  Y   GS칼텍스  중랑구\n",
       "2   (주)자연에너지 대창주유소       서울 중랑구 동일로 636 (면목동)  1637.0  N  현대오일뱅크  중랑구\n",
       "3        면목SELF주유소       서울 중랑구 동일로 627 (면목동)  1637.0  Y   SK에너지  중랑구\n",
       "4        구도일주유소 동천       서울 중랑구 동일로 654 (면목동)  1637.0  Y   S-OIL  중랑구\n",
       "..             ...                        ...     ... ..     ...  ...\n",
       "18           동일주유소  서울특별시 성북구  보문로 85 (보문동5가)  1675.0  Y   S-OIL  성북구\n",
       "19    재정제2주유소 길음지점        서울 성북구 삼양로 78 (길음동)  1679.0  N  현대오일뱅크  성북구\n",
       "20   지에스칼텍스㈜ 세창주유소            서울 성북구 동소문로 323  1696.0  Y   GS칼텍스  성북구\n",
       "21           삼선주유소            서울 성북구 창경궁로 324  1697.0  Y   S-OIL  성북구\n",
       "22   지에스칼텍스㈜ 화랑주유소             서울 성북구 화랑로 185  1698.0  N   GS칼텍스  성북구\n",
       "\n",
       "[444 rows x 6 columns]"
      ]
     },
     "execution_count": 30,
     "metadata": {},
     "output_type": "execute_result"
    }
   ],
   "source": [
    "gas_data"
   ]
  },
  {
   "cell_type": "code",
   "execution_count": 31,
   "id": "ffc22878",
   "metadata": {},
   "outputs": [
    {
     "data": {
      "text/html": [
       "<div>\n",
       "<style scoped>\n",
       "    .dataframe tbody tr th:only-of-type {\n",
       "        vertical-align: middle;\n",
       "    }\n",
       "\n",
       "    .dataframe tbody tr th {\n",
       "        vertical-align: top;\n",
       "    }\n",
       "\n",
       "    .dataframe thead th {\n",
       "        text-align: right;\n",
       "    }\n",
       "</style>\n",
       "<table border=\"1\" class=\"dataframe\">\n",
       "  <thead>\n",
       "    <tr style=\"text-align: right;\">\n",
       "      <th></th>\n",
       "      <th>index</th>\n",
       "      <th>상호</th>\n",
       "      <th>주소</th>\n",
       "      <th>가격</th>\n",
       "      <th>셀프</th>\n",
       "      <th>상표</th>\n",
       "      <th>구</th>\n",
       "    </tr>\n",
       "  </thead>\n",
       "  <tbody>\n",
       "    <tr>\n",
       "      <th>0</th>\n",
       "      <td>0</td>\n",
       "      <td>오천만주유소</td>\n",
       "      <td>서울 중랑구 동일로 547 (면목동)</td>\n",
       "      <td>1627.0</td>\n",
       "      <td>Y</td>\n",
       "      <td>S-OIL</td>\n",
       "      <td>중랑구</td>\n",
       "    </tr>\n",
       "    <tr>\n",
       "      <th>1</th>\n",
       "      <td>1</td>\n",
       "      <td>대양주유소</td>\n",
       "      <td>서울 중랑구 봉우재로 105 (상봉동)</td>\n",
       "      <td>1635.0</td>\n",
       "      <td>Y</td>\n",
       "      <td>GS칼텍스</td>\n",
       "      <td>중랑구</td>\n",
       "    </tr>\n",
       "    <tr>\n",
       "      <th>2</th>\n",
       "      <td>2</td>\n",
       "      <td>(주)자연에너지 대창주유소</td>\n",
       "      <td>서울 중랑구 동일로 636 (면목동)</td>\n",
       "      <td>1637.0</td>\n",
       "      <td>N</td>\n",
       "      <td>현대오일뱅크</td>\n",
       "      <td>중랑구</td>\n",
       "    </tr>\n",
       "    <tr>\n",
       "      <th>3</th>\n",
       "      <td>3</td>\n",
       "      <td>면목SELF주유소</td>\n",
       "      <td>서울 중랑구 동일로 627 (면목동)</td>\n",
       "      <td>1637.0</td>\n",
       "      <td>Y</td>\n",
       "      <td>SK에너지</td>\n",
       "      <td>중랑구</td>\n",
       "    </tr>\n",
       "    <tr>\n",
       "      <th>4</th>\n",
       "      <td>4</td>\n",
       "      <td>구도일주유소 동천</td>\n",
       "      <td>서울 중랑구 동일로 654 (면목동)</td>\n",
       "      <td>1637.0</td>\n",
       "      <td>Y</td>\n",
       "      <td>S-OIL</td>\n",
       "      <td>중랑구</td>\n",
       "    </tr>\n",
       "  </tbody>\n",
       "</table>\n",
       "</div>"
      ],
      "text/plain": [
       "   index              상호                     주소      가격 셀프      상표    구\n",
       "0      0          오천만주유소   서울 중랑구 동일로 547 (면목동)  1627.0  Y   S-OIL  중랑구\n",
       "1      1           대양주유소  서울 중랑구 봉우재로 105 (상봉동)  1635.0  Y   GS칼텍스  중랑구\n",
       "2      2  (주)자연에너지 대창주유소   서울 중랑구 동일로 636 (면목동)  1637.0  N  현대오일뱅크  중랑구\n",
       "3      3       면목SELF주유소   서울 중랑구 동일로 627 (면목동)  1637.0  Y   SK에너지  중랑구\n",
       "4      4       구도일주유소 동천   서울 중랑구 동일로 654 (면목동)  1637.0  Y   S-OIL  중랑구"
      ]
     },
     "execution_count": 31,
     "metadata": {},
     "output_type": "execute_result"
    }
   ],
   "source": [
    "gas_data.reset_index(inplace = True)\n",
    "gas_data.head()"
   ]
  },
  {
   "cell_type": "code",
   "execution_count": 32,
   "id": "0f431c86",
   "metadata": {},
   "outputs": [],
   "source": [
    "del gas_data['index']"
   ]
  },
  {
   "cell_type": "code",
   "execution_count": 33,
   "id": "9697a206",
   "metadata": {},
   "outputs": [
    {
     "data": {
      "text/html": [
       "<div>\n",
       "<style scoped>\n",
       "    .dataframe tbody tr th:only-of-type {\n",
       "        vertical-align: middle;\n",
       "    }\n",
       "\n",
       "    .dataframe tbody tr th {\n",
       "        vertical-align: top;\n",
       "    }\n",
       "\n",
       "    .dataframe thead th {\n",
       "        text-align: right;\n",
       "    }\n",
       "</style>\n",
       "<table border=\"1\" class=\"dataframe\">\n",
       "  <thead>\n",
       "    <tr style=\"text-align: right;\">\n",
       "      <th></th>\n",
       "      <th>상호</th>\n",
       "      <th>주소</th>\n",
       "      <th>가격</th>\n",
       "      <th>셀프</th>\n",
       "      <th>상표</th>\n",
       "      <th>구</th>\n",
       "    </tr>\n",
       "  </thead>\n",
       "  <tbody>\n",
       "    <tr>\n",
       "      <th>0</th>\n",
       "      <td>오천만주유소</td>\n",
       "      <td>서울 중랑구 동일로 547 (면목동)</td>\n",
       "      <td>1627.0</td>\n",
       "      <td>Y</td>\n",
       "      <td>S-OIL</td>\n",
       "      <td>중랑구</td>\n",
       "    </tr>\n",
       "    <tr>\n",
       "      <th>1</th>\n",
       "      <td>대양주유소</td>\n",
       "      <td>서울 중랑구 봉우재로 105 (상봉동)</td>\n",
       "      <td>1635.0</td>\n",
       "      <td>Y</td>\n",
       "      <td>GS칼텍스</td>\n",
       "      <td>중랑구</td>\n",
       "    </tr>\n",
       "    <tr>\n",
       "      <th>2</th>\n",
       "      <td>(주)자연에너지 대창주유소</td>\n",
       "      <td>서울 중랑구 동일로 636 (면목동)</td>\n",
       "      <td>1637.0</td>\n",
       "      <td>N</td>\n",
       "      <td>현대오일뱅크</td>\n",
       "      <td>중랑구</td>\n",
       "    </tr>\n",
       "    <tr>\n",
       "      <th>3</th>\n",
       "      <td>면목SELF주유소</td>\n",
       "      <td>서울 중랑구 동일로 627 (면목동)</td>\n",
       "      <td>1637.0</td>\n",
       "      <td>Y</td>\n",
       "      <td>SK에너지</td>\n",
       "      <td>중랑구</td>\n",
       "    </tr>\n",
       "    <tr>\n",
       "      <th>4</th>\n",
       "      <td>구도일주유소 동천</td>\n",
       "      <td>서울 중랑구 동일로 654 (면목동)</td>\n",
       "      <td>1637.0</td>\n",
       "      <td>Y</td>\n",
       "      <td>S-OIL</td>\n",
       "      <td>중랑구</td>\n",
       "    </tr>\n",
       "  </tbody>\n",
       "</table>\n",
       "</div>"
      ],
      "text/plain": [
       "               상호                     주소      가격 셀프      상표    구\n",
       "0          오천만주유소   서울 중랑구 동일로 547 (면목동)  1627.0  Y   S-OIL  중랑구\n",
       "1           대양주유소  서울 중랑구 봉우재로 105 (상봉동)  1635.0  Y   GS칼텍스  중랑구\n",
       "2  (주)자연에너지 대창주유소   서울 중랑구 동일로 636 (면목동)  1637.0  N  현대오일뱅크  중랑구\n",
       "3       면목SELF주유소   서울 중랑구 동일로 627 (면목동)  1637.0  Y   SK에너지  중랑구\n",
       "4       구도일주유소 동천   서울 중랑구 동일로 654 (면목동)  1637.0  Y   S-OIL  중랑구"
      ]
     },
     "execution_count": 33,
     "metadata": {},
     "output_type": "execute_result"
    }
   ],
   "source": [
    "gas_data.head()"
   ]
  },
  {
   "cell_type": "code",
   "execution_count": 34,
   "id": "bf1e79d0",
   "metadata": {},
   "outputs": [
    {
     "name": "stdout",
     "output_type": "stream",
     "text": [
      "<class 'pandas.core.frame.DataFrame'>\n",
      "RangeIndex: 444 entries, 0 to 443\n",
      "Data columns (total 6 columns):\n",
      " #   Column  Non-Null Count  Dtype  \n",
      "---  ------  --------------  -----  \n",
      " 0   상호      444 non-null    object \n",
      " 1   주소      444 non-null    object \n",
      " 2   가격      444 non-null    float64\n",
      " 3   셀프      444 non-null    object \n",
      " 4   상표      444 non-null    object \n",
      " 5   구       444 non-null    object \n",
      "dtypes: float64(1), object(5)\n",
      "memory usage: 20.9+ KB\n"
     ]
    }
   ],
   "source": [
    "gas_data.info()"
   ]
  },
  {
   "cell_type": "code",
   "execution_count": 35,
   "id": "1cc274d7",
   "metadata": {},
   "outputs": [],
   "source": [
    "import matplotlib.pyplot as plt\n",
    "import seaborn as sns\n",
    "import platform\n"
   ]
  },
  {
   "cell_type": "code",
   "execution_count": 39,
   "id": "a1ba18f9",
   "metadata": {},
   "outputs": [],
   "source": [
    "import json\n",
    "import folium\n",
    "import warnings\n",
    "warnings.simplefilter(action='ignore', category=FutureWarning)"
   ]
  },
  {
   "cell_type": "code",
   "execution_count": 40,
   "id": "b61fd20f",
   "metadata": {},
   "outputs": [
    {
     "name": "stdout",
     "output_type": "stream",
     "text": [
      "NanumGothic Eco\n",
      "NanumGothic Eco\n",
      "NanumGothic\n",
      "NanumBarunGothic\n",
      "Nanum Pen Script\n",
      "Nanum Brush Script\n",
      "NanumMyeongjo Eco\n",
      "NanumGothic\n",
      "NanumSquareRound\n",
      "NanumMyeongjo\n",
      "NanumSquare\n",
      "NanumSquare\n",
      "NanumBarunGothic\n",
      "NanumGothic\n",
      "NanumSquareRound\n",
      "NanumGothicCoding\n",
      "NanumMyeongjo\n",
      "NanumSquare\n",
      "NanumMyeongjo\n",
      "NanumSquareRound\n",
      "NanumGothic\n",
      "NanumGothicCoding\n",
      "NanumSquare\n",
      "NanumBarunpen\n",
      "NanumGothic Eco\n",
      "NanumMyeongjo Eco\n",
      "NanumMyeongjo Eco\n",
      "NanumBarunpen\n",
      "NanumBarunGothic\n",
      "NanumSquareRound\n",
      "NanumBarunGothic\n"
     ]
    }
   ],
   "source": [
    "import matplotlib.font_manager\n",
    "font_list = matplotlib.font_manager.findSystemFonts(fontpaths=None, fontext = 'ttf')\n",
    "\n",
    "for  font in font_list:\n",
    "    if 'Nanum' in font:\n",
    "        print(matplotlib.font_manager.FontProperties(fname=font).get_name())"
   ]
  },
  {
   "cell_type": "code",
   "execution_count": 41,
   "id": "d8f2a41c",
   "metadata": {},
   "outputs": [],
   "source": [
    "import matplotlib.pyplot as plt \n",
    "\n",
    "plt.rc('font', family = 'NanumGothicCoding')"
   ]
  },
  {
   "cell_type": "code",
   "execution_count": 37,
   "id": "c6c1452a",
   "metadata": {},
   "outputs": [],
   "source": [
    "# plt.rc('font', family ='NanumGothicCoding')"
   ]
  },
  {
   "cell_type": "code",
   "execution_count": 38,
   "id": "b4b0f748",
   "metadata": {},
   "outputs": [],
   "source": [
    "# gas_data.boxplot(column='가격' , by = '셀프' , figsize=(12,8));"
   ]
  },
  {
   "cell_type": "code",
   "execution_count": null,
   "id": "def067c7",
   "metadata": {},
   "outputs": [],
   "source": []
  }
 ],
 "metadata": {
  "kernelspec": {
   "display_name": "Python 3 (ipykernel)",
   "language": "python",
   "name": "python3"
  },
  "language_info": {
   "codemirror_mode": {
    "name": "ipython",
    "version": 3
   },
   "file_extension": ".py",
   "mimetype": "text/x-python",
   "name": "python",
   "nbconvert_exporter": "python",
   "pygments_lexer": "ipython3",
   "version": "3.8.10"
  }
 },
 "nbformat": 4,
 "nbformat_minor": 5
}
