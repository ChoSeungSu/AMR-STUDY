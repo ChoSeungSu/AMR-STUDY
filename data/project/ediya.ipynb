{
 "cells": [
  {
   "cell_type": "code",
   "execution_count": 1,
   "id": "b6f1f849",
   "metadata": {},
   "outputs": [],
   "source": [
    "from selenium import webdriver \n",
    "from selenium.webdriver.chrome.service import Service\n",
    "from selenium.webdriver.common.by import By\n",
    "from selenium.webdriver.common.keys import Keys\n",
    "from selenium.webdriver import ActionChains\n",
    "from bs4 import BeautifulSoup\n",
    "import re\n",
    "import pandas as pd\n",
    "from tqdm import tqdm\n",
    "import time"
   ]
  },
  {
   "cell_type": "code",
   "execution_count": 2,
   "id": "f70f2f04",
   "metadata": {},
   "outputs": [],
   "source": [
    "from urllib.request import Request, urlopen\n",
    "from fake_useragent import UserAgent\n",
    "from bs4 import BeautifulSoup\n",
    "from urllib.parse import urljoin"
   ]
  },
  {
   "cell_type": "code",
   "execution_count": 3,
   "id": "3ac2cb0c",
   "metadata": {},
   "outputs": [],
   "source": [
    "chrome_options = webdriver.ChromeOptions()"
   ]
  },
  {
   "cell_type": "code",
   "execution_count": 4,
   "id": "65551ea0",
   "metadata": {},
   "outputs": [],
   "source": [
    "url = 'https://www.ediya.com/'\n",
    "driver = webdriver.Chrome(service=Service('../Selenium/driver/chromedriver'), options = chrome_options)\n",
    "driver.get(url)"
   ]
  },
  {
   "cell_type": "code",
   "execution_count": 8,
   "id": "9738b762",
   "metadata": {},
   "outputs": [],
   "source": [
    "xpath = '''/html/body/header/div/div/div[2]/div[1]/ul[1]/li[2]/a'''\n",
    "search_btn = driver.find_element(By.XPATH, xpath).click()\n",
    "\n",
    "## 지역검색 클릭"
   ]
  },
  {
   "cell_type": "code",
   "execution_count": 16,
   "id": "ef15b704",
   "metadata": {},
   "outputs": [
    {
     "data": {
      "text/plain": [
       "'강남구'"
      ]
     },
     "execution_count": 16,
     "metadata": {},
     "output_type": "execute_result"
    }
   ],
   "source": [
    "gu_names = ['강남구',\n",
    " '강동구',\n",
    " '강북구',\n",
    " '강서구',\n",
    " '관악구',\n",
    " '광진구',\n",
    " '구로구',\n",
    " '금천구',\n",
    " '노원구',\n",
    " '도봉구',\n",
    " '동대문구',\n",
    " '동작구',\n",
    " '마포구',\n",
    " '서대문구',\n",
    " '서초구',\n",
    " '성동구',\n",
    " '성북구',\n",
    " '송파구',\n",
    " '양천구',\n",
    " '영등포구',\n",
    " '용산구',\n",
    " '은평구',\n",
    " '종로구',\n",
    " '중구',\n",
    " '중랑구']\n",
    "gu_names[0]"
   ]
  },
  {
   "cell_type": "code",
   "execution_count": 21,
   "id": "8f975707",
   "metadata": {},
   "outputs": [],
   "source": [
    "addr_path = '''//*[@id=\"contentWrap\"]/div[3]/div/div[1]/ul/li[2]/a'''\n",
    "search_btn = driver.find_element(By.XPATH, addr_path).click()"
   ]
  },
  {
   "cell_type": "code",
   "execution_count": 22,
   "id": "fa2c2040",
   "metadata": {},
   "outputs": [],
   "source": [
    "css_selector = '''#keyword'''\n",
    "search_docs = driver.find_element(By.CSS_SELECTOR, css_selector).send_keys(gu_names[0]) ## 구 이름 입력  \n",
    "# click_path = '''//*[@id=\"name_submit_btn\"]'''\n",
    "# search_click = driver.find_element(By.XPATH, click_path).click()\n",
    "# ActionChains(driver).click(search_btn).send_keys('강남구')\n"
   ]
  },
  {
   "cell_type": "code",
   "execution_count": 24,
   "id": "15ed1418",
   "metadata": {},
   "outputs": [],
   "source": [
    "click_path = '''//*[@id=\"keyword_div\"]/form/button'''\n",
    "search_click = driver.find_element(By.XPATH, click_path).click()"
   ]
  },
  {
   "cell_type": "code",
   "execution_count": 25,
   "id": "68d4f293",
   "metadata": {},
   "outputs": [],
   "source": [
    "leq = driver.page_source\n",
    "soup = BeautifulSoup(leq, \"html.parser\") ## 현재 페이지 html 가져오기 "
   ]
  },
  {
   "cell_type": "code",
   "execution_count": 40,
   "id": "982c09ff",
   "metadata": {},
   "outputs": [],
   "source": [
    "content = soup.find(\"div\", 'result_list') ## 원하는 매장별 html 위치 접근하기 "
   ]
  },
  {
   "cell_type": "code",
   "execution_count": 69,
   "id": "6501291c",
   "metadata": {},
   "outputs": [
    {
     "data": {
      "text/plain": [
       "<div class=\"result_list\">\n",
       "<ul id=\"placesList\" style=\"\"><li class=\"item\"><a href=\"#c\" onclick=\"panLatTo('0','0','0');fnMove();\"><div class=\"store_thum\"><img src=\"../images/customer/store_thum.gif\"/></div><dl><dt>강남YMCA점</dt> <dd>서울 강남구 논현동</dd></dl></a></li><li class=\"item\"><a href=\"#c\" onclick=\"panLatTo('127.0401601992311','37.51654171724045','1');fnMove();\"><div class=\"store_thum\"><img src=\"../images/customer/store_thum.gif\"/></div><dl><dt>강남구청역아이티웨딩점</dt> <dd>서울 강남구 학동로 338 (논현동, 강남파라곤)</dd></dl></a></li><li class=\"item\"><a href=\"#c\" onclick=\"panLatTo('127.02810578707652','37.51408005446769','2');fnMove();\"><div class=\"store_thum\"><img src=\"../images/customer/store_thum.gif\"/></div><dl><dt>강남논현학동점</dt> <dd>서울 강남구 논현로131길 28 (논현동)</dd></dl></a></li><li class=\"item\"><a href=\"#c\" onclick=\"panLatTo('127.05242928262568','37.50133876179308','3');fnMove();\"><div class=\"store_thum\"><img src=\"../images/customer/store_thum.gif\"/></div><dl><dt>강남대치점</dt> <dd>서울 강남구 역삼로 415 (대치동, 성진빌딩)</dd></dl></a></li><li class=\"item\"><a href=\"#c\" onclick=\"panAddTo('서울 강남구 도산대로37길 20 (신사동)','4');fnMove();\"><div class=\"store_thum\"><img src=\"../images/customer/store_thum.gif\"/></div><dl><dt>강남도산점</dt> <dd>서울 강남구 도산대로37길 20 (신사동)</dd></dl></a></li><li class=\"item\"><a href=\"#c\" onclick=\"panLatTo('127.1007917976449','37.46684383424938','5');fnMove();\"><div class=\"store_thum\"><img src=\"../images/customer/store_thum.gif\"/></div><dl><dt>강남세곡점</dt> <dd>서울 강남구 헌릉로569길 9 (세곡동, 강남지웰파인즈)</dd></dl></a></li><li class=\"item\"><a href=\"#c\" onclick=\"panLatTo('127.107863694133','37.4735487656314','6');fnMove();\"><div class=\"store_thum\"><img src=\"../images/customer/store_thum.gif\"/></div><dl><dt>강남율현점</dt> <dd>서울 강남구 밤고개로21길 8 (율현동, 세곡프라자)</dd></dl></a></li><li class=\"item\"><a href=\"#c\" onclick=\"panLatTo('127.1031720971561','37.473606114795814','7');fnMove();\"><div class=\"store_thum\"><img src=\"../images/customer/store_thum.gif\"/></div><dl><dt>강남자곡점</dt> <dd>서울 강남구 자곡로 180 (자곡동, 강남유탑유블레스)</dd></dl></a></li><li class=\"item\"><a href=\"#c\" onclick=\"panLatTo('127.06742226515867','37.488604436046536','8');fnMove();\"><div class=\"store_thum\"><img src=\"../images/customer/store_thum.gif\"/></div><dl><dt>개포동역점</dt> <dd>서울 강남구 개포로82길 11 (개포동, 삼우빌딩)</dd></dl></a></li><li class=\"item\"><a href=\"#c\" onclick=\"panAddTo('서울 강남구 언주로 711 (논현동)','9');fnMove();\"><div class=\"store_thum\"><img src=\"../images/customer/store_thum.gif\"/></div><dl><dt>건설회관점</dt> <dd>서울 강남구 언주로 711 (논현동)</dd></dl></a></li><li class=\"item\"><a href=\"#c\" onclick=\"panLatTo('127.07764131137398','37.49418891219431','10');fnMove();\"><div class=\"store_thum\"><img src=\"../images/customer/store_thum.gif\"/></div><dl><dt>대청역점</dt> <dd>서울 강남구 개포로109길 34 (개포동, 대청프라자)</dd></dl></a></li><li class=\"item\"><a href=\"#c\" onclick=\"panLatTo('127.061617564506','37.4940924880388','11');fnMove();\"><div class=\"store_thum\"><img src=\"../images/customer/store_thum.gif\"/></div><dl><dt>대치역점</dt> <dd>서울 강남구 남부순환로 2937 (대치동, 까치빌딩)</dd></dl></a></li><li class=\"item\"><a href=\"#c\" onclick=\"panLatTo('127.04304591726503','37.482353824702095','12');fnMove();\"><div class=\"store_thum\"><img src=\"../images/customer/store_thum.gif\"/></div><dl><dt>도곡2동점</dt> <dd>서울 강남구 논현로 142 (도곡동, 동현빌딩)</dd></dl></a></li><li class=\"item\"><a href=\"#c\" onclick=\"panAddTo('서울 강남구 논현동 ','13');fnMove();\"><div class=\"store_thum\"><img src=\"../images/customer/store_thum.gif\"/></div><dl><dt>도산사거리점</dt> <dd>서울 강남구 논현동 </dd></dl></a></li><li class=\"item\"><a href=\"#c\" onclick=\"panLatTo('127.06310437319587','37.50043704079942','14');fnMove();\"><div class=\"store_thum\"><img src=\"../images/customer/store_thum.gif\"/></div><dl><dt>삼성대치점</dt> <dd>서울 강남구 삼성로64길 32 (대치동, 주성빌딩)</dd></dl></a></li><li class=\"item\"><a href=\"#c\" onclick=\"panAddTo('서울 강남구 테헤란로88길 10 (대치동)','15');fnMove();\"><div class=\"store_thum\"><img src=\"../images/customer/store_thum.gif\"/></div><dl><dt>삼성동점</dt> <dd>서울 강남구 테헤란로88길 10 (대치동)</dd></dl></a></li><li class=\"item\"><a href=\"#c\" onclick=\"panLatTo('127.053299510545','37.5138886492475','16');fnMove();\"><div class=\"store_thum\"><img src=\"../images/customer/store_thum.gif\"/></div><dl><dt>삼성중앙역점</dt> <dd>서울 강남구 삼성로 608 (삼성동, 우창빌딩)</dd></dl></a></li><li class=\"item\"><a href=\"#c\" onclick=\"panAddTo('서울 강남구 테헤란로107길 11 (삼성동)','17');fnMove();\"><div class=\"store_thum\"><img src=\"../images/customer/store_thum.gif\"/></div><dl><dt>삼성한전점</dt> <dd>서울 강남구 테헤란로107길 11 (삼성동)</dd></dl></a></li><li class=\"item\"><a href=\"#c\" onclick=\"panLatTo('127.04806966822704','37.50585465375997','18');fnMove();\"><div class=\"store_thum\"><img src=\"../images/customer/store_thum.gif\"/></div><dl><dt>선릉사거리점</dt> <dd>서울 강남구 선릉로 519 (역삼동, 삼능빌딩)</dd></dl></a></li><li class=\"item\"><a href=\"#c\" onclick=\"panLatTo('127.048192060882','37.503774633134','19');fnMove();\"><div class=\"store_thum\"><img src=\"../images/customer/store_thum.gif\"/></div><dl><dt>선릉역점</dt> <dd>서울 강남구 테헤란로 332 (역삼동, HJ타워)</dd></dl></a></li><li class=\"item\"><a href=\"#c\" onclick=\"panLatTo('0','0','20');fnMove();\"><div class=\"store_thum\"><img src=\"../images/customer/store_thum.gif\"/></div><dl><dt>선정릉역점</dt> <dd>서울 강남구 봉은사로 326 (역삼동)</dd></dl></a></li><li class=\"item\"><a href=\"#c\" onclick=\"panLatTo('127.10304411368496','37.487429952799744','21');fnMove();\"><div class=\"store_thum\"><img src=\"../images/customer/store_thum.gif\"/></div><dl><dt>수서역점</dt> <dd>서울 강남구 광평로 280 (수서동, 로즈데일오피스텔)</dd></dl></a></li><li class=\"item\"><a href=\"#c\" onclick=\"panLatTo('127.02145819084597','37.517782772275645','22');fnMove();\"><div class=\"store_thum\"><img src=\"../images/customer/store_thum.gif\"/></div><dl><dt>신사역점</dt> <dd>서울 강남구 압구정로2길 62 (신사동)</dd></dl></a></li><li class=\"item\"><a href=\"#c\" onclick=\"panLatTo('127.02186508143391','37.51665644330877','23');fnMove();\"><div class=\"store_thum\"><img src=\"../images/customer/store_thum.gif\"/></div><dl><dt>신사점</dt> <dd>서울 강남구 도산대로 118 (논현동)</dd></dl></a></li><li class=\"item\"><a href=\"#c\" onclick=\"panAddTo('서울 강남구 선릉로161길 20 (신사동)','24');fnMove();\"><div class=\"store_thum\"><img src=\"../images/customer/store_thum.gif\"/></div><dl><dt>압구정로데오역점</dt> <dd>서울 강남구 선릉로161길 20 (신사동)</dd></dl></a></li><li class=\"item\"><a href=\"#c\" onclick=\"panAddTo('서울 강남구 신사동','25');fnMove();\"><div class=\"store_thum\"><img src=\"../images/customer/store_thum.gif\"/></div><dl><dt>압구정점</dt> <dd>서울 강남구 신사동</dd></dl></a></li><li class=\"item\"><a href=\"#c\" onclick=\"panAddTo('서울 강남구 논현로63길 16 (역삼동, 역삼종합시장 더블루)','26');fnMove();\"><div class=\"store_thum\"><img src=\"../images/customer/store_thum.gif\"/></div><dl><dt>역삼더블루점</dt> <dd>서울 강남구 논현로63길 16 (역삼동, 역삼종합시장 더블루)</dd></dl></a></li><li class=\"item\"><a href=\"#c\" onclick=\"panLatTo('127.0439944465106','37.504405623324196','27');fnMove();\"><div class=\"store_thum\"><img src=\"../images/customer/store_thum.gif\"/></div><dl><dt>역삼상록점</dt> <dd>서울 강남구 테헤란로43길 18 (역삼동, SC빌딩)</dd></dl></a></li><li class=\"item\"><a href=\"#c\" onclick=\"panLatTo('127.03523956508853','37.50178663316214','28');fnMove();\"><div class=\"store_thum\"><img src=\"../images/customer/store_thum.gif\"/></div><dl><dt>역삼역점</dt> <dd>서울 강남구 테헤란로25길 17 (역삼동)</dd></dl></a></li><li class=\"item\"><a href=\"#c\" onclick=\"panLatTo('127.04811298239548','37.49844836915844','29');fnMove();\"><div class=\"store_thum\"><img src=\"../images/customer/store_thum.gif\"/></div><dl><dt>역삼월드점</dt> <dd>서울 강남구 역삼로52길 14 (역삼동, 도곡프라자)</dd></dl></a></li><li class=\"item\"><a href=\"#c\" onclick=\"panLatTo('0','0','30');fnMove();\"><div class=\"store_thum\"><img src=\"../images/customer/store_thum.gif\"/></div><dl><dt>역삼점</dt> <dd>서울 강남구 논현로72길 13 (역삼동)</dd></dl></a></li><li class=\"item\"><a href=\"#c\" onclick=\"panLatTo('127.04292899982501','37.5003154494517','31');fnMove();\"><div class=\"store_thum\"><img src=\"../images/customer/store_thum.gif\"/></div><dl><dt>역삼중앙점</dt> <dd>서울 강남구 언주로81길 8 (역삼동)</dd></dl></a></li><li class=\"item\"><a href=\"#c\" onclick=\"panLatTo('0','0','32');fnMove();\"><div class=\"store_thum\"><img src=\"../images/customer/store_thum.gif\"/></div><dl><dt>역삼초교점</dt> <dd>서울 강남구 강남대로 314 (역삼동)</dd></dl></a></li><li class=\"item\"><a href=\"#c\" onclick=\"panAddTo('서울 강남구 논현로98길 7 (역삼동)','33');fnMove();\"><div class=\"store_thum\"><img src=\"../images/customer/store_thum.gif\"/></div><dl><dt>역삼충현점</dt> <dd>서울 강남구 논현로98길 7 (역삼동)</dd></dl></a></li><li class=\"item\"><a href=\"#c\" onclick=\"panAddTo('서울 강남구 테헤란로4길 46 (역삼동, 쌍용플래티넘밸류)','34');fnMove();\"><div class=\"store_thum\"><img src=\"../images/customer/store_thum.gif\"/></div><dl><dt>역삼플래티넘점</dt> <dd>서울 강남구 테헤란로4길 46 (역삼동, 쌍용플래티넘밸류)</dd></dl></a></li><li class=\"item\"><a href=\"#c\" onclick=\"panLatTo('0','0','35');fnMove();\"><div class=\"store_thum\"><img src=\"../images/customer/store_thum.gif\"/></div><dl><dt>을지병원사거리점</dt> <dd>서울 강남구 도산대로30길 7 (논현동)</dd></dl></a></li><li class=\"item\"><a href=\"#c\" onclick=\"panLatTo('127.032981540064','37.51047297481296','36');fnMove();\"><div class=\"store_thum\"><img src=\"../images/customer/store_thum.gif\"/></div><dl><dt>이디야커피랩</dt> <dd>서울 강남구 논현로 636 (논현동, 이디야빌딩)</dd></dl></a></li><li class=\"item\"><a href=\"#c\" onclick=\"panLatTo('127.08160067456867','37.49040201406986','37');fnMove();\"><div class=\"store_thum\"><img src=\"../images/customer/store_thum.gif\"/></div><dl><dt>일원동점</dt> <dd>서울 강남구 양재대로27길 20 (일원동)</dd></dl></a></li><li class=\"item\"><a href=\"#c\" onclick=\"panLatTo('127.05035288418118','37.524855870334314','38');fnMove();\"><div class=\"store_thum\"><img src=\"../images/customer/store_thum.gif\"/></div><dl><dt>청담사거리점</dt> <dd>서울 강남구 도산대로 521 (청담동)</dd></dl></a></li><li class=\"item\"><a href=\"#c\" onclick=\"panLatTo('127.049146860404','37.5200643058897','39');fnMove();\"><div class=\"store_thum\"><img src=\"../images/customer/store_thum.gif\"/></div><dl><dt>청담역점</dt> <dd>서울 강남구 삼성로 721 (청담동, 룩희 819)</dd></dl></a></li><li class=\"item\"><a href=\"#c\" onclick=\"panAddTo('서울 강남구 개포로 218 (개포동)','40');fnMove();\"><div class=\"store_thum\"><img src=\"../images/customer/store_thum.gif\"/></div><dl><dt>포이사거리점</dt> <dd>서울 강남구 개포로 218 (개포동)</dd></dl></a></li><li class=\"item\"><a href=\"#c\" onclick=\"panLatTo('127.03312378880225','37.51499417378034','41');fnMove();\"><div class=\"store_thum\"><img src=\"../images/customer/store_thum.gif\"/></div><dl><dt>학동역점</dt> <dd>서울 강남구 학동로 219 (논현동, 국제빌딩)</dd></dl></a></li><li class=\"item\"><a href=\"#c\" onclick=\"panLatTo('127.033652198273','37.5131174134101','42');fnMove();\"><div class=\"store_thum\"><img src=\"../images/customer/store_thum.gif\"/></div><dl><dt>학동제마점</dt> <dd>서울 강남구 학동로34길 22 (논현동)</dd></dl></a></li><li class=\"item\"><a href=\"#c\" onclick=\"panLatTo('127.056118735013','37.4979490135961','43');fnMove();\"><div class=\"store_thum\"><img src=\"../images/customer/store_thum.gif\"/></div><dl><dt>한티역점</dt> <dd>서울 강남구 도곡로69길 8 (대치동)</dd></dl></a></li></ul>\n",
       "</div>"
      ]
     },
     "execution_count": 69,
     "metadata": {},
     "output_type": "execute_result"
    }
   ],
   "source": [
    "content"
   ]
  },
  {
   "cell_type": "code",
   "execution_count": 70,
   "id": "61e01b64",
   "metadata": {},
   "outputs": [
    {
     "data": {
      "text/plain": [
       "44"
      ]
     },
     "execution_count": 70,
     "metadata": {},
     "output_type": "execute_result"
    }
   ],
   "source": [
    "len(content('dt'))"
   ]
  },
  {
   "cell_type": "code",
   "execution_count": 67,
   "id": "293744db",
   "metadata": {},
   "outputs": [
    {
     "data": {
      "text/plain": [
       "44"
      ]
     },
     "execution_count": 67,
     "metadata": {},
     "output_type": "execute_result"
    }
   ],
   "source": [
    "len(content('dd'))"
   ]
  },
  {
   "cell_type": "code",
   "execution_count": 61,
   "id": "688463da",
   "metadata": {},
   "outputs": [
    {
     "data": {
      "text/plain": [
       "'서울 강남구 논현동'"
      ]
     },
     "execution_count": 61,
     "metadata": {},
     "output_type": "execute_result"
    }
   ],
   "source": [
    "content('dd')[0].get_text()"
   ]
  },
  {
   "cell_type": "code",
   "execution_count": null,
   "id": "712e4d61",
   "metadata": {},
   "outputs": [],
   "source": [
    "ediyaList = []\n",
    "for content in content('dt'):\n",
    "    info = content.find"
   ]
  }
 ],
 "metadata": {
  "kernelspec": {
   "display_name": "Python 3 (ipykernel)",
   "language": "python",
   "name": "python3"
  },
  "language_info": {
   "codemirror_mode": {
    "name": "ipython",
    "version": 3
   },
   "file_extension": ".py",
   "mimetype": "text/x-python",
   "name": "python",
   "nbconvert_exporter": "python",
   "pygments_lexer": "ipython3",
   "version": "3.8.10"
  }
 },
 "nbformat": 4,
 "nbformat_minor": 5
}
