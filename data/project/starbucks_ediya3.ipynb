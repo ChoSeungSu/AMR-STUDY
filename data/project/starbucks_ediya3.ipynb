{
 "cells": [
  {
   "cell_type": "code",
   "execution_count": 22,
   "id": "5f9485a7",
   "metadata": {},
   "outputs": [],
   "source": [
    "from selenium import webdriver \n",
    "from selenium.webdriver.chrome.service import Service\n",
    "from selenium.webdriver.common.by import By\n",
    "from selenium.webdriver.common.keys import Keys\n",
    "from selenium.webdriver import ActionChains\n",
    "from bs4 import BeautifulSoup\n",
    "import re\n",
    "import pandas as pd\n",
    "from tqdm import tqdm\n",
    "import time"
   ]
  },
  {
   "cell_type": "code",
   "execution_count": 23,
   "id": "045cde14",
   "metadata": {},
   "outputs": [],
   "source": [
    "from urllib.request import Request, urlopen\n",
    "from fake_useragent import UserAgent\n",
    "from bs4 import BeautifulSoup\n",
    "from urllib.parse import urljoin"
   ]
  },
  {
   "cell_type": "code",
   "execution_count": 24,
   "id": "efefd686",
   "metadata": {},
   "outputs": [],
   "source": [
    "chrome_options = webdriver.ChromeOptions()"
   ]
  },
  {
   "cell_type": "code",
   "execution_count": 25,
   "id": "370a2d4f",
   "metadata": {},
   "outputs": [],
   "source": [
    "url = 'https://www.starbucks.co.kr/store/store_map.do'\n",
    "driver = webdriver.Chrome(service=Service('../Selenium/driver/chromedriver'), options = chrome_options)\n",
    "driver.get(url)"
   ]
  },
  {
   "cell_type": "code",
   "execution_count": 26,
   "id": "0de96287",
   "metadata": {},
   "outputs": [],
   "source": [
    "driver.find_element(By.CLASS_NAME, 'loca_search').click() ## 지역검색 클릭"
   ]
  },
  {
   "cell_type": "code",
   "execution_count": 27,
   "id": "4b96cc3a",
   "metadata": {},
   "outputs": [],
   "source": [
    "driver.find_elements(By.CLASS_NAME, 'set_sido_cd_btn')[0].click() ## 서울 클릭"
   ]
  },
  {
   "cell_type": "code",
   "execution_count": 28,
   "id": "51cb60c0",
   "metadata": {},
   "outputs": [],
   "source": [
    "driver.find_elements(By.CLASS_NAME, 'set_gugun_cd_btn')[0].click() ## 전체 클릭 "
   ]
  },
  {
   "cell_type": "code",
   "execution_count": 29,
   "id": "5205a436",
   "metadata": {},
   "outputs": [],
   "source": [
    "req = driver.page_source\n",
    "soup = BeautifulSoup(req, \"html.parser\") ## 현재 페이지 html 가져오기"
   ]
  },
  {
   "cell_type": "code",
   "execution_count": 30,
   "id": "f40c1d63",
   "metadata": {},
   "outputs": [],
   "source": [
    "content = soup.find(\"div\", id = \"mCSB_3_container\")\n",
    "contents = content.find_all(\"li\") ## 원하는 매장별 html 위치 접근하기 "
   ]
  },
  {
   "cell_type": "code",
   "execution_count": 31,
   "id": "2382faef",
   "metadata": {},
   "outputs": [],
   "source": [
    "gu = soup.find('ul', 'gugun_arae_box')"
   ]
  },
  {
   "cell_type": "code",
   "execution_count": 53,
   "id": "cf711274",
   "metadata": {},
   "outputs": [],
   "source": [
    "gu_names = []\n",
    "for i in range(len(gu('a'))):\n",
    "    gu_name = gu('a')[i].text\n",
    "    gu_names.append(gu_name)\n",
    "gu_names = gu_names[1:]"
   ]
  },
  {
   "cell_type": "code",
   "execution_count": 58,
   "id": "f24f5226",
   "metadata": {},
   "outputs": [
    {
     "data": {
      "text/plain": [
       "['강남구',\n",
       " '강동구',\n",
       " '강북구',\n",
       " '강서구',\n",
       " '관악구',\n",
       " '광진구',\n",
       " '구로구',\n",
       " '금천구',\n",
       " '노원구',\n",
       " '도봉구',\n",
       " '동대문구',\n",
       " '동작구',\n",
       " '마포구',\n",
       " '서대문구',\n",
       " '서초구',\n",
       " '성동구',\n",
       " '성북구',\n",
       " '송파구',\n",
       " '양천구',\n",
       " '영등포구',\n",
       " '용산구',\n",
       " '은평구',\n",
       " '종로구',\n",
       " '중구',\n",
       " '중랑구']"
      ]
     },
     "execution_count": 58,
     "metadata": {},
     "output_type": "execute_result"
    }
   ],
   "source": []
  },
  {
   "cell_type": "code",
   "execution_count": 21,
   "id": "bb485437",
   "metadata": {},
   "outputs": [
    {
     "data": {
      "text/html": [
       "<div>\n",
       "<style scoped>\n",
       "    .dataframe tbody tr th:only-of-type {\n",
       "        vertical-align: middle;\n",
       "    }\n",
       "\n",
       "    .dataframe tbody tr th {\n",
       "        vertical-align: top;\n",
       "    }\n",
       "\n",
       "    .dataframe thead th {\n",
       "        text-align: right;\n",
       "    }\n",
       "</style>\n",
       "<table border=\"1\" class=\"dataframe\">\n",
       "  <thead>\n",
       "    <tr style=\"text-align: right;\">\n",
       "      <th></th>\n",
       "      <th>매장이름</th>\n",
       "      <th>주소</th>\n",
       "      <th>구</th>\n",
       "      <th>위도</th>\n",
       "      <th>경도</th>\n",
       "      <th>브랜드</th>\n",
       "    </tr>\n",
       "  </thead>\n",
       "  <tbody>\n",
       "    <tr>\n",
       "      <th>0</th>\n",
       "      <td>역삼아레나빌딩</td>\n",
       "      <td>서울특별시 강남구 언주로 425</td>\n",
       "      <td>서울특별시 강남구</td>\n",
       "      <td>37.501087</td>\n",
       "      <td>127.043069</td>\n",
       "      <td>starbucks</td>\n",
       "    </tr>\n",
       "    <tr>\n",
       "      <th>1</th>\n",
       "      <td>논현역사거리</td>\n",
       "      <td>서울특별시 강남구 강남대로 538</td>\n",
       "      <td>서울특별시 강남구</td>\n",
       "      <td>37.510178</td>\n",
       "      <td>127.022223</td>\n",
       "      <td>starbucks</td>\n",
       "    </tr>\n",
       "    <tr>\n",
       "      <th>2</th>\n",
       "      <td>신사역성일빌딩</td>\n",
       "      <td>서울특별시 강남구 강남대로 584</td>\n",
       "      <td>서울특별시 강남구</td>\n",
       "      <td>37.5139309</td>\n",
       "      <td>127.0206057</td>\n",
       "      <td>starbucks</td>\n",
       "    </tr>\n",
       "    <tr>\n",
       "      <th>3</th>\n",
       "      <td>국기원사거리</td>\n",
       "      <td>서울특별시 강남구 테헤란로 125</td>\n",
       "      <td>서울특별시 강남구</td>\n",
       "      <td>37.499517</td>\n",
       "      <td>127.031495</td>\n",
       "      <td>starbucks</td>\n",
       "    </tr>\n",
       "    <tr>\n",
       "      <th>4</th>\n",
       "      <td>대치재경빌딩R</td>\n",
       "      <td>서울특별시 강남구 남부순환로 2947</td>\n",
       "      <td>서울특별시 강남구</td>\n",
       "      <td>37.494668</td>\n",
       "      <td>127.062583</td>\n",
       "      <td>starbucks</td>\n",
       "    </tr>\n",
       "    <tr>\n",
       "      <th>...</th>\n",
       "      <td>...</td>\n",
       "      <td>...</td>\n",
       "      <td>...</td>\n",
       "      <td>...</td>\n",
       "      <td>...</td>\n",
       "      <td>...</td>\n",
       "    </tr>\n",
       "    <tr>\n",
       "      <th>588</th>\n",
       "      <td>사가정역</td>\n",
       "      <td>서울특별시 중랑구 면목로 3101522-3232</td>\n",
       "      <td>서울특별시 중랑구</td>\n",
       "      <td>37.579594</td>\n",
       "      <td>127.087966</td>\n",
       "      <td>starbucks</td>\n",
       "    </tr>\n",
       "    <tr>\n",
       "      <th>589</th>\n",
       "      <td>상봉역</td>\n",
       "      <td>서울특별시 중랑구 망우로 307</td>\n",
       "      <td>서울특별시 중랑구</td>\n",
       "      <td>37.59689</td>\n",
       "      <td>127.08647</td>\n",
       "      <td>starbucks</td>\n",
       "    </tr>\n",
       "    <tr>\n",
       "      <th>590</th>\n",
       "      <td>묵동</td>\n",
       "      <td>서울특별시 중랑구 동일로 952</td>\n",
       "      <td>서울특별시 중랑구</td>\n",
       "      <td>37.615368</td>\n",
       "      <td>127.076633</td>\n",
       "      <td>starbucks</td>\n",
       "    </tr>\n",
       "    <tr>\n",
       "      <th>591</th>\n",
       "      <td>양원역</td>\n",
       "      <td>서울특별시 중랑구 양원역로10길 3</td>\n",
       "      <td>서울특별시 중랑구</td>\n",
       "      <td>37.6066536267232</td>\n",
       "      <td>127.106359790053</td>\n",
       "      <td>starbucks</td>\n",
       "    </tr>\n",
       "    <tr>\n",
       "      <th>592</th>\n",
       "      <td>중화역</td>\n",
       "      <td>서울특별시 중랑구 봉화산로 35</td>\n",
       "      <td>서울특별시 중랑구</td>\n",
       "      <td>37.60170912407773</td>\n",
       "      <td>127.07841136432036</td>\n",
       "      <td>starbucks</td>\n",
       "    </tr>\n",
       "  </tbody>\n",
       "</table>\n",
       "<p>593 rows × 6 columns</p>\n",
       "</div>"
      ],
      "text/plain": [
       "        매장이름                          주소          구                 위도  \\\n",
       "0    역삼아레나빌딩           서울특별시 강남구 언주로 425  서울특별시 강남구          37.501087   \n",
       "1     논현역사거리          서울특별시 강남구 강남대로 538  서울특별시 강남구          37.510178   \n",
       "2    신사역성일빌딩          서울특별시 강남구 강남대로 584  서울특별시 강남구         37.5139309   \n",
       "3     국기원사거리          서울특별시 강남구 테헤란로 125  서울특별시 강남구          37.499517   \n",
       "4    대치재경빌딩R        서울특별시 강남구 남부순환로 2947  서울특별시 강남구          37.494668   \n",
       "..       ...                         ...        ...                ...   \n",
       "588     사가정역  서울특별시 중랑구 면목로 3101522-3232  서울특별시 중랑구          37.579594   \n",
       "589      상봉역           서울특별시 중랑구 망우로 307  서울특별시 중랑구           37.59689   \n",
       "590       묵동           서울특별시 중랑구 동일로 952  서울특별시 중랑구          37.615368   \n",
       "591      양원역         서울특별시 중랑구 양원역로10길 3  서울특별시 중랑구   37.6066536267232   \n",
       "592      중화역           서울특별시 중랑구 봉화산로 35  서울특별시 중랑구  37.60170912407773   \n",
       "\n",
       "                     경도        브랜드  \n",
       "0            127.043069  starbucks  \n",
       "1            127.022223  starbucks  \n",
       "2           127.0206057  starbucks  \n",
       "3            127.031495  starbucks  \n",
       "4            127.062583  starbucks  \n",
       "..                  ...        ...  \n",
       "588          127.087966  starbucks  \n",
       "589           127.08647  starbucks  \n",
       "590          127.076633  starbucks  \n",
       "591    127.106359790053  starbucks  \n",
       "592  127.07841136432036  starbucks  \n",
       "\n",
       "[593 rows x 6 columns]"
      ]
     },
     "execution_count": 21,
     "metadata": {},
     "output_type": "execute_result"
    }
   ],
   "source": [
    "starbucksList = []\n",
    "for content in contents:\n",
    "    info = content.find(class_='result_details').get_text()\n",
    "    info = info.split(\" \")\n",
    "    \n",
    "    gu   = info[0] + \" \" + info[1]\n",
    "    addr = info[0] + \" \" + info[1] + \" \" + info[2] + \" \" + info[3]\n",
    "    name = content['data-name']\n",
    "    lat  = content['data-lat']\n",
    "    long = content['data-long']\n",
    "    \n",
    "    each = {\"매장이름\" : name,\n",
    "           \"주소\" : addr,\n",
    "           \"구\" : gu,\n",
    "           \"위도\" : lat,\n",
    "           \"경도\" : long,\n",
    "           \"브랜드\" : \"starbucks\"}\n",
    "    starbucksList.append(each)              \n",
    "    \n",
    "## 데이터 크롤링 한 후 데이터 프레임 만들기 \n",
    "## 딕셔너리 형태로 데이터 만든 후 리스트에 넣고 딕셔너리 데이터를 갖고 있는 리스트를 판다스 데이터 프레임에 넣어주면 \n",
    "## 딕셔너리 key값이 columns , 데이터 프레임 value 값이 value로 생성됨 \n",
    "    \n",
    "\n",
    "df_starbucks = pd.DataFrame(starbucksList)\n",
    "df_starbucks"
   ]
  },
  {
   "cell_type": "code",
   "execution_count": null,
   "id": "a8eb4771",
   "metadata": {},
   "outputs": [],
   "source": []
  }
 ],
 "metadata": {
  "kernelspec": {
   "display_name": "Python 3 (ipykernel)",
   "language": "python",
   "name": "python3"
  },
  "language_info": {
   "codemirror_mode": {
    "name": "ipython",
    "version": 3
   },
   "file_extension": ".py",
   "mimetype": "text/x-python",
   "name": "python",
   "nbconvert_exporter": "python",
   "pygments_lexer": "ipython3",
   "version": "3.8.10"
  }
 },
 "nbformat": 4,
 "nbformat_minor": 5
}
