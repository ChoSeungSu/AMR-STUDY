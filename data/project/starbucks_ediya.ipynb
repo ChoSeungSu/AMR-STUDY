{
 "cells": [
  {
   "cell_type": "markdown",
   "id": "796a8361",
   "metadata": {},
   "source": [
    "## selenium 모듈"
   ]
  },
  {
   "cell_type": "code",
   "execution_count": 1,
   "id": "7b77f3de",
   "metadata": {},
   "outputs": [],
   "source": [
    "from selenium import webdriver \n",
    "from selenium.webdriver.chrome.service import Service\n",
    "from selenium.webdriver.common.by import By\n",
    "from selenium.webdriver.common.keys import Keys\n",
    "from selenium.webdriver import ActionChains\n",
    "from bs4 import BeautifulSoup\n",
    "import re\n",
    "import pandas as pd\n",
    "from tqdm import tqdm"
   ]
  },
  {
   "cell_type": "markdown",
   "id": "844bb89f",
   "metadata": {},
   "source": [
    "## beautiful soup 모듈"
   ]
  },
  {
   "cell_type": "code",
   "execution_count": 2,
   "id": "51ff08cd",
   "metadata": {},
   "outputs": [],
   "source": [
    "from urllib.request import Request, urlopen\n",
    "from fake_useragent import UserAgent\n",
    "from bs4 import BeautifulSoup\n",
    "from urllib.parse import urljoin"
   ]
  },
  {
   "cell_type": "code",
   "execution_count": 3,
   "id": "2d3567b1",
   "metadata": {},
   "outputs": [],
   "source": [
    "chrome_options = webdriver.ChromeOptions()"
   ]
  },
  {
   "cell_type": "code",
   "execution_count": 4,
   "id": "f02fa37b",
   "metadata": {},
   "outputs": [],
   "source": [
    "url = 'https://www.starbucks.co.kr/store/store_map.do'\n",
    "driver = webdriver.Chrome(service=Service('../Selenium/driver/chromedriver'), options = chrome_options)\n",
    "driver.get(url)"
   ]
  },
  {
   "cell_type": "markdown",
   "id": "c901b483",
   "metadata": {},
   "source": [
    "1. 구별 동작은 셀리니움 이용하고 그 다음 단계에서는 beautiful soup 이용 "
   ]
  },
  {
   "cell_type": "code",
   "execution_count": 30,
   "id": "f0af7744",
   "metadata": {},
   "outputs": [],
   "source": [
    "driver.find_element(By.CLASS_NAME, 'loca_search').click()\n",
    "## 지역 검색 클릭"
   ]
  },
  {
   "cell_type": "code",
   "execution_count": 31,
   "id": "570a4f45",
   "metadata": {},
   "outputs": [],
   "source": [
    "driver.find_elements(By.CLASS_NAME, 'set_sido_cd_btn')[0].click()"
   ]
  },
  {
   "cell_type": "code",
   "execution_count": 10,
   "id": "b45b526d",
   "metadata": {},
   "outputs": [],
   "source": [
    "si.click()"
   ]
  },
  {
   "cell_type": "code",
   "execution_count": 8,
   "id": "50a4b988",
   "metadata": {},
   "outputs": [],
   "source": [
    "seoul.click()\n",
    "## 서울 클릭 "
   ]
  },
  {
   "cell_type": "code",
   "execution_count": 55,
   "id": "cf01516c",
   "metadata": {},
   "outputs": [],
   "source": [
    "# gu = driver.find_elements(By.CLASS_NAME, 'set_gugun_cd_btn')\n",
    "gu =driver.find_elements(By.CLASS_NAME, 'set_gugun_cd_btn')[1].click() ## 구 군 클릭하는 코드 \n"
   ]
  },
  {
   "cell_type": "code",
   "execution_count": 47,
   "id": "2c147c5e",
   "metadata": {},
   "outputs": [
    {
     "data": {
      "text/plain": [
       "'강남구'"
      ]
     },
     "execution_count": 47,
     "metadata": {},
     "output_type": "execute_result"
    }
   ],
   "source": [
    "gu[1].text"
   ]
  },
  {
   "cell_type": "code",
   "execution_count": 60,
   "id": "4bf2e016",
   "metadata": {},
   "outputs": [],
   "source": [
    "store = driver.find_element(By.CLASS_NAME, 'quickSearchResultBoxSidoGugun')"
   ]
  },
  {
   "cell_type": "code",
   "execution_count": 63,
   "id": "34dbc651",
   "metadata": {},
   "outputs": [],
   "source": [
    "store = store.find_elements(By.CLASS_NAME, 'quickResultLstCon')"
   ]
  },
  {
   "cell_type": "code",
   "execution_count": 65,
   "id": "baff668f",
   "metadata": {},
   "outputs": [
    {
     "data": {
      "text/plain": [
       "89"
      ]
     },
     "execution_count": 65,
     "metadata": {},
     "output_type": "execute_result"
    }
   ],
   "source": [
    "len(store)"
   ]
  },
  {
   "cell_type": "code",
   "execution_count": null,
   "id": "a39a7ad3",
   "metadata": {},
   "outputs": [],
   "source": [
    "for i in range(len(:\n",
    "    "
   ]
  },
  {
   "cell_type": "code",
   "execution_count": 42,
   "id": "98ae01c5",
   "metadata": {},
   "outputs": [],
   "source": [
    "# gu_name_list = []\n",
    "# for i in range(len(gu)):\n",
    "#     gu_name = gu[i].text\n",
    "#     gu_name_list.append(gu_name)"
   ]
  },
  {
   "cell_type": "code",
   "execution_count": null,
   "id": "2fce767c",
   "metadata": {},
   "outputs": [],
   "source": [
    "## gu_name만 따로 빼서 리스트 만들기 "
   ]
  },
  {
   "cell_type": "code",
   "execution_count": 43,
   "id": "cd52d864",
   "metadata": {},
   "outputs": [
    {
     "data": {
      "text/plain": [
       "['전체',\n",
       " '강남구',\n",
       " '강동구',\n",
       " '강북구',\n",
       " '강서구',\n",
       " '관악구',\n",
       " '광진구',\n",
       " '구로구',\n",
       " '금천구',\n",
       " '노원구',\n",
       " '도봉구',\n",
       " '동대문구',\n",
       " '동작구',\n",
       " '마포구',\n",
       " '서대문구',\n",
       " '서초구',\n",
       " '',\n",
       " '',\n",
       " '',\n",
       " '',\n",
       " '',\n",
       " '',\n",
       " '',\n",
       " '',\n",
       " '',\n",
       " '']"
      ]
     },
     "execution_count": 43,
     "metadata": {},
     "output_type": "execute_result"
    }
   ],
   "source": [
    "# gu_name_list"
   ]
  },
  {
   "cell_type": "markdown",
   "id": "aa94062a",
   "metadata": {},
   "source": [
    "지역검색 -> 서울 -> 구선택 \n",
    "지역검색 -> 서울 -> 구선택 "
   ]
  },
  {
   "cell_type": "code",
   "execution_count": 34,
   "id": "514b6aa1",
   "metadata": {},
   "outputs": [
    {
     "name": "stdout",
     "output_type": "stream",
     "text": [
      ",,\n",
      ",,\n",
      ",,\n",
      ",,\n",
      ",,\n",
      ",,\n",
      ",,\n",
      ",,\n",
      ",,\n",
      ",,\n",
      ",,\n",
      ",,\n",
      ",,\n",
      ",,\n",
      ",,\n",
      ",,\n",
      ",,\n",
      ",,\n",
      ",,\n",
      ",,\n",
      ",,\n",
      ",,\n",
      ",,\n",
      ",,\n",
      ",,\n"
     ]
    }
   ],
   "source": [
    "for i in range(25):\n",
    "    driver.find_element(By.CLASS_NAME, 'loca_search').click() ## 지역검색 클릭\n",
    "    print(',,')\n",
    "    driver.find_elements(By.CLASS_NAME, 'set_sido_cd_btn')[0].click ## 서울 클릭\n",
    "    \n",
    "    driver.find_elements(By.CLASS_NAME, 'set_gugun_cd_btn')[i+1].click ## "
   ]
  },
  {
   "cell_type": "code",
   "execution_count": 66,
   "id": "3686c153",
   "metadata": {},
   "outputs": [],
   "source": [
    "store[0].click()"
   ]
  },
  {
   "cell_type": "code",
   "execution_count": 68,
   "id": "71f0e1a4",
   "metadata": {},
   "outputs": [],
   "source": [
    "store_gu = driver.find_element(By.CLASS_NAME, 'gugunSelectName').text"
   ]
  },
  {
   "cell_type": "code",
   "execution_count": 69,
   "id": "c9f1f9e6",
   "metadata": {},
   "outputs": [
    {
     "data": {
      "text/plain": [
       "'서울 강남구'"
      ]
     },
     "execution_count": 69,
     "metadata": {},
     "output_type": "execute_result"
    }
   ],
   "source": [
    "store_gu"
   ]
  },
  {
   "cell_type": "code",
   "execution_count": 74,
   "id": "c56c2b75",
   "metadata": {},
   "outputs": [],
   "source": [
    "store_addr = driver.find_element(By.CLASS_NAME, 'cont_wrap')"
   ]
  },
  {
   "cell_type": "code",
   "execution_count": 76,
   "id": "e34e0b12",
   "metadata": {},
   "outputs": [],
   "source": [
    "store_addr = store_addr.find_element(By.CLASS_NAME , 'addr').text"
   ]
  },
  {
   "cell_type": "code",
   "execution_count": 77,
   "id": "a152bbf6",
   "metadata": {},
   "outputs": [
    {
     "data": {
      "text/plain": [
       "'서울특별시 강남구 역삼로 310 (역삼동)'"
      ]
     },
     "execution_count": 77,
     "metadata": {},
     "output_type": "execute_result"
    }
   ],
   "source": [
    "store_addr"
   ]
  },
  {
   "cell_type": "code",
   "execution_count": 78,
   "id": "95cdd7f0",
   "metadata": {},
   "outputs": [],
   "source": [
    "store_name = driver.find_element(By.CLASS_NAME,'map_marker_pop')"
   ]
  },
  {
   "cell_type": "code",
   "execution_count": 79,
   "id": "2f2dbcc0",
   "metadata": {},
   "outputs": [],
   "source": [
    "store_name = store_name.find_element(By.TAG_NAME, 'header').text"
   ]
  },
  {
   "cell_type": "code",
   "execution_count": 80,
   "id": "715ae9f6",
   "metadata": {},
   "outputs": [
    {
     "data": {
      "text/plain": [
       "'역삼이마트'"
      ]
     },
     "execution_count": 80,
     "metadata": {},
     "output_type": "execute_result"
    }
   ],
   "source": [
    "store_name"
   ]
  },
  {
   "cell_type": "code",
   "execution_count": null,
   "id": "d019c782",
   "metadata": {},
   "outputs": [],
   "source": []
  }
 ],
 "metadata": {
  "kernelspec": {
   "display_name": "Python 3 (ipykernel)",
   "language": "python",
   "name": "python3"
  },
  "language_info": {
   "codemirror_mode": {
    "name": "ipython",
    "version": 3
   },
   "file_extension": ".py",
   "mimetype": "text/x-python",
   "name": "python",
   "nbconvert_exporter": "python",
   "pygments_lexer": "ipython3",
   "version": "3.8.10"
  }
 },
 "nbformat": 4,
 "nbformat_minor": 5
}
